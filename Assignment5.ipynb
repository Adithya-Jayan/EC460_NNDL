{
 "cells": [
  {
   "cell_type": "markdown",
   "metadata": {},
   "source": [
    "## Assignment 5:1D CNN,  RNNs  and 2D CNN  with Applications \n",
    "### Adithya Jayan 181EC102 | Anvith M 181EC105"
   ]
  },
  {
   "cell_type": "markdown",
   "metadata": {},
   "source": [
    "###### Importing libraries"
   ]
  },
  {
   "cell_type": "code",
   "execution_count": 1,
   "metadata": {},
   "outputs": [],
   "source": [
    "import numpy as np\n",
    "import keras\n",
    "import pandas as pd\n",
    "import tqdm.notebook as tqdm\n",
    "from tqdm.keras import TqdmCallback\n",
    "from sklearn.utils import shuffle\n",
    "import matplotlib.pyplot as plt\n",
    "import tensorflow as tf\n",
    "from keras import backend as K\n",
    "import tensorflow_addons as tfa\n",
    "from sklearn.model_selection import train_test_split\n",
    "%load_ext tensorboard"
   ]
  },
  {
   "cell_type": "markdown",
   "metadata": {},
   "source": [
    "##### Q. 1. Build a  1D CNN model from scratch to recognize human activity using HAR dataset  (https://archive.ics.uci.edu/ml/datasets/human+activity+recognition+using+smartphones) (split dataset into training dataset (80%) and  testing dataset (20%) ). For implementation, use a Stochastic gradient descent algorithm to learn model with parameters for α = 0.01 and random parameters of the CNN model for Focal loss function\n",
    "- (i)Visualize HAR dataset\n",
    "- (ii) Plot a comparative loss curve for at least 200 epochs.\n",
    "- (iii)Print confusion matrix, calculate classification metrics such as precision, recall, f1-score and accuracy on test dataset and ROC curve\n",
    "- (iv)  Implement above 1D CNN model with Keras Library and verify the above results. "
   ]
  },
  {
   "cell_type": "markdown",
   "metadata": {},
   "source": [
    "###### Read data"
   ]
  },
  {
   "cell_type": "code",
   "execution_count": 2,
   "metadata": {},
   "outputs": [
    {
     "name": "stdout",
     "output_type": "stream",
     "text": [
      "<class 'pandas.core.frame.DataFrame'>\n",
      "RangeIndex: 7352 entries, 0 to 7351\n",
      "Columns: 561 entries, 0 to 560\n",
      "dtypes: float64(561)\n",
      "memory usage: 31.5 MB\n",
      "None\n"
     ]
    },
    {
     "data": {
      "text/html": [
       "<div>\n",
       "<style scoped>\n",
       "    .dataframe tbody tr th:only-of-type {\n",
       "        vertical-align: middle;\n",
       "    }\n",
       "\n",
       "    .dataframe tbody tr th {\n",
       "        vertical-align: top;\n",
       "    }\n",
       "\n",
       "    .dataframe thead th {\n",
       "        text-align: right;\n",
       "    }\n",
       "</style>\n",
       "<table border=\"1\" class=\"dataframe\">\n",
       "  <thead>\n",
       "    <tr style=\"text-align: right;\">\n",
       "      <th></th>\n",
       "      <th>0</th>\n",
       "      <th>1</th>\n",
       "      <th>2</th>\n",
       "      <th>3</th>\n",
       "      <th>4</th>\n",
       "      <th>5</th>\n",
       "      <th>6</th>\n",
       "      <th>7</th>\n",
       "      <th>8</th>\n",
       "      <th>9</th>\n",
       "      <th>...</th>\n",
       "      <th>551</th>\n",
       "      <th>552</th>\n",
       "      <th>553</th>\n",
       "      <th>554</th>\n",
       "      <th>555</th>\n",
       "      <th>556</th>\n",
       "      <th>557</th>\n",
       "      <th>558</th>\n",
       "      <th>559</th>\n",
       "      <th>560</th>\n",
       "    </tr>\n",
       "  </thead>\n",
       "  <tbody>\n",
       "    <tr>\n",
       "      <th>0</th>\n",
       "      <td>0.288585</td>\n",
       "      <td>-0.020294</td>\n",
       "      <td>-0.132905</td>\n",
       "      <td>-0.995279</td>\n",
       "      <td>-0.983111</td>\n",
       "      <td>-0.913526</td>\n",
       "      <td>-0.995112</td>\n",
       "      <td>-0.983185</td>\n",
       "      <td>-0.923527</td>\n",
       "      <td>-0.934724</td>\n",
       "      <td>...</td>\n",
       "      <td>-0.074323</td>\n",
       "      <td>-0.298676</td>\n",
       "      <td>-0.710304</td>\n",
       "      <td>-0.112754</td>\n",
       "      <td>0.030400</td>\n",
       "      <td>-0.464761</td>\n",
       "      <td>-0.018446</td>\n",
       "      <td>-0.841247</td>\n",
       "      <td>0.179941</td>\n",
       "      <td>-0.058627</td>\n",
       "    </tr>\n",
       "    <tr>\n",
       "      <th>1</th>\n",
       "      <td>0.278419</td>\n",
       "      <td>-0.016411</td>\n",
       "      <td>-0.123520</td>\n",
       "      <td>-0.998245</td>\n",
       "      <td>-0.975300</td>\n",
       "      <td>-0.960322</td>\n",
       "      <td>-0.998807</td>\n",
       "      <td>-0.974914</td>\n",
       "      <td>-0.957686</td>\n",
       "      <td>-0.943068</td>\n",
       "      <td>...</td>\n",
       "      <td>0.158075</td>\n",
       "      <td>-0.595051</td>\n",
       "      <td>-0.861499</td>\n",
       "      <td>0.053477</td>\n",
       "      <td>-0.007435</td>\n",
       "      <td>-0.732626</td>\n",
       "      <td>0.703511</td>\n",
       "      <td>-0.844788</td>\n",
       "      <td>0.180289</td>\n",
       "      <td>-0.054317</td>\n",
       "    </tr>\n",
       "    <tr>\n",
       "      <th>2</th>\n",
       "      <td>0.279653</td>\n",
       "      <td>-0.019467</td>\n",
       "      <td>-0.113462</td>\n",
       "      <td>-0.995380</td>\n",
       "      <td>-0.967187</td>\n",
       "      <td>-0.978944</td>\n",
       "      <td>-0.996520</td>\n",
       "      <td>-0.963668</td>\n",
       "      <td>-0.977469</td>\n",
       "      <td>-0.938692</td>\n",
       "      <td>...</td>\n",
       "      <td>0.414503</td>\n",
       "      <td>-0.390748</td>\n",
       "      <td>-0.760104</td>\n",
       "      <td>-0.118559</td>\n",
       "      <td>0.177899</td>\n",
       "      <td>0.100699</td>\n",
       "      <td>0.808529</td>\n",
       "      <td>-0.848933</td>\n",
       "      <td>0.180637</td>\n",
       "      <td>-0.049118</td>\n",
       "    </tr>\n",
       "    <tr>\n",
       "      <th>3</th>\n",
       "      <td>0.279174</td>\n",
       "      <td>-0.026201</td>\n",
       "      <td>-0.123283</td>\n",
       "      <td>-0.996091</td>\n",
       "      <td>-0.983403</td>\n",
       "      <td>-0.990675</td>\n",
       "      <td>-0.997099</td>\n",
       "      <td>-0.982750</td>\n",
       "      <td>-0.989302</td>\n",
       "      <td>-0.938692</td>\n",
       "      <td>...</td>\n",
       "      <td>0.404573</td>\n",
       "      <td>-0.117290</td>\n",
       "      <td>-0.482845</td>\n",
       "      <td>-0.036788</td>\n",
       "      <td>-0.012892</td>\n",
       "      <td>0.640011</td>\n",
       "      <td>-0.485366</td>\n",
       "      <td>-0.848649</td>\n",
       "      <td>0.181935</td>\n",
       "      <td>-0.047663</td>\n",
       "    </tr>\n",
       "    <tr>\n",
       "      <th>4</th>\n",
       "      <td>0.276629</td>\n",
       "      <td>-0.016570</td>\n",
       "      <td>-0.115362</td>\n",
       "      <td>-0.998139</td>\n",
       "      <td>-0.980817</td>\n",
       "      <td>-0.990482</td>\n",
       "      <td>-0.998321</td>\n",
       "      <td>-0.979672</td>\n",
       "      <td>-0.990441</td>\n",
       "      <td>-0.942469</td>\n",
       "      <td>...</td>\n",
       "      <td>0.087753</td>\n",
       "      <td>-0.351471</td>\n",
       "      <td>-0.699205</td>\n",
       "      <td>0.123320</td>\n",
       "      <td>0.122542</td>\n",
       "      <td>0.693578</td>\n",
       "      <td>-0.615971</td>\n",
       "      <td>-0.847865</td>\n",
       "      <td>0.185151</td>\n",
       "      <td>-0.043892</td>\n",
       "    </tr>\n",
       "  </tbody>\n",
       "</table>\n",
       "<p>5 rows × 561 columns</p>\n",
       "</div>"
      ],
      "text/plain": [
       "        0         1         2         3         4         5         6    \\\n",
       "0  0.288585 -0.020294 -0.132905 -0.995279 -0.983111 -0.913526 -0.995112   \n",
       "1  0.278419 -0.016411 -0.123520 -0.998245 -0.975300 -0.960322 -0.998807   \n",
       "2  0.279653 -0.019467 -0.113462 -0.995380 -0.967187 -0.978944 -0.996520   \n",
       "3  0.279174 -0.026201 -0.123283 -0.996091 -0.983403 -0.990675 -0.997099   \n",
       "4  0.276629 -0.016570 -0.115362 -0.998139 -0.980817 -0.990482 -0.998321   \n",
       "\n",
       "        7         8         9    ...       551       552       553       554  \\\n",
       "0 -0.983185 -0.923527 -0.934724  ... -0.074323 -0.298676 -0.710304 -0.112754   \n",
       "1 -0.974914 -0.957686 -0.943068  ...  0.158075 -0.595051 -0.861499  0.053477   \n",
       "2 -0.963668 -0.977469 -0.938692  ...  0.414503 -0.390748 -0.760104 -0.118559   \n",
       "3 -0.982750 -0.989302 -0.938692  ...  0.404573 -0.117290 -0.482845 -0.036788   \n",
       "4 -0.979672 -0.990441 -0.942469  ...  0.087753 -0.351471 -0.699205  0.123320   \n",
       "\n",
       "        555       556       557       558       559       560  \n",
       "0  0.030400 -0.464761 -0.018446 -0.841247  0.179941 -0.058627  \n",
       "1 -0.007435 -0.732626  0.703511 -0.844788  0.180289 -0.054317  \n",
       "2  0.177899  0.100699  0.808529 -0.848933  0.180637 -0.049118  \n",
       "3 -0.012892  0.640011 -0.485366 -0.848649  0.181935 -0.047663  \n",
       "4  0.122542  0.693578 -0.615971 -0.847865  0.185151 -0.043892  \n",
       "\n",
       "[5 rows x 561 columns]"
      ]
     },
     "execution_count": 2,
     "metadata": {},
     "output_type": "execute_result"
    }
   ],
   "source": [
    "path = \"Data/UCI HAR Dataset/UCI HAR Dataset/\"\n",
    "x_train = pd.read_csv(path+'train/X_train.txt',header=None,delim_whitespace=True)\n",
    "y_train = pd.read_csv(path+'train/Y_train.txt',header=None,delim_whitespace=True)\n",
    "x_test = pd.read_csv(path+'test/X_test.txt',header=None,delim_whitespace=True)\n",
    "y_test = pd.read_csv(path+'test/Y_test.txt',header=None,delim_whitespace=True)\n",
    "print(x_train.info())\n",
    "x_train.head()"
   ]
  },
  {
   "cell_type": "code",
   "execution_count": 3,
   "metadata": {},
   "outputs": [
    {
     "name": "stdout",
     "output_type": "stream",
     "text": [
      "<class 'pandas.core.frame.DataFrame'>\n",
      "RangeIndex: 7352 entries, 0 to 7351\n",
      "Data columns (total 1 columns):\n",
      " #   Column  Non-Null Count  Dtype\n",
      "---  ------  --------------  -----\n",
      " 0   0       7352 non-null   int64\n",
      "dtypes: int64(1)\n",
      "memory usage: 57.6 KB\n",
      "None\n"
     ]
    },
    {
     "data": {
      "text/html": [
       "<div>\n",
       "<style scoped>\n",
       "    .dataframe tbody tr th:only-of-type {\n",
       "        vertical-align: middle;\n",
       "    }\n",
       "\n",
       "    .dataframe tbody tr th {\n",
       "        vertical-align: top;\n",
       "    }\n",
       "\n",
       "    .dataframe thead th {\n",
       "        text-align: right;\n",
       "    }\n",
       "</style>\n",
       "<table border=\"1\" class=\"dataframe\">\n",
       "  <thead>\n",
       "    <tr style=\"text-align: right;\">\n",
       "      <th></th>\n",
       "      <th>0</th>\n",
       "    </tr>\n",
       "  </thead>\n",
       "  <tbody>\n",
       "    <tr>\n",
       "      <th>0</th>\n",
       "      <td>5</td>\n",
       "    </tr>\n",
       "    <tr>\n",
       "      <th>1</th>\n",
       "      <td>5</td>\n",
       "    </tr>\n",
       "    <tr>\n",
       "      <th>2</th>\n",
       "      <td>5</td>\n",
       "    </tr>\n",
       "    <tr>\n",
       "      <th>3</th>\n",
       "      <td>5</td>\n",
       "    </tr>\n",
       "    <tr>\n",
       "      <th>4</th>\n",
       "      <td>5</td>\n",
       "    </tr>\n",
       "    <tr>\n",
       "      <th>...</th>\n",
       "      <td>...</td>\n",
       "    </tr>\n",
       "    <tr>\n",
       "      <th>7347</th>\n",
       "      <td>2</td>\n",
       "    </tr>\n",
       "    <tr>\n",
       "      <th>7348</th>\n",
       "      <td>2</td>\n",
       "    </tr>\n",
       "    <tr>\n",
       "      <th>7349</th>\n",
       "      <td>2</td>\n",
       "    </tr>\n",
       "    <tr>\n",
       "      <th>7350</th>\n",
       "      <td>2</td>\n",
       "    </tr>\n",
       "    <tr>\n",
       "      <th>7351</th>\n",
       "      <td>2</td>\n",
       "    </tr>\n",
       "  </tbody>\n",
       "</table>\n",
       "<p>7352 rows × 1 columns</p>\n",
       "</div>"
      ],
      "text/plain": [
       "      0\n",
       "0     5\n",
       "1     5\n",
       "2     5\n",
       "3     5\n",
       "4     5\n",
       "...  ..\n",
       "7347  2\n",
       "7348  2\n",
       "7349  2\n",
       "7350  2\n",
       "7351  2\n",
       "\n",
       "[7352 rows x 1 columns]"
      ]
     },
     "execution_count": 3,
     "metadata": {},
     "output_type": "execute_result"
    }
   ],
   "source": [
    "print(y_train.info())\n",
    "y_train"
   ]
  },
  {
   "cell_type": "markdown",
   "metadata": {},
   "source": [
    "###### Define functions"
   ]
  },
  {
   "cell_type": "code",
   "execution_count": 4,
   "metadata": {},
   "outputs": [],
   "source": [
    "#Function for debugging\n",
    "def check_nan(Layer_name,**variables):\n",
    "    if any(np.isnan(val).any() for val in variables.values()):\n",
    "        print(\"************* nan detected at {}! *************\\n\".format(layer_name))\n",
    "        for key,value in variables.items():\n",
    "            print(\"Variable \",key,\":\")\n",
    "            print(value,\"\\n\")\n",
    "\n",
    "## Required layers\n",
    "\n",
    "# Conv2D (Used as 1D)\n",
    "class conv2d_layer:\n",
    "    def __init__(self,shape,n,anything_else = None):\n",
    "        self.w = np.random.rand(n,shape[0],shape[1],shape[2])/(np.product(shape)+1)\n",
    "        self.b = np.random.rand(n)/(np.product(shape)+1)\n",
    "        self.n = n\n",
    "        \n",
    "    def forward(self,Image):    \n",
    "        \n",
    "        if(len(Image.shape)==2):\n",
    "            Image=np.reshape(Image,(1,Image.shape[0],Image.shape[1]))\n",
    "            \n",
    "        x,y = Image[0].shape\n",
    "\n",
    "        _ , x_k , y_k = self.w[0].shape\n",
    "\n",
    "        out_x = x-x_k+1\n",
    "        out_y = y-y_k+1\n",
    "        \n",
    "        output = []\n",
    "        \n",
    "        for pos in range(self.n):\n",
    "            out = np.zeros((out_x,out_y))\n",
    "            \n",
    "            for i in range(out_x):\n",
    "                for j in range(out_y):\n",
    "                    out[i,j] = np.sum(Image[:,i:i+x_k,j:j+y_k]*self.w[pos]) + self.b[pos]\n",
    "            output = output + [out]\n",
    "        output = np.array(output)      \n",
    "            \n",
    "#         check_nan(Layer_name = \"conv2d_layer forward step\",\n",
    "#                   output = output,\n",
    "#                   Image = Image,\n",
    "#                   self_Weight = self.w,\n",
    "#                   self_Bias = self.b)\n",
    "        \n",
    "        return output\n",
    "    \n",
    "    def reverse(self,Image,Errors):\n",
    "        \n",
    "        if(len(Image.shape)==2):\n",
    "            Image=np.reshape(Image,(1,Image.shape[0],Image.shape[1]))\n",
    "            \n",
    "        x,y = Image[0].shape\n",
    "        _ ,x_k,y_k = self.w[0].shape\n",
    "        err_x,err_y = Errors[0].shape\n",
    "        \n",
    "        output = np.zeros_like(Image,Errors.dtype)\n",
    "        for layer in range(self.n):\n",
    "            for i in range(err_x):\n",
    "                for j in range(err_y):\n",
    "                    output[:,i:i+x_k,j:j+y_k] += Errors[layer,i,j]*self.w[layer]\n",
    "                    self.w[layer] = self.w[layer] - Errors[layer,i,j]*Image[:,i:i+x_k,j:j+y_k]\n",
    "                    self.b[layer] = self.b[layer] - Errors[layer,i,j]\n",
    "                \n",
    "#         check_nan(Layer_name = \"conv2d_layer reverse step\",\n",
    "#                   output = output,\n",
    "#                   Image = Image,\n",
    "#                   Errors = Errors,\n",
    "#                   Weights = self.w,\n",
    "#                   Bias = self.b)\n",
    "        \n",
    "        return output\n",
    "    \n",
    "    def display(self):\n",
    "        print(\"\\n**********Convolution Parameters**********\")\n",
    "        print(\"Weights are:\\n\", self.w)\n",
    "        print(\"Bias is:\\n \", self.b)\n",
    "        print(\"#Kernels is:\\n \", self.n)\n",
    "        \n",
    "# tanh\n",
    "class tanh:\n",
    "    \n",
    "    def forward(self,Input):\n",
    "        exp = np.exp(-2*Input)\n",
    "        output = (1-exp)/(1+exp)\n",
    "        \n",
    "#         check_nan(Layer_name = \"tanh forward step\",\n",
    "#           Input = Input,\n",
    "#           output = output)\n",
    "            \n",
    "        return output\n",
    "    \n",
    "    def reverse(self,Input,Errors):\n",
    "        der = 1-np.square(self.forward(Input))\n",
    "        output = der*Errors\n",
    "        \n",
    "#         check_nan(Layer_name = \"tanh reverse step\",\n",
    "#                   Input = Input,\n",
    "#                   Errors = Errors,\n",
    "#                   output = output,\n",
    "#                   der = der)\n",
    "        \n",
    "        return output\n",
    "    \n",
    "# AveragePooling2D (Used as 1D)\n",
    "class AveragePooling2D:\n",
    "    \n",
    "    def __init__(self,shape,stride,anything_else = None):\n",
    "        self.shape = shape\n",
    "        self.stride = stride\n",
    "        \n",
    "    def forward(self,Image):  \n",
    "        if(len(Image.shape)==2):\n",
    "            Image=np.reshape(Image,(1,Image.shape[0],Image.shape[1]))\n",
    "            \n",
    "        x,y = Image[0].shape\n",
    "        s=self.stride\n",
    "        x_k,y_k = self.shape\n",
    "        \n",
    "        out_x = (x-x_k)//s+1\n",
    "        out_y = (y-y_k)//s+1\n",
    "\n",
    "        output = []\n",
    "        for pos in range(Image.shape[0]):\n",
    "            \n",
    "            out = np.zeros((out_x,out_y))\n",
    "\n",
    "            for i in range(out_x):\n",
    "                for j in range(out_y):\n",
    "                    out[i,j] = np.mean(Image[0][i*s:i*s+x_k,j*s:j*s+y_k])\n",
    "            output = output + [out]\n",
    "            \n",
    "        output = np.array(output)\n",
    "        \n",
    "        return output\n",
    "    \n",
    "    def reverse(self,Image,Errors):\n",
    "        if(len(Image.shape)==2):\n",
    "            Image=np.reshape(Image,(1,Image.shape[0],Image.shape[1]))\n",
    "        \n",
    "        x,y = Image[0].shape\n",
    "        x_k,y_k = self.shape\n",
    "        err_x,err_y = Errors[0].shape\n",
    "            \n",
    "        output = []\n",
    "        for pos in range(Image.shape[0]):\n",
    "\n",
    "            out = np.zeros_like(Image[pos],Errors.dtype)\n",
    "\n",
    "            for i in range(err_x):\n",
    "                for j in range(err_y):\n",
    "                    out[i:i+x_k,j:j+y_k] += Errors[pos,i,j]/(x_k*y_k)\n",
    "            output = output + [out]\n",
    "        output = np.array(output)\n",
    "        return output\n",
    "    \n",
    "# Flatten\n",
    "class flatten():\n",
    "    \n",
    "    def forward(self,Image):\n",
    "        output = np.reshape(Image,np.product(Image.shape))\n",
    "        return output\n",
    "    \n",
    "    def reverse(self,Image,errors):\n",
    "        output = np.reshape(errors,Image.shape)\n",
    "        return output\n",
    "\n",
    "# Dense\n",
    "class fully_connected():\n",
    "    def __init__(self,input_size,n):\n",
    "        \n",
    "        self.w = np.random.rand(n,input_size)/(input_size+1)\n",
    "        self.b = np.random.rand(n)/(input_size+1)\n",
    "        self.n = n\n",
    "    \n",
    "    def forward(self,Input):\n",
    "        output = []\n",
    "        for layer in range(self.n):\n",
    "            out = np.dot(Input,self.w[layer]) + self.b[layer]\n",
    "            output = output + [out]\n",
    "        output = np.array(output)\n",
    "        return output\n",
    "    \n",
    "    def reverse(self,Input,errors):\n",
    "        \n",
    "        output = np.zeros_like(Input)\n",
    "        for layer in range(self.n):\n",
    "            self.w[layer] = self.w[layer] - errors[layer]*Input\n",
    "            self.b[layer] = self.b[layer] - errors[layer]\n",
    "            output = output + errors[layer]*self.w[layer]   \n",
    "        output = np.array(output)\n",
    "        return output\n",
    "    \n",
    "# softmax\n",
    "class softmax():\n",
    "    \n",
    "    def forward(self,Input):\n",
    "\n",
    "        Numerator = np.exp(Input)\n",
    "        output = Numerator/sum(Numerator)\n",
    "        \n",
    "        return (output)\n",
    "    \n",
    "    def reverse(self,Input,errors):\n",
    "            \n",
    "        Soft = self.forward(Input)\n",
    "        \n",
    "        Soft_list = np.array([list(Soft)] * len(Soft))\n",
    "        derivative = Soft_list.T*(np.identity(len(Soft)) - Soft_list)\n",
    "        \n",
    "        output = np.matmul(errors,derivative)\n",
    "        \n",
    "        return output\n",
    "\n",
    "def SoftmaxLoss(truth,predicted):\n",
    "    \n",
    "    loss = -1* np.sum(truth*np.log(predicted))\n",
    "    \n",
    "    Numerator = np.exp(predicted)\n",
    "    softmax = Numerator/sum(Numerator)\n",
    "        \n",
    "    grad = softmax\n",
    "    grad[truth == 1] = softmax[truth == 1] - 1\n",
    "    \n",
    "    return (loss,grad)\n",
    "# Must work for both adam as well as SGD algos"
   ]
  },
  {
   "cell_type": "markdown",
   "metadata": {},
   "source": [
    "###### Defining custom model"
   ]
  },
  {
   "cell_type": "code",
   "execution_count": 5,
   "metadata": {},
   "outputs": [],
   "source": [
    "Model = [] #Input = 1*561\n",
    "\n",
    "#Layer 0\n",
    "Model = Model + [conv2d_layer((1,10,1),50)] #Out = 50*552*1\n",
    "\n",
    "#Layer 1\n",
    "Model = Model + [tanh()] #Out = 50*552*1\n",
    "\n",
    "#Layer 2\n",
    "Model = Model + [AveragePooling2D((3,1),3)] #Out = (50, 184, 1)\n",
    "\n",
    "#Layer 3\n",
    "Model = Model + [conv2d_layer((50,5,1),16)] #Out = (16, 180, 1)\n",
    "\n",
    "#Layer 4\n",
    "Model = Model + [tanh()] #Out = (16, 180, 1)\n",
    "\n",
    "#Layer 5\n",
    "Model = Model + [AveragePooling2D((3,1),3)]# Out = (16, 60, 1)\n",
    "\n",
    "#Layer 6\n",
    "Model = Model + [conv2d_layer((16,5,1),1)] #Out = (1, 56, 1)\n",
    "\n",
    "#Layer 7\n",
    "Model = Model + [tanh()] #Out = (1, 56, 1)\n",
    "\n",
    "#Layer 8\n",
    "Model = Model + [flatten()] #Out = 56\n",
    "\n",
    "#Layer 9\n",
    "Model = Model + [fully_connected(56,6)] #Out = 6\n",
    "\n",
    "#Layer 10\n",
    "Model = Model + [tanh()] #Out = 6\n",
    "\n",
    "# #Layer 11\n",
    "# Model = Model + [fully_connected(6,6)] #Out = 10\n",
    "\n",
    "#Layer 12\n",
    "Model = Model + [softmax()] #Out = 6"
   ]
  },
  {
   "cell_type": "markdown",
   "metadata": {},
   "source": [
    "###### Training"
   ]
  },
  {
   "cell_type": "code",
   "execution_count": 6,
   "metadata": {},
   "outputs": [
    {
     "data": {
      "application/vnd.jupyter.widget-view+json": {
       "model_id": "083e804c365a46e9803444c4ea7d15ce",
       "version_major": 2,
       "version_minor": 0
      },
      "text/plain": [
       "HBox(children=(HTML(value='Epochs'), FloatProgress(value=0.0, max=3.0), HTML(value='')))"
      ]
     },
     "metadata": {},
     "output_type": "display_data"
    },
    {
     "data": {
      "application/vnd.jupyter.widget-view+json": {
       "model_id": "",
       "version_major": 2,
       "version_minor": 0
      },
      "text/plain": [
       "HBox(children=(HTML(value='Images'), FloatProgress(value=0.0, max=50.0), HTML(value='')))"
      ]
     },
     "metadata": {},
     "output_type": "display_data"
    },
    {
     "data": {
      "application/vnd.jupyter.widget-view+json": {
       "model_id": "",
       "version_major": 2,
       "version_minor": 0
      },
      "text/plain": [
       "HBox(children=(HTML(value='Images'), FloatProgress(value=0.0, max=50.0), HTML(value='')))"
      ]
     },
     "metadata": {},
     "output_type": "display_data"
    },
    {
     "data": {
      "application/vnd.jupyter.widget-view+json": {
       "model_id": "",
       "version_major": 2,
       "version_minor": 0
      },
      "text/plain": [
       "HBox(children=(HTML(value='Images'), FloatProgress(value=0.0, max=50.0), HTML(value='')))"
      ]
     },
     "metadata": {},
     "output_type": "display_data"
    },
    {
     "name": "stdout",
     "output_type": "stream",
     "text": [
      "\n"
     ]
    }
   ],
   "source": [
    "epochs = 3\n",
    "Recorded_loss = []\n",
    "Learning_rate = 0.01\n",
    "\n",
    "x_train,y_train = shuffle(x_train,y_train)\n",
    "\n",
    "x_train = np.array(x_train[:50])\n",
    "y_train = np.array(y_train[:50])\n",
    "\n",
    "\n",
    "n_layers = len(Model)\n",
    "for ep in tqdm.tqdm(range(epochs),leave=True,desc = \"Epochs\"):\n",
    "    \n",
    "    Data = tqdm.tqdm(zip(x_train,y_train),total = len(y_train),leave=False,desc = \"Images\")\n",
    "    \n",
    "    for Input_img,truth in Data:\n",
    "        truth_onehot = np.array([0]*6)\n",
    "        truth_onehot[truth-1] = 1\n",
    "        outputs = [np.reshape(Input_img,(1,Input_img.shape[0],1))]\n",
    "        \n",
    "        for i in range(n_layers):\n",
    "            out = Model[i].forward(outputs[-1])\n",
    "#             print(i,out.shape)\n",
    "#             print(out)\n",
    "            outputs += [out.copy()]\n",
    "            \n",
    "    \n",
    "        Loss, error = SoftmaxLoss(truth_onehot,outputs[-1])\n",
    "#         print(Loss,error)\n",
    "        error = error * Learning_rate\n",
    "        Recorded_loss += [Loss] \n",
    "        \n",
    "        Data.set_description(\"Current loss is: {}\".format(np.round(Loss,5)))\n",
    "        Data.refresh()\n",
    "        \n",
    "#         print(\"\\n\\nTruth:\\n\",truth_onehot,\"\\nPrediction:\\n\",outputs[-1])\n",
    "#         print(\"Epoch: \",ep ,\"\\nLoss:\",Loss)\n",
    "        \n",
    "        error = [error]\n",
    "        for i in range(n_layers-1,-1,-1):\n",
    "#             print(\"Reversing layer {}.\".format(i))\n",
    "            out = Model[i].reverse(outputs[i],error[-1])\n",
    "            error += [out.copy()]\n",
    "            \n",
    "#         error.reverse()\n",
    "#         for i in range(len(error)): \n",
    "#             print(\"\\n*******************Output of layer {} is:*******************\\n\\n\".format(i-1),outputs[i])\n",
    "#             print(\"\\n*******************Gradient entering layer {} output:*******************\\n\\n\".format(i-1),error[i])\n",
    "    \n",
    "    Data.set_description(\"Completed\")\n",
    "    Data.refresh()"
   ]
  },
  {
   "cell_type": "markdown",
   "metadata": {},
   "source": [
    "###### Plot loss"
   ]
  },
  {
   "cell_type": "code",
   "execution_count": 7,
   "metadata": {},
   "outputs": [
    {
     "data": {
      "text/plain": [
       "[<matplotlib.lines.Line2D at 0x1be29e07af0>]"
      ]
     },
     "execution_count": 7,
     "metadata": {},
     "output_type": "execute_result"
    },
    {
     "data": {
      "image/png": "[encoded data removed]",
      "text/plain": [
       "<Figure size 432x288 with 1 Axes>"
      ]
     },
     "metadata": {
      "needs_background": "light"
     },
     "output_type": "display_data"
    },
    {
     "data": {
      "image/png": "[encoded data removed]",
      "text/plain": [
       "<Figure size 432x288 with 1 Axes>"
      ]
     },
     "metadata": {
      "needs_background": "light"
     },
     "output_type": "display_data"
    }
   ],
   "source": [
    "plt.plot(Recorded_loss)\n",
    "plt.title(\"Error per image ('Stochastic')\")\n",
    "\n",
    "val = 15\n",
    "Avg_loss = []\n",
    "for i in range(len(Recorded_loss)-val):\n",
    "    Avg_loss +=  [np.mean(Recorded_loss[i:i+val])]\n",
    "\n",
    "plt.figure()\n",
    "plt.title(\"Loss after smoothing\")\n",
    "plt.plot(Avg_loss)"
   ]
  },
  {
   "cell_type": "markdown",
   "metadata": {},
   "source": [
    "###### Confusion matrix"
   ]
  },
  {
   "cell_type": "code",
   "execution_count": 8,
   "metadata": {},
   "outputs": [
    {
     "name": "stdout",
     "output_type": "stream",
     "text": [
      "[5 5 5 5 5 5 5 5 5 5 5 5 5 5 5 5 5 5 5 5 5 5 5 5 5 5 5 5 5 5 5 4 4 4 4 4 4\n",
      " 4 4 4 4 4 4 4 4 4 4 4 4 4]\n"
     ]
    },
    {
     "data": {
      "application/vnd.jupyter.widget-view+json": {
       "model_id": "324694663c5f48b3a7238fa9223266d7",
       "version_major": 2,
       "version_minor": 0
      },
      "text/plain": [
       "HBox(children=(HTML(value=''), FloatProgress(value=0.0, max=50.0), HTML(value='')))"
      ]
     },
     "metadata": {},
     "output_type": "display_data"
    },
    {
     "name": "stdout",
     "output_type": "stream",
     "text": [
      "\n"
     ]
    },
    {
     "data": {
      "text/html": [
       "<div>\n",
       "<style scoped>\n",
       "    .dataframe tbody tr th:only-of-type {\n",
       "        vertical-align: middle;\n",
       "    }\n",
       "\n",
       "    .dataframe tbody tr th {\n",
       "        vertical-align: top;\n",
       "    }\n",
       "\n",
       "    .dataframe thead th {\n",
       "        text-align: right;\n",
       "    }\n",
       "</style>\n",
       "<table border=\"1\" class=\"dataframe\">\n",
       "  <thead>\n",
       "    <tr style=\"text-align: right;\">\n",
       "      <th>Predicted</th>\n",
       "      <th>5</th>\n",
       "    </tr>\n",
       "    <tr>\n",
       "      <th>Actual</th>\n",
       "      <th></th>\n",
       "    </tr>\n",
       "  </thead>\n",
       "  <tbody>\n",
       "    <tr>\n",
       "      <th>4</th>\n",
       "      <td>19</td>\n",
       "    </tr>\n",
       "    <tr>\n",
       "      <th>5</th>\n",
       "      <td>31</td>\n",
       "    </tr>\n",
       "  </tbody>\n",
       "</table>\n",
       "</div>"
      ],
      "text/plain": [
       "Predicted   5\n",
       "Actual       \n",
       "4          19\n",
       "5          31"
      ]
     },
     "execution_count": 8,
     "metadata": {},
     "output_type": "execute_result"
    }
   ],
   "source": [
    "#Display confusion Matrix\n",
    "\n",
    "prediction = []\n",
    "\n",
    "test_set = np.array(x_test[0:50])\n",
    "y_test = np.array(y_test[0:50])\n",
    "y_test = np.reshape(y_test,y_test.shape[0])\n",
    "print(y_test)\n",
    "for Input_img in tqdm.tqdm(test_set,total = len(test_set)):\n",
    "    outputs = [np.reshape(Input_img,(1,Input_img.shape[0],1))]\n",
    "    for i in range(n_layers):\n",
    "        out = Model[i].forward(outputs[-1])\n",
    "        outputs += [out.copy()]\n",
    "    prediction += [np.argmax(out)]\n",
    "    \n",
    "y_actu = pd.Series(y_test, name='Actual')\n",
    "y_pred = pd.Series(prediction, name='Predicted')\n",
    "df_confusion = pd.crosstab(y_actu, y_pred)\n",
    "df_confusion"
   ]
  },
  {
   "cell_type": "markdown",
   "metadata": {},
   "source": [
    "##### Q2. Python Implementation  of LSTM  from scratch  for   Binary to  Octal  conversion. "
   ]
  },
  {
   "cell_type": "markdown",
   "metadata": {},
   "source": [
    "###### Create data"
   ]
  },
  {
   "cell_type": "code",
   "execution_count": 9,
   "metadata": {},
   "outputs": [],
   "source": [
    "temp = [np.random.randint(1023) for i in range(1000)]\n",
    "x = np.array([[[int(j)] for j in '{0:010b}'.format(i)] for i in temp])\n",
    "y = np.array([[[int(j)] for j in '{0:04o}'.format(i)] for i in temp])"
   ]
  },
  {
   "cell_type": "code",
   "execution_count": 10,
   "metadata": {},
   "outputs": [
    {
     "name": "stdout",
     "output_type": "stream",
     "text": [
      "(1000, 10, 1) (1000, 4, 1)\n"
     ]
    }
   ],
   "source": [
    "print(x.shape,y.shape)"
   ]
  },
  {
   "cell_type": "markdown",
   "metadata": {},
   "source": [
    "###### Define and train model"
   ]
  },
  {
   "cell_type": "code",
   "execution_count": 11,
   "metadata": {},
   "outputs": [],
   "source": [
    "keras.backend.clear_session()"
   ]
  },
  {
   "cell_type": "code",
   "execution_count": 12,
   "metadata": {},
   "outputs": [
    {
     "data": {
      "application/vnd.jupyter.widget-view+json": {
       "model_id": "32e08274e7ee401a92291bff09b8cf54",
       "version_major": 2,
       "version_minor": 0
      },
      "text/plain": [
       "HBox(children=(HTML(value=''), FloatProgress(value=1.0, bar_style='info', layout=Layout(width='20px'), max=1.0…"
      ]
     },
     "metadata": {},
     "output_type": "display_data"
    },
    {
     "data": {
      "application/vnd.jupyter.widget-view+json": {
       "model_id": "",
       "version_major": 2,
       "version_minor": 0
      },
      "text/plain": [
       "HBox(children=(HTML(value=''), FloatProgress(value=1.0, bar_style='info', layout=Layout(width='20px'), max=1.0…"
      ]
     },
     "metadata": {},
     "output_type": "display_data"
    },
    {
     "name": "stdout",
     "output_type": "stream",
     "text": [
      "\n"
     ]
    },
    {
     "data": {
      "text/plain": [
       "<keras.callbacks.History at 0x1be2a37dfa0>"
      ]
     },
     "execution_count": 12,
     "metadata": {},
     "output_type": "execute_result"
    }
   ],
   "source": [
    "# create and fit the LSTM network\n",
    "\n",
    "model = keras.models.Sequential()\n",
    "model.add(keras.layers.LSTM(10, input_shape=(10,1)))\n",
    "model.add(keras.layers.Dense(10,activation =\"tanh\"))\n",
    "model.add(keras.layers.Dense(4))\n",
    "\n",
    "model.compile(loss='mean_squared_error', optimizer='adam')\n",
    "model.fit(x, y, epochs=100, batch_size=1,  verbose=0,callbacks=[TqdmCallback(verbose=1)])"
   ]
  },
  {
   "cell_type": "markdown",
   "metadata": {},
   "source": [
    "###### Test model manually"
   ]
  },
  {
   "cell_type": "code",
   "execution_count": 13,
   "metadata": {},
   "outputs": [
    {
     "name": "stdout",
     "output_type": "stream",
     "text": [
      "Binary:  [[[0]\n",
      "  [0]\n",
      "  [0]\n",
      "  [0]\n",
      "  [0]\n",
      "  [0]\n",
      "  [0]\n",
      "  [1]\n",
      "  [1]\n",
      "  [0]]]\n",
      "Octal:  [ 0. -0.  0.  6.]\n"
     ]
    }
   ],
   "source": [
    "test = np.array([[[0],[0],[0],[0],[0],[0],[0],[1],[1],[0]]])\n",
    "print(\"Binary: \",test)\n",
    "prediction = model.predict(test)\n",
    "print(\"Octal: \",np.round(prediction[0]))"
   ]
  },
  {
   "cell_type": "markdown",
   "metadata": {},
   "source": [
    "##### Q.3. Implement A CNN-RNN (LSTM)Framework  using  (Keras/Tensorflow/Pytorch) for CropYield Prediction (reference  paper, and dataset attached and other related  dataset is available at https://github.com/saeedkhaki92/CNN-RNN-Yield-Prediction) . For implementation, use a Stochastic gradient descent algorithm to learn model with parameters for α = 0.01 and random parameters of the CNN model for  RMSE as l loss function\n",
    "- (i) Plot a comparative loss curve for at least 100 epochs.\n",
    "- (ii) Compare  for Soybean  and Corn  yield prediction performance (RMSE and Correlation Coefﬁcient)  for years 2016, 2017,and 2018 of 1D CNN, RNN(LSTM), and CNN- RNN(LSTM)\n"
   ]
  },
  {
   "cell_type": "markdown",
   "metadata": {},
   "source": [
    "###### Read data"
   ]
  },
  {
   "cell_type": "code",
   "execution_count": 14,
   "metadata": {},
   "outputs": [
    {
     "name": "stdout",
     "output_type": "stream",
     "text": [
      "<class 'pandas.core.frame.DataFrame'>\n",
      "RangeIndex: 1499 entries, 0 to 1498\n",
      "Columns: 397 entries, loc_ID to P_16\n",
      "dtypes: float64(358), int64(39)\n",
      "memory usage: 4.5 MB\n",
      "None\n"
     ]
    },
    {
     "data": {
      "text/html": [
       "<div>\n",
       "<style scoped>\n",
       "    .dataframe tbody tr th:only-of-type {\n",
       "        vertical-align: middle;\n",
       "    }\n",
       "\n",
       "    .dataframe tbody tr th {\n",
       "        vertical-align: top;\n",
       "    }\n",
       "\n",
       "    .dataframe thead th {\n",
       "        text-align: right;\n",
       "    }\n",
       "</style>\n",
       "<table border=\"1\" class=\"dataframe\">\n",
       "  <thead>\n",
       "    <tr style=\"text-align: right;\">\n",
       "      <th></th>\n",
       "      <th>loc_ID</th>\n",
       "      <th>year</th>\n",
       "      <th>yield</th>\n",
       "      <th>W_1_1</th>\n",
       "      <th>W_1_2</th>\n",
       "      <th>W_1_3</th>\n",
       "      <th>W_1_4</th>\n",
       "      <th>W_1_5</th>\n",
       "      <th>W_1_6</th>\n",
       "      <th>W_1_7</th>\n",
       "      <th>...</th>\n",
       "      <th>P_7</th>\n",
       "      <th>P_8</th>\n",
       "      <th>P_9</th>\n",
       "      <th>P_10</th>\n",
       "      <th>P_11</th>\n",
       "      <th>P_12</th>\n",
       "      <th>P_13</th>\n",
       "      <th>P_14</th>\n",
       "      <th>P_15</th>\n",
       "      <th>P_16</th>\n",
       "    </tr>\n",
       "  </thead>\n",
       "  <tbody>\n",
       "    <tr>\n",
       "      <th>0</th>\n",
       "      <td>0</td>\n",
       "      <td>1980</td>\n",
       "      <td>82.0</td>\n",
       "      <td>0.274725</td>\n",
       "      <td>0.000000</td>\n",
       "      <td>1.615385</td>\n",
       "      <td>0.395604</td>\n",
       "      <td>0.967033</td>\n",
       "      <td>0.736264</td>\n",
       "      <td>1.153846</td>\n",
       "      <td>...</td>\n",
       "      <td>38</td>\n",
       "      <td>40</td>\n",
       "      <td>8</td>\n",
       "      <td>4</td>\n",
       "      <td>0</td>\n",
       "      <td>0</td>\n",
       "      <td>0</td>\n",
       "      <td>0</td>\n",
       "      <td>0</td>\n",
       "      <td>0</td>\n",
       "    </tr>\n",
       "    <tr>\n",
       "      <th>1</th>\n",
       "      <td>0</td>\n",
       "      <td>1981</td>\n",
       "      <td>116.0</td>\n",
       "      <td>0.604396</td>\n",
       "      <td>0.000000</td>\n",
       "      <td>0.043956</td>\n",
       "      <td>0.000000</td>\n",
       "      <td>0.857143</td>\n",
       "      <td>1.824176</td>\n",
       "      <td>0.000000</td>\n",
       "      <td>...</td>\n",
       "      <td>13</td>\n",
       "      <td>30</td>\n",
       "      <td>16</td>\n",
       "      <td>11</td>\n",
       "      <td>12</td>\n",
       "      <td>7</td>\n",
       "      <td>3</td>\n",
       "      <td>0</td>\n",
       "      <td>0</td>\n",
       "      <td>0</td>\n",
       "    </tr>\n",
       "    <tr>\n",
       "      <th>2</th>\n",
       "      <td>0</td>\n",
       "      <td>1982</td>\n",
       "      <td>124.0</td>\n",
       "      <td>2.098901</td>\n",
       "      <td>0.384615</td>\n",
       "      <td>1.681319</td>\n",
       "      <td>0.527473</td>\n",
       "      <td>6.340659</td>\n",
       "      <td>1.593407</td>\n",
       "      <td>1.868132</td>\n",
       "      <td>...</td>\n",
       "      <td>47</td>\n",
       "      <td>14</td>\n",
       "      <td>5</td>\n",
       "      <td>2</td>\n",
       "      <td>1</td>\n",
       "      <td>0</td>\n",
       "      <td>0</td>\n",
       "      <td>0</td>\n",
       "      <td>0</td>\n",
       "      <td>0</td>\n",
       "    </tr>\n",
       "    <tr>\n",
       "      <th>3</th>\n",
       "      <td>0</td>\n",
       "      <td>1983</td>\n",
       "      <td>46.0</td>\n",
       "      <td>0.000000</td>\n",
       "      <td>0.000000</td>\n",
       "      <td>0.000000</td>\n",
       "      <td>1.032967</td>\n",
       "      <td>4.373626</td>\n",
       "      <td>0.351648</td>\n",
       "      <td>0.263736</td>\n",
       "      <td>...</td>\n",
       "      <td>11</td>\n",
       "      <td>24</td>\n",
       "      <td>22</td>\n",
       "      <td>17</td>\n",
       "      <td>6</td>\n",
       "      <td>5</td>\n",
       "      <td>3</td>\n",
       "      <td>0</td>\n",
       "      <td>0</td>\n",
       "      <td>0</td>\n",
       "    </tr>\n",
       "    <tr>\n",
       "      <th>4</th>\n",
       "      <td>0</td>\n",
       "      <td>1984</td>\n",
       "      <td>103.0</td>\n",
       "      <td>0.000000</td>\n",
       "      <td>0.043956</td>\n",
       "      <td>0.197802</td>\n",
       "      <td>0.461538</td>\n",
       "      <td>0.142857</td>\n",
       "      <td>0.670330</td>\n",
       "      <td>4.615385</td>\n",
       "      <td>...</td>\n",
       "      <td>6</td>\n",
       "      <td>35</td>\n",
       "      <td>33</td>\n",
       "      <td>10</td>\n",
       "      <td>4</td>\n",
       "      <td>8</td>\n",
       "      <td>0</td>\n",
       "      <td>0</td>\n",
       "      <td>0</td>\n",
       "      <td>0</td>\n",
       "    </tr>\n",
       "  </tbody>\n",
       "</table>\n",
       "<p>5 rows × 397 columns</p>\n",
       "</div>"
      ],
      "text/plain": [
       "   loc_ID  year  yield     W_1_1     W_1_2     W_1_3     W_1_4     W_1_5  \\\n",
       "0       0  1980   82.0  0.274725  0.000000  1.615385  0.395604  0.967033   \n",
       "1       0  1981  116.0  0.604396  0.000000  0.043956  0.000000  0.857143   \n",
       "2       0  1982  124.0  2.098901  0.384615  1.681319  0.527473  6.340659   \n",
       "3       0  1983   46.0  0.000000  0.000000  0.000000  1.032967  4.373626   \n",
       "4       0  1984  103.0  0.000000  0.043956  0.197802  0.461538  0.142857   \n",
       "\n",
       "      W_1_6     W_1_7  ...  P_7  P_8  P_9  P_10  P_11  P_12  P_13  P_14  P_15  \\\n",
       "0  0.736264  1.153846  ...   38   40    8     4     0     0     0     0     0   \n",
       "1  1.824176  0.000000  ...   13   30   16    11    12     7     3     0     0   \n",
       "2  1.593407  1.868132  ...   47   14    5     2     1     0     0     0     0   \n",
       "3  0.351648  0.263736  ...   11   24   22    17     6     5     3     0     0   \n",
       "4  0.670330  4.615385  ...    6   35   33    10     4     8     0     0     0   \n",
       "\n",
       "   P_16  \n",
       "0     0  \n",
       "1     0  \n",
       "2     0  \n",
       "3     0  \n",
       "4     0  \n",
       "\n",
       "[5 rows x 397 columns]"
      ]
     },
     "execution_count": 14,
     "metadata": {},
     "output_type": "execute_result"
    }
   ],
   "source": [
    "path = \"Data/\"\n",
    "x_corn = pd.read_csv(path+'corn_samples.txt')\n",
    "y_corn = pd.read_csv(path+'corn_samples.txt')\n",
    "x_soy = pd.read_csv(path+'soybean_samples.txt')\n",
    "y_soy = pd.read_csv(path+'soybean_samples.txt')\n",
    "print(x_corn.info())\n",
    "x_corn.head()"
   ]
  },
  {
   "cell_type": "markdown",
   "metadata": {},
   "source": [
    "###### For Corn data"
   ]
  },
  {
   "cell_type": "code",
   "execution_count": 15,
   "metadata": {},
   "outputs": [],
   "source": [
    "X_train = np.array(x_corn.drop([\"yield\",\"loc_ID\",\"year\"],axis = 1)) \n",
    "Y_train = np.array(x_corn[\"yield\"])"
   ]
  },
  {
   "cell_type": "code",
   "execution_count": 16,
   "metadata": {},
   "outputs": [],
   "source": [
    "for i in range(X_train.shape[-1]):\n",
    "    diff = np.max(X_train[:,i]) - np.min(X_train[:,i])\n",
    "    if(diff != 0):\n",
    "        X_train[:,i] = (X_train[:,i]-np.mean(X_train[:,i]))/diff\n",
    "    else:\n",
    "        X_train[:,i] = 0\n",
    "        \n",
    "Y_train = Y_train/np.max(Y_train)"
   ]
  },
  {
   "cell_type": "markdown",
   "metadata": {},
   "source": [
    "###### Define model"
   ]
  },
  {
   "cell_type": "code",
   "execution_count": 17,
   "metadata": {},
   "outputs": [
    {
     "name": "stdout",
     "output_type": "stream",
     "text": [
      "Model: \"sequential\"\n",
      "_________________________________________________________________\n",
      "Layer (type)                 Output Shape              Param #   \n",
      "=================================================================\n",
      "reshape (Reshape)            (None, 394, 1)            0         \n",
      "_________________________________________________________________\n",
      "conv1d (Conv1D)              (None, 392, 64)           256       \n",
      "_________________________________________________________________\n",
      "conv1d_1 (Conv1D)            (None, 390, 64)           12352     \n",
      "_________________________________________________________________\n",
      "max_pooling1d (MaxPooling1D) (None, 195, 64)           0         \n",
      "_________________________________________________________________\n",
      "flatten (Flatten)            (None, 12480)             0         \n",
      "_________________________________________________________________\n",
      "dense (Dense)                (None, 256)               3195136   \n",
      "_________________________________________________________________\n",
      "dense_1 (Dense)              (None, 64)                16448     \n",
      "_________________________________________________________________\n",
      "reshape_1 (Reshape)          (None, 8, 8)              0         \n",
      "_________________________________________________________________\n",
      "lstm (LSTM)                  (None, 8, 8)              544       \n",
      "_________________________________________________________________\n",
      "lstm_1 (LSTM)                (None, 8)                 544       \n",
      "_________________________________________________________________\n",
      "dense_2 (Dense)              (None, 1)                 9         \n",
      "=================================================================\n",
      "Total params: 3,225,289\n",
      "Trainable params: 3,225,289\n",
      "Non-trainable params: 0\n",
      "_________________________________________________________________\n"
     ]
    }
   ],
   "source": [
    "keras.backend.clear_session()\n",
    "\n",
    "model = keras.models.Sequential()\n",
    "model.add(keras.layers.Input(shape=(394)))\n",
    "model.add(keras.layers.Reshape((394,1)))\n",
    "\n",
    "model.add(keras.layers.Conv1D(64, activation='relu', kernel_size=(3)))\n",
    "model.add(keras.layers.Conv1D(64, activation='relu', kernel_size=(3)))\n",
    "model.add(keras.layers.MaxPool1D(pool_size=(2), strides=(2), padding='valid'))\n",
    "\n",
    "model.add(keras.layers.Flatten())\n",
    "model.add(keras.layers.Dense(256))\n",
    "model.add(keras.layers.Dense(64))\n",
    "model.add(keras.layers.Reshape((8, 8)))\n",
    "\n",
    "model.add(keras.layers.LSTM(8, return_sequences=True))\n",
    "model.add(keras.layers.LSTM(8))\n",
    "model.add(keras.layers.Dense(1, activation=None))\n",
    "\n",
    "model.summary()"
   ]
  },
  {
   "cell_type": "markdown",
   "metadata": {},
   "source": [
    "###### Train model"
   ]
  },
  {
   "cell_type": "code",
   "execution_count": 18,
   "metadata": {},
   "outputs": [
    {
     "data": {
      "application/vnd.jupyter.widget-view+json": {
       "model_id": "9246fe9e0047445a81e44754e5f29bd4",
       "version_major": 2,
       "version_minor": 0
      },
      "text/plain": [
       "HBox(children=(HTML(value=''), FloatProgress(value=1.0, bar_style='info', layout=Layout(width='20px'), max=1.0…"
      ]
     },
     "metadata": {},
     "output_type": "display_data"
    },
    {
     "data": {
      "application/vnd.jupyter.widget-view+json": {
       "model_id": "",
       "version_major": 2,
       "version_minor": 0
      },
      "text/plain": [
       "HBox(children=(HTML(value=''), FloatProgress(value=1.0, bar_style='info', layout=Layout(width='20px'), max=1.0…"
      ]
     },
     "metadata": {},
     "output_type": "display_data"
    },
    {
     "name": "stdout",
     "output_type": "stream",
     "text": [
      "\n"
     ]
    },
    {
     "data": {
      "text/plain": [
       "<keras.callbacks.History at 0x1be2d8d3d30>"
      ]
     },
     "execution_count": 18,
     "metadata": {},
     "output_type": "execute_result"
    }
   ],
   "source": [
    "#tfa.losses.SigmoidFocalCrossEntropy()\n",
    "model.compile(loss='mse', optimizer='adam')\n",
    "model.fit(X_train, Y_train, epochs=2, batch_size=1,  verbose=0,callbacks=[TqdmCallback(verbose=1)])"
   ]
  },
  {
   "cell_type": "markdown",
   "metadata": {},
   "source": [
    "##### For Soy Data"
   ]
  },
  {
   "cell_type": "code",
   "execution_count": 19,
   "metadata": {},
   "outputs": [],
   "source": [
    "X_train = np.array(x_soy.drop(\"yield\",axis = 1)) \n",
    "Y_train = np.array(x_soy[\"yield\"])"
   ]
  },
  {
   "cell_type": "code",
   "execution_count": 20,
   "metadata": {},
   "outputs": [],
   "source": [
    "for i in range(X_train.shape[-1]):\n",
    "    diff = np.max(X_train[:,i]) - np.min(X_train[:,i])\n",
    "    if(diff != 0):\n",
    "        X_train[:,i] = (X_train[:,i]-np.mean(X_train[:,i]))/diff\n",
    "    else:\n",
    "        X_train[:,i] = 0\n",
    "        \n",
    "Y_train = Y_train/np.max(Y_train)"
   ]
  },
  {
   "cell_type": "markdown",
   "metadata": {},
   "source": [
    "###### Define model"
   ]
  },
  {
   "cell_type": "code",
   "execution_count": 21,
   "metadata": {},
   "outputs": [
    {
     "name": "stdout",
     "output_type": "stream",
     "text": [
      "Model: \"sequential\"\n",
      "_________________________________________________________________\n",
      "Layer (type)                 Output Shape              Param #   \n",
      "=================================================================\n",
      "reshape (Reshape)            (None, 394, 1)            0         \n",
      "_________________________________________________________________\n",
      "conv1d (Conv1D)              (None, 392, 64)           256       \n",
      "_________________________________________________________________\n",
      "conv1d_1 (Conv1D)            (None, 390, 64)           12352     \n",
      "_________________________________________________________________\n",
      "max_pooling1d (MaxPooling1D) (None, 195, 64)           0         \n",
      "_________________________________________________________________\n",
      "flatten (Flatten)            (None, 12480)             0         \n",
      "_________________________________________________________________\n",
      "dense (Dense)                (None, 256)               3195136   \n",
      "_________________________________________________________________\n",
      "dense_1 (Dense)              (None, 64)                16448     \n",
      "_________________________________________________________________\n",
      "reshape_1 (Reshape)          (None, 8, 8)              0         \n",
      "_________________________________________________________________\n",
      "lstm (LSTM)                  (None, 8, 8)              544       \n",
      "_________________________________________________________________\n",
      "lstm_1 (LSTM)                (None, 8)                 544       \n",
      "_________________________________________________________________\n",
      "dense_2 (Dense)              (None, 1)                 9         \n",
      "=================================================================\n",
      "Total params: 3,225,289\n",
      "Trainable params: 3,225,289\n",
      "Non-trainable params: 0\n",
      "_________________________________________________________________\n"
     ]
    }
   ],
   "source": [
    "keras.backend.clear_session()\n",
    "\n",
    "model = keras.models.Sequential()\n",
    "model.add(keras.layers.Input(shape=(394)))\n",
    "model.add(keras.layers.Reshape((394,1)))\n",
    "\n",
    "model.add(keras.layers.Conv1D(64, activation='relu', kernel_size=(3)))\n",
    "model.add(keras.layers.Conv1D(64, activation='relu', kernel_size=(3)))\n",
    "model.add(keras.layers.MaxPool1D(pool_size=(2), strides=(2), padding='valid'))\n",
    "\n",
    "model.add(keras.layers.Flatten())\n",
    "model.add(keras.layers.Dense(256))\n",
    "model.add(keras.layers.Dense(64))\n",
    "model.add(keras.layers.Reshape((8, 8)))\n",
    "\n",
    "model.add(keras.layers.LSTM(8, return_sequences=True))\n",
    "model.add(keras.layers.LSTM(8))\n",
    "model.add(keras.layers.Dense(1, activation=None))\n",
    "\n",
    "model.summary()"
   ]
  },
  {
   "cell_type": "markdown",
   "metadata": {},
   "source": [
    "###### Train model"
   ]
  },
  {
   "cell_type": "code",
   "execution_count": 22,
   "metadata": {},
   "outputs": [
    {
     "data": {
      "application/vnd.jupyter.widget-view+json": {
       "model_id": "449d08c9307a4404b4e1c4479d2f1003",
       "version_major": 2,
       "version_minor": 0
      },
      "text/plain": [
       "HBox(children=(HTML(value=''), FloatProgress(value=1.0, bar_style='info', layout=Layout(width='20px'), max=1.0…"
      ]
     },
     "metadata": {},
     "output_type": "display_data"
    },
    {
     "data": {
      "application/vnd.jupyter.widget-view+json": {
       "model_id": "",
       "version_major": 2,
       "version_minor": 0
      },
      "text/plain": [
       "HBox(children=(HTML(value=''), FloatProgress(value=1.0, bar_style='info', layout=Layout(width='20px'), max=1.0…"
      ]
     },
     "metadata": {},
     "output_type": "display_data"
    },
    {
     "name": "stdout",
     "output_type": "stream",
     "text": [
      "\n"
     ]
    },
    {
     "data": {
      "text/plain": [
       "<keras.callbacks.History at 0x1be3240db50>"
      ]
     },
     "execution_count": 22,
     "metadata": {},
     "output_type": "execute_result"
    }
   ],
   "source": [
    "model.compile(loss='mse', optimizer='adam')\n",
    "model.fit(X_train, Y_train, epochs=2, batch_size=1,  verbose=0,callbacks=[TqdmCallback(verbose=1)])"
   ]
  },
  {
   "cell_type": "markdown",
   "metadata": {},
   "source": [
    "##### Q4. Python Implementation  of GRU  from scratch  for   Binary to Deceimal conversion. "
   ]
  },
  {
   "cell_type": "markdown",
   "metadata": {},
   "source": [
    "###### Create data"
   ]
  },
  {
   "cell_type": "code",
   "execution_count": 23,
   "metadata": {},
   "outputs": [],
   "source": [
    "temp = [np.random.randint(1023) for i in range(5000)]\n",
    "x = np.array([[[int(j)] for j in '{0:010b}'.format(i)] for i in temp])\n",
    "y = np.array([[[int(j)] for j in '{0:04d}'.format(i)] for i in temp])"
   ]
  },
  {
   "cell_type": "code",
   "execution_count": 24,
   "metadata": {},
   "outputs": [
    {
     "name": "stdout",
     "output_type": "stream",
     "text": [
      "(5000, 10, 1) (5000, 4, 1)\n"
     ]
    }
   ],
   "source": [
    "print(x.shape,y.shape)"
   ]
  },
  {
   "cell_type": "markdown",
   "metadata": {},
   "source": [
    "###### Define and train model"
   ]
  },
  {
   "cell_type": "code",
   "execution_count": 25,
   "metadata": {},
   "outputs": [],
   "source": [
    "keras.backend.clear_session()"
   ]
  },
  {
   "cell_type": "code",
   "execution_count": 26,
   "metadata": {},
   "outputs": [
    {
     "data": {
      "application/vnd.jupyter.widget-view+json": {
       "model_id": "a796f92e6fd5456ebf256de11ff80787",
       "version_major": 2,
       "version_minor": 0
      },
      "text/plain": [
       "HBox(children=(HTML(value=''), FloatProgress(value=1.0, bar_style='info', layout=Layout(width='20px'), max=1.0…"
      ]
     },
     "metadata": {},
     "output_type": "display_data"
    },
    {
     "data": {
      "application/vnd.jupyter.widget-view+json": {
       "model_id": "",
       "version_major": 2,
       "version_minor": 0
      },
      "text/plain": [
       "HBox(children=(HTML(value=''), FloatProgress(value=1.0, bar_style='info', layout=Layout(width='20px'), max=1.0…"
      ]
     },
     "metadata": {},
     "output_type": "display_data"
    },
    {
     "name": "stdout",
     "output_type": "stream",
     "text": [
      "\n"
     ]
    },
    {
     "data": {
      "text/plain": [
       "<keras.callbacks.History at 0x1be322a19a0>"
      ]
     },
     "execution_count": 26,
     "metadata": {},
     "output_type": "execute_result"
    }
   ],
   "source": [
    "# create and fit the GRU network\n",
    "\n",
    "model = keras.models.Sequential()\n",
    "model.add(keras.layers.GRU(15, input_shape=(10,1),activation = 'tanh'))\n",
    "model.add(keras.layers.Dense(15))\n",
    "model.add(keras.layers.Dense(10))\n",
    "model.add(keras.layers.Dense(4))\n",
    "\n",
    "model.compile(loss='mean_squared_error', optimizer='adam')\n",
    "model.fit(x, y, epochs=2, batch_size=1,  verbose=0,callbacks=[TqdmCallback(verbose=1)])"
   ]
  },
  {
   "cell_type": "markdown",
   "metadata": {},
   "source": [
    "###### Test data manually"
   ]
  },
  {
   "cell_type": "code",
   "execution_count": 27,
   "metadata": {},
   "outputs": [
    {
     "name": "stdout",
     "output_type": "stream",
     "text": [
      "Binary:  [[[0]\n",
      "  [0]\n",
      "  [0]\n",
      "  [0]\n",
      "  [0]\n",
      "  [0]\n",
      "  [0]\n",
      "  [1]\n",
      "  [1]\n",
      "  [1]]]\n",
      "Octal:  [-0. -1.  2.  4.]\n"
     ]
    }
   ],
   "source": [
    "test = np.array([[[0],[0],[0],[0],[0],[0],[0],[1],[1],[1]]])\n",
    "print(\"Binary: \",test)\n",
    "prediction = model.predict(test)\n",
    "print(\"Octal: \",np.round(prediction[0]))"
   ]
  },
  {
   "cell_type": "markdown",
   "metadata": {},
   "source": [
    "### Q. 5. Build a CNN(AleNet)model  (using Keras/Tensorflow/Pytorch)  to recognize breast cancer from Breast Dataset (Use Sklearn Dataset and  split dataset into training dataset (80%) and  testing dataset (20%) ). Use an Adam gradient descent algorithm to learn model with parameters for α = 0.01 and random parameters of the parameters of the  CNNmodel for Focal loss function.\n",
    "- (i) Plot a comparative loss curve for at least 200 epochs.\n",
    "- (ii) Print confusion matrix, calculate classification metrics such as precision, recall, f1-score and accuracy on test datset and ROC curve for each loss function.\n"
   ]
  },
  {
   "cell_type": "markdown",
   "metadata": {},
   "source": [
    "###### Read data"
   ]
  },
  {
   "cell_type": "code",
   "execution_count": 28,
   "metadata": {},
   "outputs": [],
   "source": [
    "#Import data\n",
    "\n",
    "from sklearn.datasets import load_breast_cancer\n",
    "data = load_breast_cancer()\n",
    "list(data.target_names)\n",
    "\n",
    "\n",
    "#Split data\n",
    "X = data['data']\n",
    "Y = data['target']\n",
    "col_names = data['target_names']\n",
    "\n",
    "X_train, X_test, Y_train, Y_test = train_test_split(X, Y,test_size =0.2)"
   ]
  },
  {
   "cell_type": "code",
   "execution_count": 29,
   "metadata": {},
   "outputs": [
    {
     "name": "stdout",
     "output_type": "stream",
     "text": [
      "(455, 30) (455,)\n"
     ]
    }
   ],
   "source": [
    "print(X_train.shape,Y_train.shape)"
   ]
  },
  {
   "cell_type": "markdown",
   "metadata": {},
   "source": [
    "###### Define model"
   ]
  },
  {
   "cell_type": "code",
   "execution_count": 30,
   "metadata": {},
   "outputs": [],
   "source": [
    "keras.backend.clear_session()"
   ]
  },
  {
   "cell_type": "code",
   "execution_count": 31,
   "metadata": {},
   "outputs": [],
   "source": [
    "model = keras.models.Sequential()\n",
    "model.add(keras.layers.Reshape((30,1,1),input_shape=(30,)))\n",
    "# model.add(keras.layers.Conv2D(filters=10, kernel_size=(5,1), padding='same', activation='relu'))\n",
    "# model.add(keras.layers.Conv2D(filters=5, kernel_size=(5,1), padding='same', activation='relu'))\n",
    "model.add(keras.layers.Flatten())\n",
    "model.add(keras.layers.Dense(10,activation = 'sigmoid'))\n",
    "model.add(keras.layers.Dense(5,activation = 'sigmoid'))\n",
    "model.add(keras.layers.Dense(3,activation = 'sigmoid'))\n",
    "model.add(keras.layers.Dense(1,activation = 'sigmoid'))"
   ]
  },
  {
   "cell_type": "code",
   "execution_count": 32,
   "metadata": {},
   "outputs": [
    {
     "name": "stdout",
     "output_type": "stream",
     "text": [
      "Model: \"sequential\"\n",
      "_________________________________________________________________\n",
      "Layer (type)                 Output Shape              Param #   \n",
      "=================================================================\n",
      "reshape (Reshape)            (None, 30, 1, 1)          0         \n",
      "_________________________________________________________________\n",
      "flatten (Flatten)            (None, 30)                0         \n",
      "_________________________________________________________________\n",
      "dense (Dense)                (None, 10)                310       \n",
      "_________________________________________________________________\n",
      "dense_1 (Dense)              (None, 5)                 55        \n",
      "_________________________________________________________________\n",
      "dense_2 (Dense)              (None, 3)                 18        \n",
      "_________________________________________________________________\n",
      "dense_3 (Dense)              (None, 1)                 4         \n",
      "=================================================================\n",
      "Total params: 387\n",
      "Trainable params: 387\n",
      "Non-trainable params: 0\n",
      "_________________________________________________________________\n"
     ]
    }
   ],
   "source": [
    "model.summary()"
   ]
  },
  {
   "cell_type": "markdown",
   "metadata": {},
   "source": [
    "###### Train model"
   ]
  },
  {
   "cell_type": "code",
   "execution_count": 33,
   "metadata": {},
   "outputs": [
    {
     "data": {
      "application/vnd.jupyter.widget-view+json": {
       "model_id": "9633188499994e91b91e246bf1f60dd7",
       "version_major": 2,
       "version_minor": 0
      },
      "text/plain": [
       "HBox(children=(HTML(value=''), FloatProgress(value=1.0, bar_style='info', layout=Layout(width='20px'), max=1.0…"
      ]
     },
     "metadata": {},
     "output_type": "display_data"
    },
    {
     "data": {
      "application/vnd.jupyter.widget-view+json": {
       "model_id": "",
       "version_major": 2,
       "version_minor": 0
      },
      "text/plain": [
       "HBox(children=(HTML(value=''), FloatProgress(value=1.0, bar_style='info', layout=Layout(width='20px'), max=1.0…"
      ]
     },
     "metadata": {},
     "output_type": "display_data"
    },
    {
     "name": "stdout",
     "output_type": "stream",
     "text": [
      "\n"
     ]
    },
    {
     "data": {
      "text/plain": [
       "<keras.callbacks.History at 0x1be33442610>"
      ]
     },
     "execution_count": 33,
     "metadata": {},
     "output_type": "execute_result"
    }
   ],
   "source": [
    "model.compile(loss='bce', optimizer='adam')\n",
    "model.fit(X_train, Y_train, epochs=100, batch_size=1,  verbose=0,callbacks=[TqdmCallback(verbose=1)])"
   ]
  },
  {
   "cell_type": "markdown",
   "metadata": {},
   "source": [
    "###### Plot confusion matrix for predicted results vs ground truth"
   ]
  },
  {
   "cell_type": "code",
   "execution_count": 34,
   "metadata": {},
   "outputs": [
    {
     "data": {
      "text/html": [
       "<div>\n",
       "<style scoped>\n",
       "    .dataframe tbody tr th:only-of-type {\n",
       "        vertical-align: middle;\n",
       "    }\n",
       "\n",
       "    .dataframe tbody tr th {\n",
       "        vertical-align: top;\n",
       "    }\n",
       "\n",
       "    .dataframe thead th {\n",
       "        text-align: right;\n",
       "    }\n",
       "</style>\n",
       "<table border=\"1\" class=\"dataframe\">\n",
       "  <thead>\n",
       "    <tr style=\"text-align: right;\">\n",
       "      <th>Predicted</th>\n",
       "      <th>0.0</th>\n",
       "      <th>1.0</th>\n",
       "    </tr>\n",
       "    <tr>\n",
       "      <th>Actual</th>\n",
       "      <th></th>\n",
       "      <th></th>\n",
       "    </tr>\n",
       "  </thead>\n",
       "  <tbody>\n",
       "    <tr>\n",
       "      <th>0</th>\n",
       "      <td>18</td>\n",
       "      <td>30</td>\n",
       "    </tr>\n",
       "    <tr>\n",
       "      <th>1</th>\n",
       "      <td>0</td>\n",
       "      <td>66</td>\n",
       "    </tr>\n",
       "  </tbody>\n",
       "</table>\n",
       "</div>"
      ],
      "text/plain": [
       "Predicted  0.0  1.0\n",
       "Actual             \n",
       "0           18   30\n",
       "1            0   66"
      ]
     },
     "execution_count": 34,
     "metadata": {},
     "output_type": "execute_result"
    }
   ],
   "source": [
    "prediction = np.reshape(np.round(model.predict(X_test)),-1)\n",
    "\n",
    "y_actu = pd.Series(Y_test, name='Actual')\n",
    "y_pred = pd.Series(prediction, name='Predicted')\n",
    "df_confusion = pd.crosstab(y_actu, y_pred)\n",
    "df_confusion"
   ]
  },
  {
   "cell_type": "code",
   "execution_count": null,
   "metadata": {},
   "outputs": [],
   "source": []
  }
 ],
 "metadata": {
  "kernelspec": {
   "display_name": "Python 3",
   "language": "python",
   "name": "python3"
  },
  "language_info": {
   "codemirror_mode": {
    "name": "ipython",
    "version": 3
   },
   "file_extension": ".py",
   "mimetype": "text/x-python",
   "name": "python",
   "nbconvert_exporter": "python",
   "pygments_lexer": "ipython3",
   "version": "3.8.5"
  }
 },
 "nbformat": 4,
 "nbformat_minor": 4
}
