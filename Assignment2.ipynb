{
  "nbformat": 4,
  "nbformat_minor": 0,
  "metadata": {
    "kernelspec": {
      "display_name": "Python 3",
      "language": "python",
      "name": "python3"
    },
    "language_info": {
      "codemirror_mode": {
        "name": "ipython",
        "version": 3
      },
      "file_extension": ".py",
      "mimetype": "text/x-python",
      "name": "python",
      "nbconvert_exporter": "python",
      "pygments_lexer": "ipython3",
      "version": "3.8.5"
    },
    "colab": {
      "name": "Assignment2.ipynb",
      "provenance": [],
      "collapsed_sections": []
    }
  },
  "cells": [
    {
      "cell_type": "code",
      "metadata": {
        "id": "ITEkFhdZSlsb"
      },
      "source": [
        "import numpy as np\n",
        "import matplotlib.pyplot as plt"
      ],
      "execution_count": 49,
      "outputs": []
    },
    {
      "cell_type": "markdown",
      "metadata": {
        "id": "D3y6kArxlhe0"
      },
      "source": [
        "##### Q.1.Write python code from scratch for simple Linear Regression problem, the following training data are given. \n",
        "`\n",
        "X = [2, 2.5, 3, 3.5, 4, 4.5, 5, 5.5, 6] \n",
        "Y = [5.1, 6.1, 6.9, 7.8, 9.2, 9.9, 11.5, 12, 12.8] `\n",
        "\n",
        "The model Y as a linear function of X \n",
        "1. Use batch gradient descent learning algorithm to learn model parameters for α = 0.01 choose random values of weights and bias and epochs=1000. Use MSE as loss function with an appropriate convergence criterion. \n",
        "2. Plot cost function (J) for the learning duration \n",
        "3. plot the regression line \n",
        "4. repeat (2) to (3) for stochastic gradient descent and Adam optimization algorithm\n",
        "5. Plot comparative loss curve \n"
      ]
    },
    {
      "cell_type": "code",
      "metadata": {
        "id": "sA7pLbdSlhe5"
      },
      "source": [
        "## Defining Neuron\n",
        "\n",
        "class Neuron:\n",
        "    def __init__(self, rate=0.01 , Weight=np.random.rand(),Bias = np.random.rand()):\n",
        "        self.weight = Weight\n",
        "        self.bias = Bias\n",
        "        self.learning_rate = rate\n",
        "\n",
        "    def disp_params(self):\n",
        "        print(\"Weight = {} , Bias = {}\".format(self.weight,self.bias))\n",
        "    \n",
        "    def forward_step(self,X):\n",
        "        out = np.sum(X*self.weight) + self.bias\n",
        "        return(out)\n",
        "    \n",
        "    def batch_gradient_descent_step(self,X_in,y_true):\n",
        "        y_predicted = [self.forward_step(X_in[i]) for i in range(len(X_in))]\n",
        "        error = np.mean(np.square(y_true-y_predicted))\n",
        "        \n",
        "        gradient = np.sum((y_true-y_predicted)*X_in)*-2 /len(X_in)           \n",
        "        self.weight = self.weight - self.learning_rate * gradient\n",
        "            \n",
        "        gradient = np.sum(y_true-y_predicted)*-2/len(X_in) \n",
        "        self.bias = self.bias - self.learning_rate * gradient\n",
        "\n",
        "    def stochastic_gradient_descent_step(self,X_in,y_true):\n",
        "        y_predicted = self.forward_step(X_in) \n",
        "        error = np.mean(np.square(y_true-y_predicted))\n",
        "        \n",
        "        gradient = (y_true-y_predicted)*X_in*-2          \n",
        "        self.weight = self.weight - self.learning_rate * gradient\n",
        "        gradient = (y_true-y_predicted)*-2\n",
        "        self.bias = self.bias - self.learning_rate * gradient\n"
      ],
      "execution_count": 50,
      "outputs": []
    },
    {
      "cell_type": "code",
      "metadata": {
        "id": "A4ttwS1ISpaV",
        "colab": {
          "base_uri": "https://localhost:8080/",
          "height": 746
        },
        "outputId": "692fffa7-3733-4cfd-d40e-2dc5d9551a63"
      },
      "source": [
        "## Perform batch gradient descent \n",
        "\n",
        "print(\"\\n\"+'\\033[1m'+\"Batch gradient decent\"+'\\033[0m'+\"\\n\")\n",
        "\n",
        "X = np.array([2, 2.5, 3, 3.5, 4, 4.5, 5, 5.5, 6] )\n",
        "Y = np.array([5.1, 6.1, 6.9, 7.8, 9.2, 9.9, 11.5, 12, 12.8])\n",
        "alpha = 0.01\n",
        "epochs = 1000\n",
        "\n",
        "#Initialise neuron\n",
        "A = Neuron(rate = alpha)\n",
        "\n",
        "#Display initial weight and bias values\n",
        "print(\"Original Values:\")\n",
        "A.disp_params()\n",
        "\n",
        "#Batch gradient_decent\n",
        "b_loss = [np.inf]    #initialising loss variable as infinity\n",
        "for _ in range(epochs):\n",
        "    Prediction = [A.forward_step(i) for i in X ]\n",
        "    b_loss = b_loss + [np.mean(np.square(Prediction-Y))]    #Save loss for plotting\n",
        "\n",
        "    A.batch_gradient_descent_step(X,Y) #Perform gradient descent\n",
        "\n",
        "#Display final weight and bias values\n",
        "print(\"\\nAfter gradient descent:\")\n",
        "A.disp_params()\n",
        "\n",
        "#Display predicted values vs ground truth\n",
        "print(\"\\nGround Truth:\",Y)\n",
        "print(\"Predicted Values:\",np.round(Prediction,3))\n",
        "\n",
        "#Plot loss vs Iteration graph\n",
        "plt.plot(b_loss,'g')\n",
        "plt.legend(\"Loss\")\n",
        "plt.title(\"Loss vs Epochs for batch gradient descent\")\n",
        "plt.xlabel(\"Epochs\")\n",
        "plt.ylabel(\"Loss\")\n",
        "plt.show()\n",
        "\n",
        "#plotting regression line\n",
        "X_line=np.linspace(1,7,100)\n",
        "Y_line = [(i* A.weight + A.bias) for i in X_line]\n",
        "plt.figure()\n",
        "plt.plot(X_line,Y_line)\n",
        "plt.scatter(X,Y,color = 'r')\n",
        "plt.title(\"Regression line\")\n",
        "plt.show()"
      ],
      "execution_count": 51,
      "outputs": [
        {
          "output_type": "stream",
          "name": "stdout",
          "text": [
            "\n",
            "\u001b[1mBatch gradient decent\u001b[0m\n",
            "\n",
            "Original Values:\n",
            "Weight = 0.8590092442090487 , Bias = 0.787955213485089\n",
            "\n",
            "After gradient descent:\n",
            "Weight = 1.9938326915458633 , Bias = 1.0578057014478726\n",
            "\n",
            "Ground Truth: [ 5.1  6.1  6.9  7.8  9.2  9.9 11.5 12.  12.8]\n",
            "Predicted Values: [ 5.045  6.042  7.039  8.036  9.033 10.03  11.027 12.024 13.021]\n"
          ]
        },
        {
          "output_type": "display_data",
          "data": {
            "image/png": "[encoded data removed]",
            "text/plain": [
              "<Figure size 432x288 with 1 Axes>"
            ]
          },
          "metadata": {
            "needs_background": "light"
          }
        },
        {
          "output_type": "display_data",
          "data": {
            "image/png": "[encoded data removed]",
            "text/plain": [
              "<Figure size 432x288 with 1 Axes>"
            ]
          },
          "metadata": {
            "needs_background": "light"
          }
        }
      ]
    },
    {
      "cell_type": "code",
      "metadata": {
        "colab": {
          "base_uri": "https://localhost:8080/",
          "height": 729
        },
        "id": "cKbkeHI3sFCu",
        "outputId": "beb44c29-3aee-437f-e88c-d512e7afe507"
      },
      "source": [
        "## Perform stochastic gradient descent \n",
        "\n",
        "print(\"\\n\"+'\\033[1m'+\"Stochastic gradient decent\"+'\\033[0m'+\"\\n\")\n",
        "\n",
        "X = np.array([2, 2.5, 3, 3.5, 4, 4.5, 5, 5.5, 6] )\n",
        "Y = np.array([5.1, 6.1, 6.9, 7.8, 9.2, 9.9, 11.5, 12, 12.8])\n",
        "alpha = 0.01\n",
        "epochs = 1000\n",
        "\n",
        "#Initialise neuron\n",
        "A = Neuron(rate = alpha)\n",
        "\n",
        "#gradient_decent\n",
        "A.disp_params()\n",
        "    \n",
        "s_loss = [np.inf]\n",
        "pos=0\n",
        "for _ in range(epochs):\n",
        "    pos=pos+1\n",
        "    Prediction = [A.forward_step(i) for i in X ]\n",
        "    s_loss = s_loss + [np.mean(np.square(Prediction-Y))]    #Save loss for plotting\n",
        "    A.stochastic_gradient_descent_step(X[pos%len(X)],Y[pos%len(X)]) #Perform gradient descent\n",
        "\n",
        "#Display final weight and bias values\n",
        "print(\"\\nAfter gradient descent:\")\n",
        "A.disp_params()\n",
        "\n",
        "#Display predicted values vs ground truth\n",
        "print(\"\\nGround Truth:\",Y)\n",
        "print(\"Predicted Values:\",np.round(Prediction,3))\n",
        "\n",
        "#Plot loss vs Iteration graph\n",
        "plt.plot(s_loss,'g')\n",
        "plt.legend(\"Loss\")\n",
        "plt.title(\"Loss vs Epochs for stochastic gradient descent\")\n",
        "plt.xlabel(\"Epochs\")\n",
        "plt.ylabel(\"Loss\")\n",
        "plt.show()\n",
        "\n",
        "#plotting regression line\n",
        "X_line=np.linspace(1,7,100)\n",
        "Y_line = [(i* A.weight + A.bias) for i in X_line]\n",
        "plt.figure()\n",
        "plt.plot(X_line,Y_line)\n",
        "plt.scatter(X,Y,color = 'r')\n",
        "plt.title(\"Regression line\")\n",
        "plt.show()"
      ],
      "execution_count": 52,
      "outputs": [
        {
          "output_type": "stream",
          "name": "stdout",
          "text": [
            "\n",
            "\u001b[1mStochastic gradient decent\u001b[0m\n",
            "\n",
            "Weight = 0.8590092442090487 , Bias = 0.787955213485089\n",
            "\n",
            "After gradient descent:\n",
            "Weight = 1.942082699144758 , Bias = 1.223580110665697\n",
            "\n",
            "Ground Truth: [ 5.1  6.1  6.9  7.8  9.2  9.9 11.5 12.  12.8]\n",
            "Predicted Values: [ 5.105  6.075  7.046  8.016  8.986  9.957 10.927 11.898 12.868]\n"
          ]
        },
        {
          "output_type": "display_data",
          "data": {
            "image/png": "[encoded data removed]",
            "text/plain": [
              "<Figure size 432x288 with 1 Axes>"
            ]
          },
          "metadata": {
            "needs_background": "light"
          }
        },
        {
          "output_type": "display_data",
          "data": {
            "image/png": "[encoded data removed]",
            "text/plain": [
              "<Figure size 432x288 with 1 Axes>"
            ]
          },
          "metadata": {
            "needs_background": "light"
          }
        }
      ]
    },
    {
      "cell_type": "code",
      "metadata": {
        "colab": {
          "base_uri": "https://localhost:8080/",
          "height": 295
        },
        "id": "9ALo2R77sJyk",
        "outputId": "ba0e93d2-a585-4fd4-d6f8-93511f386524"
      },
      "source": [
        "## Compare stochastic and batch gradient descent losses\n",
        "\n",
        "plt.figure()\n",
        "plt.title(\"Comparision between Batch and Stochastic gradient descent\")\n",
        "plt.plot(s_loss,'b',label = \"Stochastic gradient descent loss\")\n",
        "plt.plot(b_loss,'r',label=\"Batch gradient descent loss\")\n",
        "plt.xlabel(\"epochs\")\n",
        "plt.ylabel(\"loss\")\n",
        "plt.legend()\n",
        "plt.show()"
      ],
      "execution_count": 53,
      "outputs": [
        {
          "output_type": "display_data",
          "data": {
            "image/png": "[encoded data removed]",
            "text/plain": [
              "<Figure size 432x288 with 1 Axes>"
            ]
          },
          "metadata": {
            "needs_background": "light"
          }
        }
      ]
    },
    {
      "cell_type": "markdown",
      "metadata": {
        "id": "L8Bx03M5lhe8"
      },
      "source": [
        "##### Q.2. The neural network shown in Fig.1 has the following hyper parameters and input: Choose random weights and bias of the neuron and learning rate =0.01 and inputs to the neuron and target \n",
        "values are as follows.\n",
        "\n",
        "|X1 |X2 |Y(target) |\n",
        "|---|---|---|\n",
        "|4 |1 |2 |\n",
        "|2 |8 |-14| \n",
        "|1 |0 |1 |\n",
        "|3 |2 |-1 |\n",
        "|1 |4 |-7 |\n",
        "|6 |7 |-8 |\n",
        "\n",
        "1. Write a python code for predicted the output of neural network for given set of inputs using Stochastic Gradient Descent algorithm for the loss functions: \n",
        "    1. Mean Square Error \n",
        "    2. Squared Epsilon Hinge Loss\n",
        "2. Plot comparative loss curve \n",
        "3. repeat (1) and Adam optimization algorithm"
      ]
    },
    {
      "cell_type": "code",
      "metadata": {
        "id": "3wlMTjkUlhe_"
      },
      "source": [
        "class Neuron_2:\n",
        "    def __init__(self, rate=0.01 , Weights=np.random.rand(2),Bias = np.random.rand(),loss=\"Mean Square Error\",epsilon = 10**-8, alpha =0.001, beta1 = 0.9, beta2=0.999 ):\n",
        "        self.weights = Weights\n",
        "        self.bias = Bias\n",
        "        self.learning_rate = rate\n",
        "        self.loss = loss\n",
        "        self.epsilon = epsilon\n",
        "        \n",
        "    def disp_params(self):\n",
        "        print(\"Weights = {} , Bias = {}\".format(self.weights,self.bias))\n",
        "    \n",
        "    def forward_step(self,X1,X2):\n",
        "        out = X1*self.weights[0] +X2*self.weights[1] + self.bias\n",
        "        return(out)\n",
        "    \n",
        "    def Calculate_loss(self,X1,X2,y_true):\n",
        "        y_predicted = self.forward_step(X1,X2)\n",
        "        if(self.loss == \"Mean Square Error\"):\n",
        "            loss = np.mean(np.square(y_true-y_predicted))\n",
        "        elif(self.loss == \"Squared Epsilon Hinge Loss\"):\n",
        "            loss = 0.5 * (np.square(y_predicted-y_true) - (self.epsilon**2))\n",
        "            if(loss < 0): loss = 0\n",
        "        return loss\n",
        "        \n",
        "    def stochastic_gradient_descent(self,X1,X2,Y):\n",
        "        \n",
        "        y_predicted = self.forward_step(X1,X2) \n",
        "        \n",
        "        if(self.loss == \"Mean Square Error\"):\n",
        "            gradient = -2*(Y-y_predicted)\n",
        "            \n",
        "        elif(self.loss == \"Squared Epsilon Hinge Loss\"):\n",
        "            gradient = (y_predicted-Y)\n",
        "        \n",
        "        self.weights[0] = self.weights[0] - self.learning_rate * gradient *X1\n",
        "        self.weights[1] = self.weights[1] - self.learning_rate * gradient *X2\n",
        "        self.bias = self.bias - self.learning_rate * gradient          \n",
        "\n",
        "  #adam optimizer part\n",
        "    def adam_Optimizer(self, t, w, b, X1, X2, Y):\n",
        "\n",
        "      y_predicted = self.forward_step(X1,X2)  \n",
        "      \n",
        "      if(self.loss == \"Mean Square Error\"):\n",
        "        gradient = -2*(Y-y_predicted)\n",
        "            \n",
        "      elif(self.loss == \"Squared Epsilon Hinge Loss\"):\n",
        "        gradient = (y_predicted-Y) \n",
        "\n",
        "      \n",
        "              "
      ],
      "execution_count": 54,
      "outputs": []
    },
    {
      "cell_type": "code",
      "metadata": {
        "id": "DUZJyfm0cBFv"
      },
      "source": [
        "#Define Inputs\n",
        "X1 = np.array([4,2,1,3,1,6])\n",
        "X2 = np.array([1,8,0,2,4,7])\n",
        "Y = np.array([2,-14,1,-1,-7,-8])\n",
        "rate = 0.01\n",
        "epsilon = 0.2"
      ],
      "execution_count": 55,
      "outputs": []
    },
    {
      "cell_type": "code",
      "metadata": {
        "id": "-ek1AVLGcDwq",
        "colab": {
          "base_uri": "https://localhost:8080/",
          "height": 431
        },
        "outputId": "31ec1977-48ea-40e1-9dd6-caf1285ec32c"
      },
      "source": [
        "print(\"Gradient Descent using: Squared Epsilon Hinge Loss\")\n",
        "A = Neuron_2(rate,loss=\"Squared Epsilon Hinge Loss\",epsilon = epsilon)\n",
        "\n",
        "#gradient_decent\n",
        "A.disp_params()\n",
        "    \n",
        "loss = [np.inf]\n",
        "for pos in range(epochs):\n",
        "    Prediction = [A.forward_step(i,j) for i,j in zip(X1,X2) ]\n",
        "    loss = loss + [A.Calculate_loss(X1[pos%len(X1)],X2[pos%len(X1)],Y[pos%len(X1)])]    #Save loss for plotting\n",
        "    A.stochastic_gradient_descent(X1 = X1[pos%len(X1)],X2 = X2[pos%len(X1)],Y = Y[pos%len(X1)]) #Perform gradient descent\n",
        "#Display final weight and bias values\n",
        "print(\"\\nAfter gradient descent:\")\n",
        "A.disp_params()\n",
        "\n",
        "#Display predicted values vs ground truth\n",
        "print(\"\\nGround Truth:\",Y)\n",
        "print(\"Predicted Values:\",np.round(Prediction,3))\n",
        "\n",
        "#Plot loss vs Iteration graph\n",
        "plt.plot(loss,'g')\n",
        "plt.legend(\"Loss\")\n",
        "plt.title(\"Loss curve for stochastic gradient descent\")\n",
        "plt.xlabel(\"Epochs\")\n",
        "plt.ylabel(\"Loss\")\n",
        "plt.show()"
      ],
      "execution_count": 56,
      "outputs": [
        {
          "output_type": "stream",
          "name": "stdout",
          "text": [
            "Gradient Descent using: Squared Epsilon Hinge Loss\n",
            "Weights = [0.95917385 0.29299515] , Bias = 0.7195607571330122\n",
            "\n",
            "After gradient descent:\n",
            "Weights = [ 0.99335052 -2.00295444] , Bias = 0.03676173900748099\n",
            "\n",
            "Ground Truth: [  2 -14   1  -1  -7  -8]\n",
            "Predicted Values: [  2.009 -13.997   1.031  -0.987  -6.98   -8.02 ]\n"
          ]
        },
        {
          "output_type": "display_data",
          "data": {
            "image/png": "[encoded data removed]",
            "text/plain": [
              "<Figure size 432x288 with 1 Axes>"
            ]
          },
          "metadata": {
            "needs_background": "light"
          }
        }
      ]
    },
    {
      "cell_type": "code",
      "metadata": {
        "id": "6xtYaEIQcFVC",
        "colab": {
          "base_uri": "https://localhost:8080/",
          "height": 431
        },
        "outputId": "adaa7164-4f70-4c26-bc44-3cabee451e7f"
      },
      "source": [
        "print(\"Gradient Descent using: Mean Square Error\")\n",
        "A = Neuron_2(rate)\n",
        "\n",
        "#gradient_decent\n",
        "A.disp_params()\n",
        "    \n",
        "loss = [np.inf]\n",
        "\n",
        "for pos in range(epochs):\n",
        "    Prediction = [A.forward_step(i,j) for i,j in zip(X1,X2) ]\n",
        "    loss = loss + [A.Calculate_loss(X1,X2,Y)]    #Save loss for plotting\n",
        "    A.stochastic_gradient_descent(X1 = X1[pos%len(X1)],X2 = X2[pos%len(X1)],Y = Y[pos%len(X1)]) #Perform gradient descent\n",
        "\n",
        "#Display final weight and bias values\n",
        "print(\"\\nAfter gradient descent:\")\n",
        "A.disp_params()\n",
        "\n",
        "#Display predicted values vs ground truth\n",
        "print(\"\\nGround Truth:\",Y)\n",
        "print(\"Predicted Values:\",np.round(Prediction,3))\n",
        "\n",
        "#Plot loss vs Iteration graph\n",
        "plt.plot(loss,'g')\n",
        "plt.legend(\"Loss\")\n",
        "plt.title(\"Loss curve for stochastic gradient descent\")\n",
        "plt.xlabel(\"Epochs\")\n",
        "plt.ylabel(\"Loss\")\n",
        "plt.show()"
      ],
      "execution_count": 57,
      "outputs": [
        {
          "output_type": "stream",
          "name": "stdout",
          "text": [
            "Gradient Descent using: Mean Square Error\n",
            "Weights = [ 0.99335052 -2.00295444] , Bias = 0.7195607571330122\n",
            "\n",
            "After gradient descent:\n",
            "Weights = [ 0.99972106 -2.00022453] , Bias = 0.0016112627024669258\n",
            "\n",
            "Ground Truth: [  2 -14   1  -1  -7  -8]\n",
            "Predicted Values: [  2.    -14.001   1.001  -1.     -6.999  -8.001]\n"
          ]
        },
        {
          "output_type": "display_data",
          "data": {
            "image/png": "[encoded data removed]",
            "text/plain": [
              "<Figure size 432x288 with 1 Axes>"
            ]
          },
          "metadata": {
            "needs_background": "light"
          }
        }
      ]
    },
    {
      "cell_type": "code",
      "metadata": {
        "id": "jlBUsU7JcHBe"
      },
      "source": [
        "# Insert Adam optimisation part here!!!!!"
      ],
      "execution_count": 58,
      "outputs": []
    },
    {
      "cell_type": "markdown",
      "metadata": {
        "id": "y9m_SAKClhfB"
      },
      "source": [
        "##### Q3. A group of 20 students studied 0 to 6 hours for the exam. Some passed and others failed. Results are given below \n",
        "\n",
        "| Student | Hours studied - x | Result (0 – fail, 1 – pass) - y | \n",
        "| --- | --- | --- | \n",
        "| 1 | 0.5 | 0 | \n",
        "| 2 | 0.75 | 0 | \n",
        "| 3 | 1.00 | 0 | \n",
        "| 4 | 1.25 | 0 | \n",
        "| 5 | 1.50 | 0 | \n",
        "| 6 | 1.75 | 0 | \n",
        "| 7 | 1.75 | 1 | \n",
        "| 8 | 2.00 | 0 | \n",
        "| 9 | 2.25 | 1 | \n",
        "| 10 | 2.50 | 0 | \n",
        "| 11 | 2.75 | 1 | \n",
        "| 12 | 3.00 | 0 | \n",
        "| 13 | 3.25 | 1 | \n",
        "| 14 | 3.50 | 0 | \n",
        "| 15 | 4.00 | 1 | \n",
        "| 16 | 4.25 | 1 | \n",
        "| 17 | 4.50 | 1 | \n",
        "| 18 | 4.75 | 1 | \n",
        "| 19 | 5.00 | 1 | \n",
        "| 20 | 5.50 | 1 |\n",
        "\n",
        "- (a). Write python code for scratch to build neural network model to determine the optimal linear \n",
        "hypothesis using linear regression to predict if a student passes or not based on the number hours \n",
        "studied with the use for stochastic gradient descent and Adam optimization algorithm with model \n",
        "parameters for α = 0.01 choose random values of weights and bias and epochs=10000. Use \n",
        "appropriate regression loss function. \n",
        "- (b). \n",
        "    - (i).Write python code from scratch to determine the optimal logistic hypothesis using logistic regression to predict if a student passes or not based on the number hours studied with the use for stochastic gradient descent with model parameters for α = 0.01 choose random values of weights and bias and epochs=40000; Loss function: Binary Cross Entropy (BCE), Threshold value=0.5 \n",
        "        - (a) plot the cost function vs epoch \n",
        "        - (b) Predict pass or failed result of your designed model on random study hours enter by you. \n",
        "    - (ii) Repeat part (i) analysis with Dice Loss function. \n",
        "    - (iii)Repeat part (i) analysis with Adam optimization algorithm. \n"
      ]
    },
    {
      "cell_type": "code",
      "metadata": {
        "id": "WivR0aj1hLdZ"
      },
      "source": [
        "X = [0.5 ,0.75,1.00,1.25,1.50,1.75,1.75,2.00,2.25,2.50,2.75,3.00,3.25,3.50,4.00,4.25,4.50,4.75,5.00, 5.50]\n",
        "Y = [0,0,0,0,0,0,1,0,1,0,1,0,1,0,1,1,1,1,1,1]\n",
        "alpha = 0.01\n",
        "epochs = 10000"
      ],
      "execution_count": 59,
      "outputs": []
    },
    {
      "cell_type": "code",
      "metadata": {
        "colab": {
          "base_uri": "https://localhost:8080/",
          "height": 678
        },
        "id": "paGa_BIAhMN_",
        "outputId": "56f2bdd1-c996-495d-a284-2d42f89878ff"
      },
      "source": [
        "#Initialise neuron\n",
        "A = Neuron(rate = alpha)\n",
        "\n",
        "#gradient_decent\n",
        "A.disp_params()\n",
        "    \n",
        "s_loss = [np.inf]\n",
        "for pos in range(epochs):\n",
        "    Prediction = A.forward_step(X[pos%len(X)])\n",
        "    s_loss = s_loss + [np.mean(np.square(Prediction-Y[pos%len(X)]))]    #Save loss for plotting\n",
        "    A.stochastic_gradient_descent_step(X[pos%len(X)],Y[pos%len(X)]) #Perform gradient descent\n",
        "\n",
        "#Display final weight and bias values\n",
        "print(\"\\nAfter gradient descent:\")\n",
        "A.disp_params()\n",
        "\n",
        "#Display predicted values vs ground truth\n",
        "print(\"\\nGround Truth:\",Y)\n",
        "print(\"Predicted Values:\",np.round(Prediction,3))\n",
        "\n",
        "#Plot loss vs Iteration graph\n",
        "plt.plot(s_loss,'g')\n",
        "plt.legend(\"Loss\")\n",
        "plt.title(\"Loss vs Epochs for stochastic gradient descent\")\n",
        "plt.xlabel(\"Epochs\")\n",
        "plt.ylabel(\"Loss\")\n",
        "plt.show()\n",
        "\n",
        "#plotting regression line\n",
        "X_line=np.linspace(1,7,100)\n",
        "Y_line = [(i* A.weight + A.bias) for i in X_line]\n",
        "plt.figure()\n",
        "plt.plot(X_line,Y_line)\n",
        "plt.scatter(X,Y,color = 'r')\n",
        "plt.title(\"Regression line\")\n",
        "plt.show()"
      ],
      "execution_count": 60,
      "outputs": [
        {
          "output_type": "stream",
          "name": "stdout",
          "text": [
            "Weight = 0.8590092442090487 , Bias = 0.787955213485089\n",
            "\n",
            "After gradient descent:\n",
            "Weight = 0.2128366433480237 , Bias = -0.11495397488463911\n",
            "\n",
            "Ground Truth: [0, 0, 0, 0, 0, 0, 1, 0, 1, 0, 1, 0, 1, 0, 1, 1, 1, 1, 1, 1]\n",
            "Predicted Values: 1.148\n"
          ]
        },
        {
          "output_type": "display_data",
          "data": {
            "image/png": "[encoded data removed]",
            "text/plain": [
              "<Figure size 432x288 with 1 Axes>"
            ]
          },
          "metadata": {
            "needs_background": "light"
          }
        },
        {
          "output_type": "display_data",
          "data": {
            "image/png": "[encoded data removed]",
            "text/plain": [
              "<Figure size 432x288 with 1 Axes>"
            ]
          },
          "metadata": {
            "needs_background": "light"
          }
        }
      ]
    },
    {
      "cell_type": "code",
      "metadata": {
        "id": "3VG0oYdUzNQ4"
      },
      "source": [
        "#other functions\n",
        "# Loss Function BCE\n",
        "def loss_BCE(y, y_hat):\n",
        "  # y -> truth\n",
        "  # y_hat -> prediction/hypothesis\n",
        "  loss = -np.mean(y*np.log(y_hat)+(1-y)*np.log(1-y_hat))\n",
        "  return loss\n",
        "\n",
        "def Dice_Loss(y_hat,y):\n",
        "    total = len(y_hat)\n",
        "    TP = np.logical_and(y,np.round(y_hat))\n",
        "    TN = np.logical_and(1 - y, 1 - np.round(y_hat))\n",
        "    DC = (2*np.sum(TP))/(total-np.sum(TN)+np.sum(TP)) # Dice Coefficient\n",
        "    DL=1-DC                                           # Dice Loss\n",
        "    return DL \n",
        "\n",
        "# Gradients calculation\n",
        "def gradient(X, y, y_hat):\n",
        "  # m ->number of training examples\n",
        "  m = X.shape[0]\n",
        "\n",
        "  # Gradient w.r.t. weights\n",
        "  dw = (1/m)*np.dot(X.T, (y_hat-y))\n",
        "\n",
        "  # Gradient w.r.t. bias\n",
        "  db = (1/m)*np.sum(y_hat-y)\n",
        "\n",
        "  return dw, db    \n",
        "\n",
        "#sigmoid function\n",
        "def sigmoid(x):\n",
        "  return 1.0/(1+np.exp(-x))\n",
        "    \n"
      ],
      "execution_count": 61,
      "outputs": []
    },
    {
      "cell_type": "code",
      "metadata": {
        "colab": {
          "base_uri": "https://localhost:8080/"
        },
        "id": "3y2J37OOd7rJ",
        "outputId": "ba7ba594-14f9-4905-9b91-9ba0c8c8615c"
      },
      "source": [
        "np.round(0.51)"
      ],
      "execution_count": 62,
      "outputs": [
        {
          "output_type": "execute_result",
          "data": {
            "text/plain": [
              "1.0"
            ]
          },
          "metadata": {},
          "execution_count": 62
        }
      ]
    },
    {
      "cell_type": "code",
      "metadata": {
        "id": "3zagKpU0lhfE"
      },
      "source": [
        "#(b)(i)\n",
        "## Defining Neuron\n",
        "class Neuron_log:\n",
        "  # class initialization \n",
        "    def __init__(self, learn_rate=0.01, weights=np.random.rand(), bias=np.random.rand(), loss=\"Binary Cross Entropy\"):\n",
        "      #l_rate -> learning rate\n",
        "      self.l_rate = learn_rate\n",
        "      self.weights = weights\n",
        "      self.bias = bias\n",
        "\n",
        "  # Displaying parameters\n",
        "    def disp_params(self):\n",
        "      print(\"Weight = {} , Bias = {}\".format(self.weights,self.bias))\n",
        "\n",
        "      \n",
        "  # hypothesis, or forward step\n",
        "    def forward_step(self, X):\n",
        "      # X -> Input\n",
        "      return sigmoid(np.dot(X,self.weights)+self.bias)\n",
        "\n",
        "  # stochastic gradient step\n",
        "    def stochastic_gradient_step(self, X, y):\n",
        "      y_hat = self.forward_step(X)\n",
        "\n",
        "      #updating weights and bias\n",
        "      dw, db = gradient(X, y, y_hat)\n",
        "\n",
        "      self.weights = self.weights - dw*self.l_rate\n",
        "      self.bias = self.bias - db*self.l_rate\n",
        "    \n",
        "  # loss calculation\n",
        "    def loss(self, y, y_hat):\n",
        "      if(self.loss == \"Binary Cross Entropy\"):\n",
        "        loss = loss_BCE(y, y_hat)\n",
        "      elif(self.loss == \"Dice Loss\"):\n",
        "        ;"
      ],
      "execution_count": 63,
      "outputs": []
    },
    {
      "cell_type": "code",
      "metadata": {
        "id": "_BpbYZuQuDgq"
      },
      "source": [
        "# defining inputs\n",
        "X = np.array([0.5, 0.75, 1.00, 1.25, 1.50, 1.75, 1.75, 2.00, 2.25, 2.50, 2.75, 3.00, 3.25, 3.50, 4.00, 4.25, 4.50, 4.75, 5.00, 5.50])\n",
        "y = np.array([0, 0, 0, 0, 0, 0, 1, 0, 1, 0, 1, 0, 1, 0, 1, 1, 1, 1, 1, 1])\n",
        "epochs = 40000\n",
        "alpha = 0.01\n",
        "threshold_value = 0.5"
      ],
      "execution_count": 64,
      "outputs": []
    },
    {
      "cell_type": "code",
      "metadata": {
        "colab": {
          "base_uri": "https://localhost:8080/"
        },
        "id": "5dQVnI-xt0Ux",
        "outputId": "23b23466-c53d-4fab-ed6e-7b1a5860e5f5"
      },
      "source": [
        "## Training\n",
        "#Initialise neuron\n",
        "B = Neuron_log(learn_rate = alpha)\n",
        "\n",
        "#Display initial weight and bias values\n",
        "print(\"Original Values:\")\n",
        "B.disp_params()\n",
        "\n",
        "#stochastic gradient_decent\n",
        "loss = [np.inf]    #initialising loss variable as infinity\n",
        "for _ in range(epochs):\n",
        "    y_hat =[B.forward_step(i) for i in X ]\n",
        "    y_hat=np.array(y_hat)\n",
        "    loss = loss + [loss_BCE(y, y_hat)]    #Save loss for plotting\n",
        "\n",
        "    B.stochastic_gradient_step(X,y) #Perform gradient descent\n",
        "\n",
        "#Display final weight and bias values\n",
        "print(\"\\nAfter gradient descent:\")\n",
        "B.disp_params()\n",
        "\n",
        "#Display predicted values vs ground truth\n",
        "print(\"\\nGround Truth:\",y)\n",
        "Prediction = [1 if y_hat[i]>=threshold_value else 0 for i in range(y.shape[0])]\n",
        "\n",
        "print(\"Output values:\",y_hat)\n",
        "print(\"Predicted Values:\",Prediction)"
      ],
      "execution_count": 65,
      "outputs": [
        {
          "output_type": "stream",
          "name": "stdout",
          "text": [
            "Original Values:\n",
            "Weight = 0.9718869821339801 , Bias = 0.5737978361604621\n",
            "\n",
            "After gradient descent:\n",
            "Weight = 1.5025364530203924 , Bias = -4.071482982054606\n",
            "\n",
            "Ground Truth: [0 0 0 0 0 0 1 0 1 0 1 0 1 0 1 1 1 1 1 1]\n",
            "Output values: [0.0348842  0.0499933  0.07116395 0.10035269 0.13971275 0.19122905\n",
            " 0.19122905 0.25608644 0.33386053 0.4218602  0.51511847 0.60733563\n",
            " 0.69248451 0.76627474 0.87420513 0.91005417 0.93642985 0.95544976\n",
            " 0.96896758 0.98511591]\n",
            "Predicted Values: [0, 0, 0, 0, 0, 0, 0, 0, 0, 0, 1, 1, 1, 1, 1, 1, 1, 1, 1, 1]\n"
          ]
        }
      ]
    },
    {
      "cell_type": "code",
      "metadata": {
        "id": "eVpeqkrg3_J1",
        "colab": {
          "base_uri": "https://localhost:8080/",
          "height": 559
        },
        "outputId": "953f1b0a-f714-40a8-b960-1caa2a0f0b0f"
      },
      "source": [
        "#Plot loss vs Iteration graph\n",
        "plt.plot(loss,'g')\n",
        "plt.legend(\"Loss\")\n",
        "plt.title(\"Loss vs Epochs for stochastic gradient descent\")\n",
        "plt.xlabel(\"Epochs\")\n",
        "plt.ylabel(\"Loss\")\n",
        "plt.show()\n",
        "\n",
        "#plotting regression line\n",
        "X_line=np.linspace(1,7,100)\n",
        "Y_line = [(i* B.weights + B.bias) for i in X_line]\n",
        "plt.figure()\n",
        "plt.plot(X_line,Y_line)\n",
        "plt.scatter(X,y,color = 'r')\n",
        "plt.title(\"Regression line\")\n",
        "plt.ylim([-0.5,1.5])\n",
        "plt.show()"
      ],
      "execution_count": 66,
      "outputs": [
        {
          "output_type": "display_data",
          "data": {
            "image/png": "[encoded data removed]",
            "text/plain": [
              "<Figure size 432x288 with 1 Axes>"
            ]
          },
          "metadata": {
            "needs_background": "light"
          }
        },
        {
          "output_type": "display_data",
          "data": {
            "image/png": "[encoded data removed]",
            "text/plain": [
              "<Figure size 432x288 with 1 Axes>"
            ]
          },
          "metadata": {
            "needs_background": "light"
          }
        }
      ]
    },
    {
      "cell_type": "code",
      "metadata": {
        "colab": {
          "base_uri": "https://localhost:8080/",
          "height": 34
        },
        "id": "R_9uU1yL4azN",
        "outputId": "23b4e588-e428-49fa-ee73-bd3a890e057b"
      },
      "source": [
        "#predicting for custom values\n",
        "test = np.array([1.00, 3.75, 7])\n",
        "y_test = test* B.weights + B.bias\n",
        "y_probability = sigmoid(y_test)\n",
        "predict = [1 if y_probability[i]>=threshold_value else 0 for i in range(y_probability.shape[0])]\n",
        "display(predict)"
      ],
      "execution_count": 67,
      "outputs": [
        {
          "output_type": "display_data",
          "data": {
            "text/plain": [
              "[0, 1, 1]"
            ]
          },
          "metadata": {}
        }
      ]
    },
    {
      "cell_type": "markdown",
      "metadata": {
        "id": "JpSgBkvmlhfF"
      },
      "source": [
        "##### Q.4. Build a model to recognize different handwritten digits from MNIST dataset by using multinomial logistic regression.Use of Adam optimization algorithm to learn model with parameters for α = 0.01, epoch = 40000 and random parameters of the model and Loss function: Softmax loss function.\n",
        "- (a) Plot the cost function vs epoch \n",
        "- (b) Predict the digit of your designed model on random test data enter by you \n",
        "- (c) print confusion matrix \n",
        "- (d) calculate classification metrics such as precision,recall, f1-score and accuracy"
      ]
    },
    {
      "cell_type": "code",
      "metadata": {
        "id": "H4WMX3rg5Y-P"
      },
      "source": [
        ""
      ],
      "execution_count": 67,
      "outputs": []
    },
    {
      "cell_type": "markdown",
      "metadata": {
        "id": "jnJrQQZ2lhfJ"
      },
      "source": [
        "##### Q.5. Build a model to discriminate the red, green and blue points in 2-dimensional space shown below: \n",
        "\n",
        "The input data and target are as follows: \n",
        "\n",
        "`\n",
        "X=np.array([[-0.1, 1.4], \n",
        "[-0.5,0.2], \n",
        " [1.3,0.9], \n",
        " [-0.6,0.4], \n",
        " [-1.6,0.2], \n",
        " [0.2,0.2], \n",
        " [-0.3,-0.4], \n",
        " [0.7,-0.8], \n",
        " [1.1,-1.5], \n",
        " [-1.0,0.9], \n",
        " [-0.5,1.5], \n",
        " [-1.3,-0.4], \n",
        " [-1.4,-1.2], \n",
        " [-0.9,-0.7], \n",
        " [0.4,-1.3], \n",
        " [-0.4,0.6], \n",
        " [0.3,-0.5], \n",
        " [-1.6,-0.7], \n",
        " [-0.5,-1.4], \n",
        " [-1.0,-1.4]]) \n",
        "y=np.array ([0,0,1,0,2,1,1,1,1,0,0,2,2,2,1,0,1,2,2,2]); `\n",
        "\n",
        "Here, \n",
        "0=red, 1=green and 2= blue dots \n",
        "In other words, given a point in 2-dimensions, x=(x1,x2), predict output either red, green or blue by \n",
        "using multinomial logistic regression. \n",
        "- (a) \n",
        "    - (i) Compare predicted results with ground truth using bar chat plot \n",
        "    - (ii) plot loss curve \n",
        "    - (iii) print confusion matrix \n",
        "    - (iv) calculate classification metrics such as precision, recall, f1-score and accuracy \n",
        "    - (v) Visualize classified data by Scatter plot. Use of gradient descent learning algorithm to learn model with parameters for α = 0.01, Softmax loss function and random parameters of the model.\n",
        "- (b)repeat part (a) Use Stochastic gradient descent algorithm to learn model \n",
        "- (c) repeat part (a) with use of Adam Optimization algorithm to learn model"
      ]
    },
    {
      "cell_type": "code",
      "metadata": {
        "id": "XgiAtb5alhfL"
      },
      "source": [
        ""
      ],
      "execution_count": 67,
      "outputs": []
    }
  ]
}