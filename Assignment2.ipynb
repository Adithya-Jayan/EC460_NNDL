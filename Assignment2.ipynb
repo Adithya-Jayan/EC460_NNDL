{
 "cells": [
  {
   "cell_type": "code",
   "execution_count": 1,
   "metadata": {
    "id": "ITEkFhdZSlsb"
   },
   "outputs": [],
   "source": [
    "import numpy as np\n",
    "import matplotlib.pyplot as plt"
   ]
  },
  {
   "cell_type": "markdown",
   "metadata": {
    "id": "D3y6kArxlhe0"
   },
   "source": [
    "##### Q.1.Write python code from scratch for simple Linear Regression problem, the following training data are given. \n",
    "`\n",
    "X = [2, 2.5, 3, 3.5, 4, 4.5, 5, 5.5, 6] \n",
    "Y = [5.1, 6.1, 6.9, 7.8, 9.2, 9.9, 11.5, 12, 12.8] `\n",
    "\n",
    "The model Y as a linear function of X \n",
    "1. Use batch gradient descent learning algorithm to learn model parameters for α = 0.01 choose random values of weights and bias and epochs=1000. Use MSE as loss function with an appropriate convergence criterion. \n",
    "2. Plot cost function (J) for the learning duration \n",
    "3. plot the regression line \n",
    "4. repeat (2) to (3) for stochastic gradient descent and Adam optimization algorithm\n",
    "5. Plot comparative loss curve \n"
   ]
  },
  {
   "cell_type": "code",
   "execution_count": 2,
   "metadata": {
    "id": "sA7pLbdSlhe5"
   },
   "outputs": [],
   "source": [
    "## Defining Neuron\n",
    "\n",
    "class Neuron:\n",
    "    def __init__(self, rate=0.01 , Weight=np.random.rand(),Bias = np.random.rand()):\n",
    "        self.weight = Weight\n",
    "        self.bias = Bias\n",
    "        self.learning_rate = rate\n",
    "\n",
    "    def disp_params(self):\n",
    "        print(\"Weight = {} , Bias = {}\".format(self.weight,self.bias))\n",
    "    \n",
    "    def forward_step(self,X):\n",
    "        out = np.sum(X*self.weight) + self.bias\n",
    "        return(out)\n",
    "    \n",
    "    def batch_gradient_descent_step(self,X_in,y_true):\n",
    "        y_predicted = [self.forward_step(X_in[i]) for i in range(len(X_in))]\n",
    "        error = np.mean(np.square(y_true-y_predicted))\n",
    "        \n",
    "        gradient = np.sum((y_true-y_predicted)*X_in)*-2 /len(X_in)           \n",
    "        self.weight = self.weight - self.learning_rate * gradient\n",
    "            \n",
    "        gradient = np.sum(y_true-y_predicted)*-2/len(X_in) \n",
    "        self.bias = self.bias - self.learning_rate * gradient\n",
    "\n",
    "    def stochastic_gradient_descent_step(self,X_in,y_true):\n",
    "        y_predicted = self.forward_step(X_in) \n",
    "        error = np.mean(np.square(y_true-y_predicted))\n",
    "        \n",
    "        gradient = (y_true-y_predicted)*X_in*-2          \n",
    "        self.weight = self.weight - self.learning_rate * gradient\n",
    "        gradient = (y_true-y_predicted)*-2\n",
    "        self.bias = self.bias - self.learning_rate * gradient\n"
   ]
  },
  {
   "cell_type": "code",
   "execution_count": 3,
   "metadata": {
    "colab": {
     "base_uri": "https://localhost:8080/",
     "height": 746
    },
    "id": "A4ttwS1ISpaV",
    "outputId": "692fffa7-3733-4cfd-d40e-2dc5d9551a63"
   },
   "outputs": [
    {
     "name": "stdout",
     "output_type": "stream",
     "text": [
      "\n",
      "\u001b[1mBatch gradient decent\u001b[0m\n",
      "\n",
      "Original Values:\n",
      "Weight = 0.7748380084420008 , Bias = 0.42289356257103505\n",
      "\n",
      "After gradient descent:\n",
      "Weight = 2.0062542441584736 , Bias = 1.003222449928021\n",
      "\n",
      "Ground Truth: [ 5.1  6.1  6.9  7.8  9.2  9.9 11.5 12.  12.8]\n",
      "Predicted Values: [ 5.016  6.019  7.022  8.025  9.028 10.031 11.035 12.038 13.041]\n"
     ]
    },
    {
     "data": {
      "image/png": "[encoded data removed]",
      "text/plain": [
       "<Figure size 432x288 with 1 Axes>"
      ]
     },
     "metadata": {
      "needs_background": "light"
     },
     "output_type": "display_data"
    },
    {
     "data": {
      "image/png": "[encoded data removed]",
      "text/plain": [
       "<Figure size 432x288 with 1 Axes>"
      ]
     },
     "metadata": {
      "needs_background": "light"
     },
     "output_type": "display_data"
    }
   ],
   "source": [
    "## Perform batch gradient descent \n",
    "\n",
    "print(\"\\n\"+'\\033[1m'+\"Batch gradient decent\"+'\\033[0m'+\"\\n\")\n",
    "\n",
    "X = np.array([2, 2.5, 3, 3.5, 4, 4.5, 5, 5.5, 6] )\n",
    "Y = np.array([5.1, 6.1, 6.9, 7.8, 9.2, 9.9, 11.5, 12, 12.8])\n",
    "alpha = 0.01\n",
    "epochs = 1000\n",
    "\n",
    "#Initialise neuron\n",
    "A = Neuron(rate = alpha)\n",
    "\n",
    "#Display initial weight and bias values\n",
    "print(\"Original Values:\")\n",
    "A.disp_params()\n",
    "\n",
    "#Batch gradient_decent\n",
    "b_loss = [np.inf]    #initialising loss variable as infinity\n",
    "for _ in range(epochs):\n",
    "    Prediction = [A.forward_step(i) for i in X ]\n",
    "    b_loss = b_loss + [np.mean(np.square(Prediction-Y))]    #Save loss for plotting\n",
    "\n",
    "    A.batch_gradient_descent_step(X,Y) #Perform gradient descent\n",
    "\n",
    "#Display final weight and bias values\n",
    "print(\"\\nAfter gradient descent:\")\n",
    "A.disp_params()\n",
    "\n",
    "#Display predicted values vs ground truth\n",
    "print(\"\\nGround Truth:\",Y)\n",
    "print(\"Predicted Values:\",np.round(Prediction,3))\n",
    "\n",
    "#Plot loss vs Iteration graph\n",
    "plt.plot(b_loss,'g')\n",
    "plt.legend(\"Loss\")\n",
    "plt.title(\"Loss vs Epochs for batch gradient descent\")\n",
    "plt.xlabel(\"Epochs\")\n",
    "plt.ylabel(\"Loss\")\n",
    "plt.show()\n",
    "\n",
    "#plotting regression line\n",
    "X_line=np.linspace(1,7,100)\n",
    "Y_line = [(i* A.weight + A.bias) for i in X_line]\n",
    "plt.figure()\n",
    "plt.plot(X_line,Y_line)\n",
    "plt.scatter(X,Y,color = 'r')\n",
    "plt.title(\"Regression line\")\n",
    "plt.show()"
   ]
  },
  {
   "cell_type": "code",
   "execution_count": 4,
   "metadata": {
    "colab": {
     "base_uri": "https://localhost:8080/",
     "height": 729
    },
    "id": "cKbkeHI3sFCu",
    "outputId": "beb44c29-3aee-437f-e88c-d512e7afe507"
   },
   "outputs": [
    {
     "name": "stdout",
     "output_type": "stream",
     "text": [
      "\n",
      "\u001b[1mStochastic gradient decent\u001b[0m\n",
      "\n",
      "Weight = 0.7748380084420008 , Bias = 0.42289356257103505\n",
      "\n",
      "After gradient descent:\n",
      "Weight = 1.9544667705139984 , Bias = 1.169706872035008\n",
      "\n",
      "Ground Truth: [ 5.1  6.1  6.9  7.8  9.2  9.9 11.5 12.  12.8]\n",
      "Predicted Values: [ 5.072  6.048  7.024  8.     8.976  9.952 10.928 11.904 12.88 ]\n"
     ]
    },
    {
     "data": {
      "image/png": "[encoded data removed]",
      "text/plain": [
       "<Figure size 432x288 with 1 Axes>"
      ]
     },
     "metadata": {
      "needs_background": "light"
     },
     "output_type": "display_data"
    },
    {
     "data": {
      "image/png": "[encoded data removed]",
      "text/plain": [
       "<Figure size 432x288 with 1 Axes>"
      ]
     },
     "metadata": {
      "needs_background": "light"
     },
     "output_type": "display_data"
    }
   ],
   "source": [
    "## Perform stochastic gradient descent \n",
    "\n",
    "print(\"\\n\"+'\\033[1m'+\"Stochastic gradient decent\"+'\\033[0m'+\"\\n\")\n",
    "\n",
    "X = np.array([2, 2.5, 3, 3.5, 4, 4.5, 5, 5.5, 6] )\n",
    "Y = np.array([5.1, 6.1, 6.9, 7.8, 9.2, 9.9, 11.5, 12, 12.8])\n",
    "alpha = 0.01\n",
    "epochs = 1000\n",
    "\n",
    "#Initialise neuron\n",
    "A = Neuron(rate = alpha)\n",
    "\n",
    "#gradient_decent\n",
    "A.disp_params()\n",
    "    \n",
    "s_loss = [np.inf]\n",
    "pos=0\n",
    "for _ in range(epochs):\n",
    "    pos=pos+1\n",
    "    Prediction = [A.forward_step(i) for i in X ]\n",
    "    s_loss = s_loss + [np.mean(np.square(Prediction-Y))]    #Save loss for plotting\n",
    "    A.stochastic_gradient_descent_step(X[pos%len(X)],Y[pos%len(X)]) #Perform gradient descent\n",
    "\n",
    "#Display final weight and bias values\n",
    "print(\"\\nAfter gradient descent:\")\n",
    "A.disp_params()\n",
    "\n",
    "#Display predicted values vs ground truth\n",
    "print(\"\\nGround Truth:\",Y)\n",
    "print(\"Predicted Values:\",np.round(Prediction,3))\n",
    "\n",
    "#Plot loss vs Iteration graph\n",
    "plt.plot(s_loss,'g')\n",
    "plt.legend(\"Loss\")\n",
    "plt.title(\"Loss vs Epochs for stochastic gradient descent\")\n",
    "plt.xlabel(\"Epochs\")\n",
    "plt.ylabel(\"Loss\")\n",
    "plt.show()\n",
    "\n",
    "#plotting regression line\n",
    "X_line=np.linspace(1,7,100)\n",
    "Y_line = [(i* A.weight + A.bias) for i in X_line]\n",
    "plt.figure()\n",
    "plt.plot(X_line,Y_line)\n",
    "plt.scatter(X,Y,color = 'r')\n",
    "plt.title(\"Regression line\")\n",
    "plt.show()"
   ]
  },
  {
   "cell_type": "code",
   "execution_count": 5,
   "metadata": {
    "colab": {
     "base_uri": "https://localhost:8080/",
     "height": 295
    },
    "id": "9ALo2R77sJyk",
    "outputId": "ba0e93d2-a585-4fd4-d6f8-93511f386524"
   },
   "outputs": [
    {
     "data": {
      "image/png": "[encoded data removed]",
      "text/plain": [
       "<Figure size 432x288 with 1 Axes>"
      ]
     },
     "metadata": {
      "needs_background": "light"
     },
     "output_type": "display_data"
    }
   ],
   "source": [
    "## Compare stochastic and batch gradient descent losses\n",
    "\n",
    "plt.figure()\n",
    "plt.title(\"Comparision between Batch and Stochastic gradient descent\")\n",
    "plt.plot(s_loss,'b',label = \"Stochastic gradient descent loss\")\n",
    "plt.plot(b_loss,'r',label=\"Batch gradient descent loss\")\n",
    "plt.xlabel(\"epochs\")\n",
    "plt.ylabel(\"loss\")\n",
    "plt.legend()\n",
    "plt.show()"
   ]
  },
  {
   "cell_type": "markdown",
   "metadata": {
    "id": "L8Bx03M5lhe8"
   },
   "source": [
    "##### Q.2. The neural network shown in Fig.1 has the following hyper parameters and input: Choose random weights and bias of the neuron and learning rate =0.01 and inputs to the neuron and target \n",
    "values are as follows.\n",
    "\n",
    "|X1 |X2 |Y(target) |\n",
    "|---|---|---|\n",
    "|4 |1 |2 |\n",
    "|2 |8 |-14| \n",
    "|1 |0 |1 |\n",
    "|3 |2 |-1 |\n",
    "|1 |4 |-7 |\n",
    "|6 |7 |-8 |\n",
    "\n",
    "1. Write a python code for predicted the output of neural network for given set of inputs using Stochastic Gradient Descent algorithm for the loss functions: \n",
    "    1. Mean Square Error \n",
    "    2. Squared Epsilon Hinge Loss\n",
    "2. Plot comparative loss curve \n",
    "3. repeat (1) and Adam optimization algorithm"
   ]
  },
  {
   "cell_type": "code",
   "execution_count": 6,
   "metadata": {
    "id": "3wlMTjkUlhe_"
   },
   "outputs": [],
   "source": [
    "class Neuron_2:\n",
    "    def __init__(self, rate=0.01 , Weights=np.random.rand(2),Bias = np.random.rand(),loss=\"Mean Square Error\",epsilon = 10**-8, alpha =0.001, beta1 = 0.9, beta2=0.999 ):\n",
    "        self.weights = Weights\n",
    "        self.bias = Bias\n",
    "        self.learning_rate = rate\n",
    "        self.loss = loss\n",
    "        self.epsilon = epsilon\n",
    "        \n",
    "    def disp_params(self):\n",
    "        print(\"Weights = {} , Bias = {}\".format(self.weights,self.bias))\n",
    "    \n",
    "    def forward_step(self,X1,X2):\n",
    "        out = X1*self.weights[0] +X2*self.weights[1] + self.bias\n",
    "        return(out)\n",
    "    \n",
    "    def Calculate_loss(self,X1,X2,y_true):\n",
    "        y_predicted = self.forward_step(X1,X2)\n",
    "        if(self.loss == \"Mean Square Error\"):\n",
    "            loss = np.mean(np.square(y_true-y_predicted))\n",
    "        elif(self.loss == \"Squared Epsilon Hinge Loss\"):\n",
    "            loss = 0.5 * (np.square(y_predicted-y_true) - (self.epsilon**2))\n",
    "            if(loss < 0): loss = 0\n",
    "        return loss\n",
    "        \n",
    "    def stochastic_gradient_descent(self,X1,X2,Y):\n",
    "        \n",
    "        y_predicted = self.forward_step(X1,X2) \n",
    "        \n",
    "        if(self.loss == \"Mean Square Error\"):\n",
    "            gradient = -2*(Y-y_predicted)\n",
    "            \n",
    "        elif(self.loss == \"Squared Epsilon Hinge Loss\"):\n",
    "            gradient = (y_predicted-Y)\n",
    "        \n",
    "        self.weights[0] = self.weights[0] - self.learning_rate * gradient *X1\n",
    "        self.weights[1] = self.weights[1] - self.learning_rate * gradient *X2\n",
    "        self.bias = self.bias - self.learning_rate * gradient          \n",
    "\n",
    "  #adam optimizer part\n",
    "    def adam_Optimizer(self, t, w, b, X1, X2, Y):\n",
    "\n",
    "      y_predicted = self.forward_step(X1,X2)  \n",
    "      \n",
    "      if(self.loss == \"Mean Square Error\"):\n",
    "        gradient = -2*(Y-y_predicted)\n",
    "            \n",
    "      elif(self.loss == \"Squared Epsilon Hinge Loss\"):\n",
    "        gradient = (y_predicted-Y) \n",
    "\n",
    "      \n",
    "              "
   ]
  },
  {
   "cell_type": "code",
   "execution_count": 7,
   "metadata": {
    "id": "DUZJyfm0cBFv"
   },
   "outputs": [],
   "source": [
    "#Define Inputs\n",
    "X1 = np.array([4,2,1,3,1,6])\n",
    "X2 = np.array([1,8,0,2,4,7])\n",
    "Y = np.array([2,-14,1,-1,-7,-8])\n",
    "rate = 0.01\n",
    "epsilon = 0.2"
   ]
  },
  {
   "cell_type": "code",
   "execution_count": 8,
   "metadata": {
    "colab": {
     "base_uri": "https://localhost:8080/",
     "height": 431
    },
    "id": "-ek1AVLGcDwq",
    "outputId": "31ec1977-48ea-40e1-9dd6-caf1285ec32c"
   },
   "outputs": [
    {
     "name": "stdout",
     "output_type": "stream",
     "text": [
      "Gradient Descent using: Squared Epsilon Hinge Loss\n",
      "Weights = [0.51878615 0.07678635] , Bias = 0.9564963522328723\n",
      "\n",
      "After gradient descent:\n",
      "Weights = [ 0.98924779 -2.00477733] , Bias = 0.05944378820629393\n",
      "\n",
      "Ground Truth: [  2 -14   1  -1  -7  -8]\n",
      "Predicted Values: [  2.015 -13.996   1.05   -0.979  -6.968  -8.032]\n"
     ]
    },
    {
     "data": {
      "image/png": "[encoded data removed]",
      "text/plain": [
       "<Figure size 432x288 with 1 Axes>"
      ]
     },
     "metadata": {
      "needs_background": "light"
     },
     "output_type": "display_data"
    }
   ],
   "source": [
    "print(\"Gradient Descent using: Squared Epsilon Hinge Loss\")\n",
    "A = Neuron_2(rate,loss=\"Squared Epsilon Hinge Loss\",epsilon = epsilon)\n",
    "\n",
    "#gradient_decent\n",
    "A.disp_params()\n",
    "    \n",
    "loss = [np.inf]\n",
    "for pos in range(epochs):\n",
    "    Prediction = [A.forward_step(i,j) for i,j in zip(X1,X2) ]\n",
    "    loss = loss + [A.Calculate_loss(X1[pos%len(X1)],X2[pos%len(X1)],Y[pos%len(X1)])]    #Save loss for plotting\n",
    "    A.stochastic_gradient_descent(X1 = X1[pos%len(X1)],X2 = X2[pos%len(X1)],Y = Y[pos%len(X1)]) #Perform gradient descent\n",
    "#Display final weight and bias values\n",
    "print(\"\\nAfter gradient descent:\")\n",
    "A.disp_params()\n",
    "\n",
    "#Display predicted values vs ground truth\n",
    "print(\"\\nGround Truth:\",Y)\n",
    "print(\"Predicted Values:\",np.round(Prediction,3))\n",
    "\n",
    "#Plot loss vs Iteration graph\n",
    "plt.plot(loss,'g')\n",
    "plt.legend(\"Loss\")\n",
    "plt.title(\"Loss curve for stochastic gradient descent\")\n",
    "plt.xlabel(\"Epochs\")\n",
    "plt.ylabel(\"Loss\")\n",
    "plt.show()"
   ]
  },
  {
   "cell_type": "code",
   "execution_count": 9,
   "metadata": {
    "colab": {
     "base_uri": "https://localhost:8080/",
     "height": 431
    },
    "id": "6xtYaEIQcFVC",
    "outputId": "adaa7164-4f70-4c26-bc44-3cabee451e7f"
   },
   "outputs": [
    {
     "name": "stdout",
     "output_type": "stream",
     "text": [
      "Gradient Descent using: Mean Square Error\n",
      "Weights = [ 0.98924779 -2.00477733] , Bias = 0.9564963522328723\n",
      "\n",
      "After gradient descent:\n",
      "Weights = [ 0.99962904 -2.0002986 ] , Bias = 0.0021428039023576864\n",
      "\n",
      "Ground Truth: [  2 -14   1  -1  -7  -8]\n",
      "Predicted Values: [  2.001 -14.001   1.002  -0.999  -6.999  -8.002]\n"
     ]
    },
    {
     "data": {
      "image/png": "[encoded data removed]",
      "text/plain": [
       "<Figure size 432x288 with 1 Axes>"
      ]
     },
     "metadata": {
      "needs_background": "light"
     },
     "output_type": "display_data"
    }
   ],
   "source": [
    "print(\"Gradient Descent using: Mean Square Error\")\n",
    "A = Neuron_2(rate)\n",
    "\n",
    "#gradient_decent\n",
    "A.disp_params()\n",
    "    \n",
    "loss = [np.inf]\n",
    "\n",
    "for pos in range(epochs):\n",
    "    Prediction = [A.forward_step(i,j) for i,j in zip(X1,X2) ]\n",
    "    loss = loss + [A.Calculate_loss(X1,X2,Y)]    #Save loss for plotting\n",
    "    A.stochastic_gradient_descent(X1 = X1[pos%len(X1)],X2 = X2[pos%len(X1)],Y = Y[pos%len(X1)]) #Perform gradient descent\n",
    "\n",
    "#Display final weight and bias values\n",
    "print(\"\\nAfter gradient descent:\")\n",
    "A.disp_params()\n",
    "\n",
    "#Display predicted values vs ground truth\n",
    "print(\"\\nGround Truth:\",Y)\n",
    "print(\"Predicted Values:\",np.round(Prediction,3))\n",
    "\n",
    "#Plot loss vs Iteration graph\n",
    "plt.plot(loss,'g')\n",
    "plt.legend(\"Loss\")\n",
    "plt.title(\"Loss curve for stochastic gradient descent\")\n",
    "plt.xlabel(\"Epochs\")\n",
    "plt.ylabel(\"Loss\")\n",
    "plt.show()"
   ]
  },
  {
   "cell_type": "code",
   "execution_count": 10,
   "metadata": {
    "id": "jlBUsU7JcHBe"
   },
   "outputs": [],
   "source": [
    "# Insert Adam optimisation part here!!!!!"
   ]
  },
  {
   "cell_type": "markdown",
   "metadata": {
    "id": "y9m_SAKClhfB"
   },
   "source": [
    "##### Q3. A group of 20 students studied 0 to 6 hours for the exam. Some passed and others failed. Results are given below \n",
    "\n",
    "| Student | Hours studied - x | Result (0 – fail, 1 – pass) - y | \n",
    "| --- | --- | --- | \n",
    "| 1 | 0.5 | 0 | \n",
    "| 2 | 0.75 | 0 | \n",
    "| 3 | 1.00 | 0 | \n",
    "| 4 | 1.25 | 0 | \n",
    "| 5 | 1.50 | 0 | \n",
    "| 6 | 1.75 | 0 | \n",
    "| 7 | 1.75 | 1 | \n",
    "| 8 | 2.00 | 0 | \n",
    "| 9 | 2.25 | 1 | \n",
    "| 10 | 2.50 | 0 | \n",
    "| 11 | 2.75 | 1 | \n",
    "| 12 | 3.00 | 0 | \n",
    "| 13 | 3.25 | 1 | \n",
    "| 14 | 3.50 | 0 | \n",
    "| 15 | 4.00 | 1 | \n",
    "| 16 | 4.25 | 1 | \n",
    "| 17 | 4.50 | 1 | \n",
    "| 18 | 4.75 | 1 | \n",
    "| 19 | 5.00 | 1 | \n",
    "| 20 | 5.50 | 1 |\n",
    "\n",
    "- (a). Write python code for scratch to build neural network model to determine the optimal linear \n",
    "hypothesis using linear regression to predict if a student passes or not based on the number hours \n",
    "studied with the use for stochastic gradient descent and Adam optimization algorithm with model \n",
    "parameters for α = 0.01 choose random values of weights and bias and epochs=10000. Use \n",
    "appropriate regression loss function. \n",
    "- (b). \n",
    "    - (i).Write python code from scratch to determine the optimal logistic hypothesis using logistic regression to predict if a student passes or not based on the number hours studied with the use for stochastic gradient descent with model parameters for α = 0.01 choose random values of weights and bias and epochs=40000; Loss function: Binary Cross Entropy (BCE), Threshold value=0.5 \n",
    "        - (a) plot the cost function vs epoch \n",
    "        - (b) Predict pass or failed result of your designed model on random study hours enter by you. \n",
    "    - (ii) Repeat part (i) analysis with Dice Loss function. \n",
    "    - (iii)Repeat part (i) analysis with Adam optimization algorithm. \n"
   ]
  },
  {
   "cell_type": "code",
   "execution_count": 11,
   "metadata": {
    "id": "WivR0aj1hLdZ"
   },
   "outputs": [],
   "source": [
    "X = [0.5 ,0.75,1.00,1.25,1.50,1.75,1.75,2.00,2.25,2.50,2.75,3.00,3.25,3.50,4.00,4.25,4.50,4.75,5.00, 5.50]\n",
    "Y = [0,0,0,0,0,0,1,0,1,0,1,0,1,0,1,1,1,1,1,1]\n",
    "alpha = 0.01\n",
    "epochs = 10000"
   ]
  },
  {
   "cell_type": "code",
   "execution_count": 12,
   "metadata": {
    "colab": {
     "base_uri": "https://localhost:8080/",
     "height": 678
    },
    "id": "paGa_BIAhMN_",
    "outputId": "56f2bdd1-c996-495d-a284-2d42f89878ff"
   },
   "outputs": [
    {
     "name": "stdout",
     "output_type": "stream",
     "text": [
      "Weight = 0.7748380084420008 , Bias = 0.42289356257103505\n",
      "\n",
      "After gradient descent:\n",
      "Weight = 0.2128366433480237 , Bias = -0.11495397488463911\n",
      "\n",
      "Ground Truth: [0, 0, 0, 0, 0, 0, 1, 0, 1, 0, 1, 0, 1, 0, 1, 1, 1, 1, 1, 1]\n",
      "Predicted Values: 1.148\n"
     ]
    },
    {
     "data": {
      "image/png": "[encoded data removed]",
      "text/plain": [
       "<Figure size 432x288 with 1 Axes>"
      ]
     },
     "metadata": {
      "needs_background": "light"
     },
     "output_type": "display_data"
    },
    {
     "data": {
      "image/png": "[encoded data removed]",
      "text/plain": [
       "<Figure size 432x288 with 1 Axes>"
      ]
     },
     "metadata": {
      "needs_background": "light"
     },
     "output_type": "display_data"
    }
   ],
   "source": [
    "#Initialise neuron\n",
    "A = Neuron(rate = alpha)\n",
    "\n",
    "#gradient_decent\n",
    "A.disp_params()\n",
    "    \n",
    "s_loss = [np.inf]\n",
    "for pos in range(epochs):\n",
    "    Prediction = A.forward_step(X[pos%len(X)])\n",
    "    s_loss = s_loss + [np.mean(np.square(Prediction-Y[pos%len(X)]))]    #Save loss for plotting\n",
    "    A.stochastic_gradient_descent_step(X[pos%len(X)],Y[pos%len(X)]) #Perform gradient descent\n",
    "\n",
    "#Display final weight and bias values\n",
    "print(\"\\nAfter gradient descent:\")\n",
    "A.disp_params()\n",
    "\n",
    "#Display predicted values vs ground truth\n",
    "print(\"\\nGround Truth:\",Y)\n",
    "print(\"Predicted Values:\",np.round(Prediction,3))\n",
    "\n",
    "#Plot loss vs Iteration graph\n",
    "plt.plot(s_loss,'g')\n",
    "plt.legend(\"Loss\")\n",
    "plt.title(\"Loss vs Epochs for stochastic gradient descent\")\n",
    "plt.xlabel(\"Epochs\")\n",
    "plt.ylabel(\"Loss\")\n",
    "plt.show()\n",
    "\n",
    "#plotting regression line\n",
    "X_line=np.linspace(1,7,100)\n",
    "Y_line = [(i* A.weight + A.bias) for i in X_line]\n",
    "plt.figure()\n",
    "plt.plot(X_line,Y_line)\n",
    "plt.scatter(X,Y,color = 'r')\n",
    "plt.title(\"Regression line\")\n",
    "plt.show()"
   ]
  },
  {
   "cell_type": "code",
   "execution_count": 13,
   "metadata": {
    "id": "3VG0oYdUzNQ4"
   },
   "outputs": [],
   "source": [
    "#other functions\n",
    "# Loss Function BCE\n",
    "def loss_BCE(y, y_hat):\n",
    "  # y -> truth\n",
    "  # y_hat -> prediction/hypothesis\n",
    "  loss = -np.mean(y*np.log(y_hat)+(1-y)*np.log(1-y_hat))\n",
    "  return loss\n",
    "\n",
    "def Dice_Loss(y_hat,y):\n",
    "    total = len(y_hat)\n",
    "    TP = np.logical_and(y,np.round(y_hat))\n",
    "    TN = np.logical_and(1 - y, 1 - np.round(y_hat))\n",
    "    DC = (2*np.sum(TP))/(total-np.sum(TN)+np.sum(TP)) # Dice Coefficient\n",
    "    DL=1-DC                                           # Dice Loss\n",
    "    return DL \n",
    "\n",
    "# Gradients calculation\n",
    "def gradient(X, y, y_hat):\n",
    "  # m ->number of training examples\n",
    "  m = X.shape[0]\n",
    "\n",
    "  # Gradient w.r.t. weights\n",
    "  dw = (1/m)*np.dot(X.T, (y_hat-y))\n",
    "\n",
    "  # Gradient w.r.t. bias\n",
    "  db = (1/m)*np.sum(y_hat-y)\n",
    "\n",
    "  return dw, db    \n",
    "\n",
    "#sigmoid function\n",
    "def sigmoid(x):\n",
    "  return 1.0/(1+np.exp(-x))\n",
    "    \n"
   ]
  },
  {
   "cell_type": "code",
   "execution_count": 14,
   "metadata": {
    "colab": {
     "base_uri": "https://localhost:8080/"
    },
    "id": "3y2J37OOd7rJ",
    "outputId": "ba7ba594-14f9-4905-9b91-9ba0c8c8615c"
   },
   "outputs": [
    {
     "data": {
      "text/plain": [
       "1.0"
      ]
     },
     "execution_count": 14,
     "metadata": {},
     "output_type": "execute_result"
    }
   ],
   "source": [
    "np.round(0.51)"
   ]
  },
  {
   "cell_type": "code",
   "execution_count": 15,
   "metadata": {
    "id": "3zagKpU0lhfE"
   },
   "outputs": [],
   "source": [
    "#(b)(i)\n",
    "## Defining Neuron\n",
    "class Neuron_log:\n",
    "  # class initialization \n",
    "    def __init__(self, learn_rate=0.01, weights=np.random.rand(), bias=np.random.rand(), loss=\"Binary Cross Entropy\"):\n",
    "      #l_rate -> learning rate\n",
    "      self.l_rate = learn_rate\n",
    "      self.weights = weights\n",
    "      self.bias = bias\n",
    "\n",
    "  # Displaying parameters\n",
    "    def disp_params(self):\n",
    "      print(\"Weight = {} , Bias = {}\".format(self.weights,self.bias))\n",
    "\n",
    "      \n",
    "  # hypothesis, or forward step\n",
    "    def forward_step(self, X):\n",
    "      # X -> Input\n",
    "      return sigmoid(np.dot(X,self.weights)+self.bias)\n",
    "\n",
    "  # stochastic gradient step\n",
    "    def stochastic_gradient_step(self, X, y):\n",
    "      y_hat = self.forward_step(X)\n",
    "\n",
    "      #updating weights and bias\n",
    "      dw, db = gradient(X, y, y_hat)\n",
    "\n",
    "      self.weights = self.weights - dw*self.l_rate\n",
    "      self.bias = self.bias - db*self.l_rate\n",
    "    \n",
    "  # loss calculation\n",
    "    def loss(self, y, y_hat):\n",
    "      if(self.loss == \"Binary Cross Entropy\"):\n",
    "        loss = loss_BCE(y, y_hat)\n",
    "      elif(self.loss == \"Dice Loss\"):\n",
    "        ;"
   ]
  },
  {
   "cell_type": "code",
   "execution_count": 16,
   "metadata": {
    "id": "_BpbYZuQuDgq"
   },
   "outputs": [],
   "source": [
    "# defining inputs\n",
    "X = np.array([0.5, 0.75, 1.00, 1.25, 1.50, 1.75, 1.75, 2.00, 2.25, 2.50, 2.75, 3.00, 3.25, 3.50, 4.00, 4.25, 4.50, 4.75, 5.00, 5.50])\n",
    "y = np.array([0, 0, 0, 0, 0, 0, 1, 0, 1, 0, 1, 0, 1, 0, 1, 1, 1, 1, 1, 1])\n",
    "epochs = 40000\n",
    "alpha = 0.01\n",
    "threshold_value = 0.5"
   ]
  },
  {
   "cell_type": "code",
   "execution_count": 17,
   "metadata": {
    "colab": {
     "base_uri": "https://localhost:8080/"
    },
    "id": "5dQVnI-xt0Ux",
    "outputId": "23b23466-c53d-4fab-ed6e-7b1a5860e5f5"
   },
   "outputs": [
    {
     "name": "stdout",
     "output_type": "stream",
     "text": [
      "Original Values:\n",
      "Weight = 0.28558493423236697 , Bias = 0.5032874823898212\n",
      "\n",
      "After gradient descent:\n",
      "Weight = 1.502507591793311 , Bias = -4.07139771355788\n",
      "\n",
      "Ground Truth: [0 0 0 0 0 0 1 0 1 0 1 0 1 0 1 1 1 1 1 1]\n",
      "Output values: [0.03488659 0.04999633 0.07116768 0.10035713 0.13971779 0.19123443\n",
      " 0.19123443 0.25609169 0.33386505 0.4218634  0.51511995 0.60733532\n",
      " 0.69248269 0.76627192 0.87420181 0.91005111 0.93642719 0.95544755\n",
      " 0.9689658  0.98511484]\n",
      "Predicted Values: [0, 0, 0, 0, 0, 0, 0, 0, 0, 0, 1, 1, 1, 1, 1, 1, 1, 1, 1, 1]\n"
     ]
    }
   ],
   "source": [
    "## Training\n",
    "#Initialise neuron\n",
    "B = Neuron_log(learn_rate = alpha)\n",
    "\n",
    "#Display initial weight and bias values\n",
    "print(\"Original Values:\")\n",
    "B.disp_params()\n",
    "\n",
    "#stochastic gradient_decent\n",
    "loss = [np.inf]    #initialising loss variable as infinity\n",
    "for _ in range(epochs):\n",
    "    y_hat =[B.forward_step(i) for i in X ]\n",
    "    y_hat=np.array(y_hat)\n",
    "    loss = loss + [loss_BCE(y, y_hat)]    #Save loss for plotting\n",
    "\n",
    "    B.stochastic_gradient_step(X,y) #Perform gradient descent\n",
    "\n",
    "#Display final weight and bias values\n",
    "print(\"\\nAfter gradient descent:\")\n",
    "B.disp_params()\n",
    "\n",
    "#Display predicted values vs ground truth\n",
    "print(\"\\nGround Truth:\",y)\n",
    "Prediction = [1 if y_hat[i]>=threshold_value else 0 for i in range(y.shape[0])]\n",
    "\n",
    "print(\"Output values:\",y_hat)\n",
    "print(\"Predicted Values:\",Prediction)"
   ]
  },
  {
   "cell_type": "code",
   "execution_count": 18,
   "metadata": {
    "colab": {
     "base_uri": "https://localhost:8080/",
     "height": 559
    },
    "id": "eVpeqkrg3_J1",
    "outputId": "953f1b0a-f714-40a8-b960-1caa2a0f0b0f"
   },
   "outputs": [
    {
     "data": {
      "image/png": "[encoded data removed]",
      "text/plain": [
       "<Figure size 432x288 with 1 Axes>"
      ]
     },
     "metadata": {
      "needs_background": "light"
     },
     "output_type": "display_data"
    },
    {
     "data": {
      "image/png": "[encoded data removed]",
      "text/plain": [
       "<Figure size 432x288 with 1 Axes>"
      ]
     },
     "metadata": {
      "needs_background": "light"
     },
     "output_type": "display_data"
    }
   ],
   "source": [
    "#Plot loss vs Iteration graph\n",
    "plt.plot(loss,'g')\n",
    "plt.legend(\"Loss\")\n",
    "plt.title(\"Loss vs Epochs for stochastic gradient descent\")\n",
    "plt.xlabel(\"Epochs\")\n",
    "plt.ylabel(\"Loss\")\n",
    "plt.show()\n",
    "\n",
    "#plotting regression line\n",
    "X_line=np.linspace(1,7,100)\n",
    "Y_line = [(i* B.weights + B.bias) for i in X_line]\n",
    "plt.figure()\n",
    "plt.plot(X_line,Y_line)\n",
    "plt.scatter(X,y,color = 'r')\n",
    "plt.title(\"Regression line\")\n",
    "plt.ylim([-0.5,1.5])\n",
    "plt.show()"
   ]
  },
  {
   "cell_type": "code",
   "execution_count": 19,
   "metadata": {
    "colab": {
     "base_uri": "https://localhost:8080/",
     "height": 34
    },
    "id": "R_9uU1yL4azN",
    "outputId": "23b4e588-e428-49fa-ee73-bd3a890e057b"
   },
   "outputs": [
    {
     "data": {
      "text/plain": [
       "[0, 1, 1]"
      ]
     },
     "metadata": {},
     "output_type": "display_data"
    }
   ],
   "source": [
    "#predicting for custom values\n",
    "test = np.array([1.00, 3.75, 7])\n",
    "y_test = test* B.weights + B.bias\n",
    "y_probability = sigmoid(y_test)\n",
    "predict = [1 if y_probability[i]>=threshold_value else 0 for i in range(y_probability.shape[0])]\n",
    "display(predict)"
   ]
  },
  {
   "cell_type": "markdown",
   "metadata": {
    "id": "JpSgBkvmlhfF"
   },
   "source": [
    "##### Q.4. Build a model to recognize different handwritten digits from MNIST dataset by using multinomial logistic regression.Use of Adam optimization algorithm to learn model with parameters for α = 0.01, epoch = 40000 and random parameters of the model and Loss function: Softmax loss function.\n",
    "- (a) Plot the cost function vs epoch \n",
    "- (b) Predict the digit of your designed model on random test data enter by you \n",
    "- (c) print confusion matrix \n",
    "- (d) calculate classification metrics such as precision,recall, f1-score and accuracy"
   ]
  },
  {
   "cell_type": "code",
   "execution_count": 110,
   "metadata": {
    "id": "H4WMX3rg5Y-P"
   },
   "outputs": [],
   "source": [
    "import tensorflow as tf\n",
    "import tqdm.notebook as tqdm"
   ]
  },
  {
   "cell_type": "code",
   "execution_count": 125,
   "metadata": {},
   "outputs": [
    {
     "data": {
      "application/vnd.jupyter.widget-view+json": {
       "model_id": "7dba1cfcb63c4fc395d62b2928196ee9",
       "version_major": 2,
       "version_minor": 0
      },
      "text/plain": [
       "HBox(children=(HTML(value='Epochs'), FloatProgress(value=0.0), HTML(value='')))"
      ]
     },
     "metadata": {},
     "output_type": "display_data"
    },
    {
     "data": {
      "application/vnd.jupyter.widget-view+json": {
       "model_id": "",
       "version_major": 2,
       "version_minor": 0
      },
      "text/plain": [
       "HBox(children=(HTML(value='Neuron (Nodes)'), FloatProgress(value=0.0, max=10.0), HTML(value='')))"
      ]
     },
     "metadata": {},
     "output_type": "display_data"
    },
    {
     "data": {
      "application/vnd.jupyter.widget-view+json": {
       "model_id": "",
       "version_major": 2,
       "version_minor": 0
      },
      "text/plain": [
       "HBox(children=(HTML(value='Neuron (Nodes)'), FloatProgress(value=0.0, max=10.0), HTML(value='')))"
      ]
     },
     "metadata": {},
     "output_type": "display_data"
    },
    {
     "data": {
      "application/vnd.jupyter.widget-view+json": {
       "model_id": "d91c89af721543bcaed592a36a0b2ac5",
       "version_major": 2,
       "version_minor": 0
      },
      "text/plain": [
       "HBox(children=(HTML(value='Neuron (Nodes)'), FloatProgress(value=0.0, max=10.0), HTML(value='')))"
      ]
     },
     "metadata": {},
     "output_type": "display_data"
    },
    {
     "name": "stdout",
     "output_type": "stream",
     "text": [
      "\n"
     ]
    },
    {
     "ename": "KeyboardInterrupt",
     "evalue": "",
     "output_type": "error",
     "traceback": [
      "\u001b[1;31m---------------------------------------------------------------------------\u001b[0m",
      "\u001b[1;31mKeyboardInterrupt\u001b[0m                         Traceback (most recent call last)",
      "\u001b[1;32m<ipython-input-125-93e03486695f>\u001b[0m in \u001b[0;36m<module>\u001b[1;34m\u001b[0m\n\u001b[0;32m     16\u001b[0m     \u001b[0mloss\u001b[0m\u001b[1;33m=\u001b[0m\u001b[1;33m[\u001b[0m\u001b[1;33m]\u001b[0m\u001b[1;33m\u001b[0m\u001b[1;33m\u001b[0m\u001b[0m\n\u001b[0;32m     17\u001b[0m     \u001b[1;32mfor\u001b[0m \u001b[0mi\u001b[0m \u001b[1;32min\u001b[0m \u001b[0mtqdm\u001b[0m\u001b[1;33m.\u001b[0m\u001b[0mtqdm\u001b[0m\u001b[1;33m(\u001b[0m\u001b[0mrange\u001b[0m\u001b[1;33m(\u001b[0m\u001b[0mCategories\u001b[0m\u001b[1;33m)\u001b[0m\u001b[1;33m,\u001b[0m\u001b[0mleave\u001b[0m\u001b[1;33m=\u001b[0m\u001b[1;32mFalse\u001b[0m\u001b[1;33m,\u001b[0m\u001b[0mdesc\u001b[0m \u001b[1;33m=\u001b[0m \u001b[1;34m\"Neuron (Nodes)\"\u001b[0m\u001b[1;33m)\u001b[0m\u001b[1;33m:\u001b[0m\u001b[1;33m\u001b[0m\u001b[1;33m\u001b[0m\u001b[0m\n\u001b[1;32m---> 18\u001b[1;33m         \u001b[0my_hat\u001b[0m \u001b[1;33m=\u001b[0m\u001b[1;33m[\u001b[0m\u001b[0mnodes\u001b[0m\u001b[1;33m[\u001b[0m\u001b[0mi\u001b[0m\u001b[1;33m]\u001b[0m\u001b[1;33m.\u001b[0m\u001b[0mforward_step\u001b[0m\u001b[1;33m(\u001b[0m\u001b[0mval\u001b[0m\u001b[1;33m)\u001b[0m \u001b[1;32mfor\u001b[0m \u001b[0mval\u001b[0m \u001b[1;32min\u001b[0m \u001b[0mX\u001b[0m \u001b[1;33m]\u001b[0m\u001b[1;33m\u001b[0m\u001b[1;33m\u001b[0m\u001b[0m\n\u001b[0m\u001b[0;32m     19\u001b[0m         \u001b[0my_hat\u001b[0m\u001b[1;33m=\u001b[0m\u001b[0mnp\u001b[0m\u001b[1;33m.\u001b[0m\u001b[0marray\u001b[0m\u001b[1;33m(\u001b[0m\u001b[0my_hat\u001b[0m\u001b[1;33m)\u001b[0m\u001b[1;33m\u001b[0m\u001b[1;33m\u001b[0m\u001b[0m\n\u001b[0;32m     20\u001b[0m         \u001b[0mloss\u001b[0m \u001b[1;33m=\u001b[0m \u001b[0mloss\u001b[0m \u001b[1;33m+\u001b[0m \u001b[1;33m[\u001b[0m\u001b[0mnp\u001b[0m\u001b[1;33m.\u001b[0m\u001b[0mmean\u001b[0m\u001b[1;33m(\u001b[0m\u001b[1;33m[\u001b[0m\u001b[0mY\u001b[0m\u001b[1;33m[\u001b[0m\u001b[0mi\u001b[0m\u001b[1;33m]\u001b[0m\u001b[1;33m==\u001b[0m\u001b[0my_hat\u001b[0m\u001b[1;33m]\u001b[0m\u001b[1;33m)\u001b[0m\u001b[1;33m]\u001b[0m    \u001b[1;31m#Save loss for plotting\u001b[0m\u001b[1;33m\u001b[0m\u001b[1;33m\u001b[0m\u001b[0m\n",
      "\u001b[1;32m<ipython-input-125-93e03486695f>\u001b[0m in \u001b[0;36m<listcomp>\u001b[1;34m(.0)\u001b[0m\n\u001b[0;32m     16\u001b[0m     \u001b[0mloss\u001b[0m\u001b[1;33m=\u001b[0m\u001b[1;33m[\u001b[0m\u001b[1;33m]\u001b[0m\u001b[1;33m\u001b[0m\u001b[1;33m\u001b[0m\u001b[0m\n\u001b[0;32m     17\u001b[0m     \u001b[1;32mfor\u001b[0m \u001b[0mi\u001b[0m \u001b[1;32min\u001b[0m \u001b[0mtqdm\u001b[0m\u001b[1;33m.\u001b[0m\u001b[0mtqdm\u001b[0m\u001b[1;33m(\u001b[0m\u001b[0mrange\u001b[0m\u001b[1;33m(\u001b[0m\u001b[0mCategories\u001b[0m\u001b[1;33m)\u001b[0m\u001b[1;33m,\u001b[0m\u001b[0mleave\u001b[0m\u001b[1;33m=\u001b[0m\u001b[1;32mFalse\u001b[0m\u001b[1;33m,\u001b[0m\u001b[0mdesc\u001b[0m \u001b[1;33m=\u001b[0m \u001b[1;34m\"Neuron (Nodes)\"\u001b[0m\u001b[1;33m)\u001b[0m\u001b[1;33m:\u001b[0m\u001b[1;33m\u001b[0m\u001b[1;33m\u001b[0m\u001b[0m\n\u001b[1;32m---> 18\u001b[1;33m         \u001b[0my_hat\u001b[0m \u001b[1;33m=\u001b[0m\u001b[1;33m[\u001b[0m\u001b[0mnodes\u001b[0m\u001b[1;33m[\u001b[0m\u001b[0mi\u001b[0m\u001b[1;33m]\u001b[0m\u001b[1;33m.\u001b[0m\u001b[0mforward_step\u001b[0m\u001b[1;33m(\u001b[0m\u001b[0mval\u001b[0m\u001b[1;33m)\u001b[0m \u001b[1;32mfor\u001b[0m \u001b[0mval\u001b[0m \u001b[1;32min\u001b[0m \u001b[0mX\u001b[0m \u001b[1;33m]\u001b[0m\u001b[1;33m\u001b[0m\u001b[1;33m\u001b[0m\u001b[0m\n\u001b[0m\u001b[0;32m     19\u001b[0m         \u001b[0my_hat\u001b[0m\u001b[1;33m=\u001b[0m\u001b[0mnp\u001b[0m\u001b[1;33m.\u001b[0m\u001b[0marray\u001b[0m\u001b[1;33m(\u001b[0m\u001b[0my_hat\u001b[0m\u001b[1;33m)\u001b[0m\u001b[1;33m\u001b[0m\u001b[1;33m\u001b[0m\u001b[0m\n\u001b[0;32m     20\u001b[0m         \u001b[0mloss\u001b[0m \u001b[1;33m=\u001b[0m \u001b[0mloss\u001b[0m \u001b[1;33m+\u001b[0m \u001b[1;33m[\u001b[0m\u001b[0mnp\u001b[0m\u001b[1;33m.\u001b[0m\u001b[0mmean\u001b[0m\u001b[1;33m(\u001b[0m\u001b[1;33m[\u001b[0m\u001b[0mY\u001b[0m\u001b[1;33m[\u001b[0m\u001b[0mi\u001b[0m\u001b[1;33m]\u001b[0m\u001b[1;33m==\u001b[0m\u001b[0my_hat\u001b[0m\u001b[1;33m]\u001b[0m\u001b[1;33m)\u001b[0m\u001b[1;33m]\u001b[0m    \u001b[1;31m#Save loss for plotting\u001b[0m\u001b[1;33m\u001b[0m\u001b[1;33m\u001b[0m\u001b[0m\n",
      "\u001b[1;32m<ipython-input-15-ca64b56311a4>\u001b[0m in \u001b[0;36mforward_step\u001b[1;34m(self, X)\u001b[0m\n\u001b[0;32m     17\u001b[0m     \u001b[1;32mdef\u001b[0m \u001b[0mforward_step\u001b[0m\u001b[1;33m(\u001b[0m\u001b[0mself\u001b[0m\u001b[1;33m,\u001b[0m \u001b[0mX\u001b[0m\u001b[1;33m)\u001b[0m\u001b[1;33m:\u001b[0m\u001b[1;33m\u001b[0m\u001b[1;33m\u001b[0m\u001b[0m\n\u001b[0;32m     18\u001b[0m       \u001b[1;31m# X -> Input\u001b[0m\u001b[1;33m\u001b[0m\u001b[1;33m\u001b[0m\u001b[1;33m\u001b[0m\u001b[0m\n\u001b[1;32m---> 19\u001b[1;33m       \u001b[1;32mreturn\u001b[0m \u001b[0msigmoid\u001b[0m\u001b[1;33m(\u001b[0m\u001b[0mnp\u001b[0m\u001b[1;33m.\u001b[0m\u001b[0mdot\u001b[0m\u001b[1;33m(\u001b[0m\u001b[0mX\u001b[0m\u001b[1;33m,\u001b[0m\u001b[0mself\u001b[0m\u001b[1;33m.\u001b[0m\u001b[0mweights\u001b[0m\u001b[1;33m)\u001b[0m\u001b[1;33m+\u001b[0m\u001b[0mself\u001b[0m\u001b[1;33m.\u001b[0m\u001b[0mbias\u001b[0m\u001b[1;33m)\u001b[0m\u001b[1;33m\u001b[0m\u001b[1;33m\u001b[0m\u001b[0m\n\u001b[0m\u001b[0;32m     20\u001b[0m \u001b[1;33m\u001b[0m\u001b[0m\n\u001b[0;32m     21\u001b[0m   \u001b[1;31m# stochastic gradient step\u001b[0m\u001b[1;33m\u001b[0m\u001b[1;33m\u001b[0m\u001b[1;33m\u001b[0m\u001b[0m\n",
      "\u001b[1;32m<__array_function__ internals>\u001b[0m in \u001b[0;36mdot\u001b[1;34m(*args, **kwargs)\u001b[0m\n",
      "\u001b[1;31mKeyboardInterrupt\u001b[0m: "
     ]
    }
   ],
   "source": [
    "Categories = len(np.unique(y_train)) #Number of categories\n",
    "X = np.reshape(x_train,(len(x_train),np.product(x_train[0].shape)))\n",
    "X = X/255\n",
    "\n",
    "nodes = []\n",
    "Y = []\n",
    "for i in range(Categories):\n",
    "    nodes = nodes + [Neuron_log(learn_rate = alpha, weights = np.random.rand(X.shape[1]))]\n",
    "    \n",
    "    temp = np.zeros_like(y_train)\n",
    "    temp[y_train==(i+1)] = 1\n",
    "    Y = Y + [temp]\n",
    "    \n",
    "Loss_record = [np.inf]\n",
    "for _ in tqdm.tqdm(range(epochs),desc = \"Epochs\"):\n",
    "    loss=[]\n",
    "    for i in tqdm.tqdm(range(Categories),leave=False,desc = \"Neuron (Nodes)\"):        \n",
    "        y_hat =[nodes[i].forward_step(val) for val in X ]\n",
    "        y_hat=np.array(y_hat)\n",
    "        loss = loss + [np.mean([Y[i]==y_hat])]    #Save loss for plotting\n",
    "        nodes[i].stochastic_gradient_step(X,Y[i]) #Perform gradient descent\n",
    "    Loss_record = Loss_record + [np.mean(loss)]"
   ]
  },
  {
   "cell_type": "code",
   "execution_count": null,
   "metadata": {},
   "outputs": [],
   "source": [
    "def softmax(X):\n",
    "    Y = np.exp(np.array(X))\n",
    "    den = sum(Y)\n",
    "    Y = Y/den\n",
    "    i, = np.where(Y==max(Y))\n",
    "    return(i[0])"
   ]
  },
  {
   "cell_type": "code",
   "execution_count": null,
   "metadata": {},
   "outputs": [],
   "source": [
    "X = np.reshape(x_test,(len(x_test),np.product(x_test[0].shape)))\n",
    "X = X/255\n",
    "\n",
    "out = []\n",
    "for val in X:\n",
    "    activation = softmax([nodes[i].forward_step(val) for i in range(Categories)])\n",
    "    out = out + [activation]\n",
    "out = np.array(out)\n",
    "Loss = np.mean([out==y_test])"
   ]
  },
  {
   "cell_type": "code",
   "execution_count": 126,
   "metadata": {},
   "outputs": [
    {
     "data": {
      "image/png": "[encoded data removed]",
      "text/plain": [
       "<Figure size 432x288 with 1 Axes>"
      ]
     },
     "metadata": {
      "needs_background": "light"
     },
     "output_type": "display_data"
    }
   ],
   "source": [
    "import matplotlib.pyplot as plt\n",
    "plt.figure()\n",
    "plt.title(\"cost function vs epoch\")\n",
    "plt.ylabel(\"Loss\")\n",
    "plt.xlabel(\"Epochs\")\n",
    "plt.plot(Loss_record)\n",
    "plt.show()"
   ]
  },
  {
   "cell_type": "markdown",
   "metadata": {
    "id": "jnJrQQZ2lhfJ"
   },
   "source": [
    "##### Q.5. Build a model to discriminate the red, green and blue points in 2-dimensional space shown below: \n",
    "\n",
    "The input data and target are as follows: \n",
    "\n",
    "`\n",
    "X=np.array([[-0.1, 1.4], \n",
    "[-0.5,0.2], \n",
    " [1.3,0.9], \n",
    " [-0.6,0.4], \n",
    " [-1.6,0.2], \n",
    " [0.2,0.2], \n",
    " [-0.3,-0.4], \n",
    " [0.7,-0.8], \n",
    " [1.1,-1.5], \n",
    " [-1.0,0.9], \n",
    " [-0.5,1.5], \n",
    " [-1.3,-0.4], \n",
    " [-1.4,-1.2], \n",
    " [-0.9,-0.7], \n",
    " [0.4,-1.3], \n",
    " [-0.4,0.6], \n",
    " [0.3,-0.5], \n",
    " [-1.6,-0.7], \n",
    " [-0.5,-1.4], \n",
    " [-1.0,-1.4]]) \n",
    "y=np.array ([0,0,1,0,2,1,1,1,1,0,0,2,2,2,1,0,1,2,2,2]); `\n",
    "\n",
    "Here, \n",
    "0=red, 1=green and 2= blue dots \n",
    "In other words, given a point in 2-dimensions, x=(x1,x2), predict output either red, green or blue by \n",
    "using multinomial logistic regression. \n",
    "- (a) \n",
    "    - (i) Compare predicted results with ground truth using bar chat plot \n",
    "    - (ii) plot loss curve \n",
    "    - (iii) print confusion matrix \n",
    "    - (iv) calculate classification metrics such as precision, recall, f1-score and accuracy \n",
    "    - (v) Visualize classified data by Scatter plot. Use of gradient descent learning algorithm to learn model with parameters for α = 0.01, Softmax loss function and random parameters of the model.\n",
    "- (b)repeat part (a) Use Stochastic gradient descent algorithm to learn model \n",
    "- (c) repeat part (a) with use of Adam Optimization algorithm to learn model"
   ]
  },
  {
   "cell_type": "code",
   "execution_count": null,
   "metadata": {
    "id": "XgiAtb5alhfL"
   },
   "outputs": [],
   "source": []
  }
 ],
 "metadata": {
  "colab": {
   "collapsed_sections": [],
   "name": "Assignment2.ipynb",
   "provenance": []
  },
  "kernelspec": {
   "display_name": "Python 3",
   "language": "python",
   "name": "python3"
  },
  "language_info": {
   "codemirror_mode": {
    "name": "ipython",
    "version": 3
   },
   "file_extension": ".py",
   "mimetype": "text/x-python",
   "name": "python",
   "nbconvert_exporter": "python",
   "pygments_lexer": "ipython3",
   "version": "3.8.5"
  }
 },
 "nbformat": 4,
 "nbformat_minor": 1
}
