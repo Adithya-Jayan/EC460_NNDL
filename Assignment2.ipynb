{
 "cells": [
  {
   "cell_type": "code",
   "execution_count": 1,
   "metadata": {},
   "outputs": [],
   "source": [
    "import numpy as np\n",
    "import matplotlib.pyplot as plt"
   ]
  },
  {
   "cell_type": "markdown",
   "metadata": {},
   "source": [
    "##### Q.1.Write python code from scratch for simple Linear Regression problem, the following training data are given. \n",
    "`\n",
    "X = [2, 2.5, 3, 3.5, 4, 4.5, 5, 5.5, 6] \n",
    "Y = [5.1, 6.1, 6.9, 7.8, 9.2, 9.9, 11.5, 12, 12.8] `\n",
    "\n",
    "The model Y as a linear function of X \n",
    "1. Use batch gradient descent learning algorithm to learn model parameters for α = 0.01 choose random values of weights and bias and epochs=1000. Use MSE as loss function with an appropriate convergence criterion. \n",
    "2. Plot cost function (J) for the learning duration \n",
    "3. plot the regression line \n",
    "4. repeat (2) to (3) for stochastic gradient descent and Adam optimization algorithm\n",
    "5. Plot comparative loss curve \n"
   ]
  },
  {
   "cell_type": "code",
   "execution_count": 2,
   "metadata": {},
   "outputs": [],
   "source": [
    "## Defining Neuron\n",
    "\n",
    "class Neuron:\n",
    "    def __init__(self, rate=0.01 , Weight=np.random.rand(),Bias = np.random.rand()):\n",
    "        self.weight = Weight\n",
    "        self.bias = Bias\n",
    "        self.learning_rate = rate\n",
    "\n",
    "    def disp_params(self):\n",
    "        print(\"Weight = {} , Bias = {}\".format(self.weight,self.bias))\n",
    "    \n",
    "    def forward_step(self,X):\n",
    "        out = np.sum(X*self.weight) + self.bias\n",
    "        return(out)\n",
    "    \n",
    "    def batch_gradient_descent_step(self,X_in,y_true):\n",
    "        y_predicted = [self.forward_step(X_in[i]) for i in range(len(X_in))]\n",
    "        error = np.mean(np.square(y_true-y_predicted))\n",
    "        \n",
    "        gradient = np.sum((y_true-y_predicted)*X_in)*-2 /len(X_in)           \n",
    "        self.weight = self.weight - self.learning_rate * gradient\n",
    "            \n",
    "        gradient = np.sum(y_true-y_predicted)*-2/len(X_in) \n",
    "        self.bias = self.bias - self.learning_rate * gradient\n",
    "\n",
    "    def stochastic_gradient_descent_step(self,X_in,y_true):\n",
    "        y_predicted = self.forward_step(X_in) \n",
    "        error = np.mean(np.square(y_true-y_predicted))\n",
    "        \n",
    "        gradient = (y_true-y_predicted)*X_in*-2          \n",
    "        self.weight = self.weight - self.learning_rate * gradient\n",
    "        gradient = (y_true-y_predicted)*-2\n",
    "        self.bias = self.bias - self.learning_rate * gradient\n"
   ]
  },
  {
   "cell_type": "code",
   "execution_count": 3,
   "metadata": {},
   "outputs": [
    {
     "name": "stdout",
     "output_type": "stream",
     "text": [
      "\n",
      "\u001b[1mBatch gradient decent\u001b[0m\n",
      "\n",
      "Original Values:\n",
      "Weight = 0.46248853763770525 , Bias = 0.48623899916550073\n",
      "\n",
      "After gradient descent:\n",
      "Weight = 2.001426952735558 , Bias = 1.0244347146194026\n",
      "\n",
      "Ground Truth: [ 5.1  6.1  6.9  7.8  9.2  9.9 11.5 12.  12.8]\n",
      "Predicted Values: [ 5.027  6.028  7.029  8.029  9.03  10.031 11.032 12.032 13.033]\n"
     ]
    },
    {
     "data": {
      "image/png": "[encoded data removed]",
      "text/plain": [
       "<Figure size 432x288 with 1 Axes>"
      ]
     },
     "metadata": {
      "needs_background": "light"
     },
     "output_type": "display_data"
    },
    {
     "data": {
      "image/png": "[encoded data removed]",
      "text/plain": [
       "<Figure size 432x288 with 1 Axes>"
      ]
     },
     "metadata": {
      "needs_background": "light"
     },
     "output_type": "display_data"
    }
   ],
   "source": [
    "## Perform batch gradient descent \n",
    "\n",
    "print(\"\\n\"+'\\033[1m'+\"Batch gradient decent\"+'\\033[0m'+\"\\n\")\n",
    "\n",
    "X = np.array([2, 2.5, 3, 3.5, 4, 4.5, 5, 5.5, 6] )\n",
    "Y = np.array([5.1, 6.1, 6.9, 7.8, 9.2, 9.9, 11.5, 12, 12.8])\n",
    "alpha = 0.01\n",
    "epochs = 1000\n",
    "\n",
    "#Initialise neuron\n",
    "A = Neuron(rate = alpha)\n",
    "\n",
    "#Display initial weight and bias values\n",
    "print(\"Original Values:\")\n",
    "A.disp_params()\n",
    "\n",
    "#Batch gradient_decent\n",
    "b_loss = [np.inf]    #initialising loss variable as infinity\n",
    "for _ in range(epochs):\n",
    "    Prediction = [A.forward_step(i) for i in X ]\n",
    "    b_loss = b_loss + [np.mean(np.square(Prediction-Y))]    #Save loss for plotting\n",
    "\n",
    "    A.batch_gradient_descent_step(X,Y) #Perform gradient descent\n",
    "\n",
    "#Display final weight and bias values\n",
    "print(\"\\nAfter gradient descent:\")\n",
    "A.disp_params()\n",
    "\n",
    "#Display predicted values vs ground truth\n",
    "print(\"\\nGround Truth:\",Y)\n",
    "print(\"Predicted Values:\",np.round(Prediction,3))\n",
    "\n",
    "#Plot loss vs Iteration graph\n",
    "plt.plot(b_loss,'g')\n",
    "plt.legend(\"Loss\")\n",
    "plt.title(\"Loss vs Epochs for batch gradient descent\")\n",
    "plt.xlabel(\"Epochs\")\n",
    "plt.ylabel(\"Loss\")\n",
    "plt.show()\n",
    "\n",
    "#plotting regression line\n",
    "X_line=np.linspace(1,7,100)\n",
    "Y_line = [(i* A.weight + A.bias) for i in X_line]\n",
    "plt.figure()\n",
    "plt.plot(X_line,Y_line)\n",
    "plt.scatter(X,Y,color = 'r')\n",
    "plt.title(\"Regression line\")\n",
    "plt.show()"
   ]
  },
  {
   "cell_type": "code",
   "execution_count": 4,
   "metadata": {},
   "outputs": [
    {
     "name": "stdout",
     "output_type": "stream",
     "text": [
      "\n",
      "\u001b[1mStochastic gradient decent\u001b[0m\n",
      "\n",
      "Weight = 0.46248853763770525 , Bias = 0.48623899916550073\n",
      "\n",
      "After gradient descent:\n",
      "Weight = 1.9490422738327395 , Bias = 1.1933045399947306\n",
      "\n",
      "Ground Truth: [ 5.1  6.1  6.9  7.8  9.2  9.9 11.5 12.  12.8]\n",
      "Predicted Values: [ 5.087  6.06   7.034  8.007  8.981  9.954 10.928 11.901 12.875]\n"
     ]
    },
    {
     "data": {
      "image/png": "[encoded data removed]",
      "text/plain": [
       "<Figure size 432x288 with 1 Axes>"
      ]
     },
     "metadata": {
      "needs_background": "light"
     },
     "output_type": "display_data"
    },
    {
     "data": {
      "image/png": "[encoded data removed]",
      "text/plain": [
       "<Figure size 432x288 with 1 Axes>"
      ]
     },
     "metadata": {
      "needs_background": "light"
     },
     "output_type": "display_data"
    }
   ],
   "source": [
    "## Perform stochastic gradient descent \n",
    "\n",
    "print(\"\\n\"+'\\033[1m'+\"Stochastic gradient decent\"+'\\033[0m'+\"\\n\")\n",
    "\n",
    "X = np.array([2, 2.5, 3, 3.5, 4, 4.5, 5, 5.5, 6] )\n",
    "Y = np.array([5.1, 6.1, 6.9, 7.8, 9.2, 9.9, 11.5, 12, 12.8])\n",
    "alpha = 0.01\n",
    "epochs = 1000\n",
    "\n",
    "#Initialise neuron\n",
    "A = Neuron(rate = alpha)\n",
    "\n",
    "#gradient_decent\n",
    "A.disp_params()\n",
    "    \n",
    "s_loss = [np.inf]\n",
    "pos=0\n",
    "for _ in range(epochs):\n",
    "    pos=pos+1\n",
    "    Prediction = [A.forward_step(i) for i in X ]\n",
    "    s_loss = s_loss + [np.mean(np.square(Prediction-Y))]    #Save loss for plotting\n",
    "    A.stochastic_gradient_descent_step(X[pos%len(X)],Y[pos%len(X)]) #Perform gradient descent\n",
    "\n",
    "#Display final weight and bias values\n",
    "print(\"\\nAfter gradient descent:\")\n",
    "A.disp_params()\n",
    "\n",
    "#Display predicted values vs ground truth\n",
    "print(\"\\nGround Truth:\",Y)\n",
    "print(\"Predicted Values:\",np.round(Prediction,3))\n",
    "\n",
    "#Plot loss vs Iteration graph\n",
    "plt.plot(s_loss,'g')\n",
    "plt.legend(\"Loss\")\n",
    "plt.title(\"Loss vs Epochs for stochastic gradient descent\")\n",
    "plt.xlabel(\"Epochs\")\n",
    "plt.ylabel(\"Loss\")\n",
    "plt.show()\n",
    "\n",
    "#plotting regression line\n",
    "X_line=np.linspace(1,7,100)\n",
    "Y_line = [(i* A.weight + A.bias) for i in X_line]\n",
    "plt.figure()\n",
    "plt.plot(X_line,Y_line)\n",
    "plt.scatter(X,Y,color = 'r')\n",
    "plt.title(\"Regression line\")\n",
    "plt.show()"
   ]
  },
  {
   "cell_type": "code",
   "execution_count": 5,
   "metadata": {},
   "outputs": [
    {
     "data": {
      "text/plain": [
       "<matplotlib.legend.Legend at 0x24968aa7340>"
      ]
     },
     "execution_count": 5,
     "metadata": {},
     "output_type": "execute_result"
    },
    {
     "data": {
      "image/png": "[encoded data removed]",
      "text/plain": [
       "<Figure size 432x288 with 1 Axes>"
      ]
     },
     "metadata": {
      "needs_background": "light"
     },
     "output_type": "display_data"
    }
   ],
   "source": [
    "## Compare stochastic and batch gradient descent losses\n",
    "\n",
    "plt.figure()\n",
    "plt.plot(s_loss,'b',label = \"Stochastic gradient descent loss\")\n",
    "plt.plot(b_loss,'r',label=\"Batch gradient descent loss\")\n",
    "plt.legend()\n"
   ]
  },
  {
   "cell_type": "markdown",
   "metadata": {},
   "source": [
    "##### Q.2. The neural network shown in Fig.1 has the following hyper parameters and input: Choose random weights and bias of the neuron and learning rate =0.01 and inputs to the neuron and target \n",
    "values are as follows.\n",
    "\n",
    "|X1 |X2 |Y(target) |\n",
    "|---|---|---|\n",
    "|4 |1 |2 |\n",
    "|2 |8 |-14| \n",
    "|1 |0 |1 |\n",
    "|3 |2 |-1 |\n",
    "|1 |4 |-7 |\n",
    "|6 |7 |-8 |\n",
    "\n",
    "1. Write a python code for predicted the output of neural network for given set of inputs using Stochastic Gradient Descent algorithm for the loss functions: \n",
    "    1. Mean Square Error \n",
    "    2. Squared Epsilon Hinge Loss\n",
    "2. Plot comparative loss curve \n",
    "3. repeat (1) and Adam optimization algorithm"
   ]
  },
  {
   "cell_type": "code",
   "execution_count": null,
   "metadata": {},
   "outputs": [],
   "source": []
  },
  {
   "cell_type": "markdown",
   "metadata": {},
   "source": [
    "##### Q3. A group of 20 students studied 0 to 6 hours for the exam. Some passed and others failed. Results are given below \n",
    "\n",
    "| Student | Hours studied - x | Result (0 – fail, 1 – pass) - y | \n",
    "| --- | --- | --- | \n",
    "| 1 | 0.5 | 0 | \n",
    "| 2 | 0.75 | 0 | \n",
    "| 3 | 1.00 | 0 | \n",
    "| 4 | 1.25 | 0 | \n",
    "| 5 | 1.50 | 0 | \n",
    "| 6 | 1.75 | 0 | \n",
    "| 7 | 1.75 | 1 | \n",
    "| 8 | 2.00 | 0 | \n",
    "| 9 | 2.25 | 1 | \n",
    "| 10 | 2.50 | 0 | \n",
    "| 11 | 2.75 | 1 | \n",
    "| 12 | 3.00 | 0 | \n",
    "| 13 | 3.25 | 1 | \n",
    "| 14 | 3.50 | 0 | \n",
    "| 15 | 4.00 | 1 | \n",
    "| 16 | 4.25 | 1 | \n",
    "| 17 | 4.50 | 1 | \n",
    "| 18 | 4.75 | 1 | \n",
    "| 19 | 5.00 | 1 | \n",
    "| 20 | 5.50 | 1 |\n",
    "\n",
    "- (a). Write python code for scratch to build neural network model to determine the optimal linear \n",
    "hypothesis using linear regression to predict if a student passes or not based on the number hours \n",
    "studied with the use for stochastic gradient descent and Adam optimization algorithm with model \n",
    "parameters for α = 0.01 choose random values of weights and bias and epochs=10000. Use \n",
    "appropriate regression loss function. \n",
    "- (b). \n",
    "    - (i).Write python code from scratch to determine the optimal logistic hypothesis using logistic regression to predict if a student passes or not based on the number hours studied with the use for stochastic gradient descent with model parameters for α = 0.01 choose random values of weights and bias and epochs=40000; Loss function: Binary Cross Entropy (BCE), Threshold value=0.5 \n",
    "        - (a) plot the cost function vs epoch \n",
    "        - (b) Predict pass or failed result of your designed model on random study hours enter by you. \n",
    "    - (ii) Repeat part (i) analysis with Dice Loss function. \n",
    "    - (iii)Repeat part (i) analysis with Adam optimization algorithm. \n"
   ]
  },
  {
   "cell_type": "code",
   "execution_count": null,
   "metadata": {},
   "outputs": [],
   "source": []
  },
  {
   "cell_type": "markdown",
   "metadata": {},
   "source": [
    "##### Q.4. Build a model to recognize different handwritten digits from MNIST dataset by using multinomial logistic regression.Use of Adam optimization algorithm to learn model with parameters for α = 0.01, epoch = 40000 and random parameters of the model and Loss function: Softmax loss function.\n",
    "- (a) Plot the cost function vs epoch \n",
    "- (b) Predict the digit of your designed model on random test data enter by you \n",
    "- (c) print confusion matrix \n",
    "- (d) calculate classification metrics such as precision,recall, f1-score and accuracy"
   ]
  },
  {
   "cell_type": "code",
   "execution_count": null,
   "metadata": {},
   "outputs": [],
   "source": []
  },
  {
   "cell_type": "markdown",
   "metadata": {},
   "source": [
    "##### Q.5. Build a model to discriminate the red, green and blue points in 2-dimensional space shown below: \n",
    "\n",
    "The input data and target are as follows: \n",
    "\n",
    "`\n",
    "X=np.array([[-0.1, 1.4], \n",
    "[-0.5,0.2], \n",
    " [1.3,0.9], \n",
    " [-0.6,0.4], \n",
    " [-1.6,0.2], \n",
    " [0.2,0.2], \n",
    " [-0.3,-0.4], \n",
    " [0.7,-0.8], \n",
    " [1.1,-1.5], \n",
    " [-1.0,0.9], \n",
    " [-0.5,1.5], \n",
    " [-1.3,-0.4], \n",
    " [-1.4,-1.2], \n",
    " [-0.9,-0.7], \n",
    " [0.4,-1.3], \n",
    " [-0.4,0.6], \n",
    " [0.3,-0.5], \n",
    " [-1.6,-0.7], \n",
    " [-0.5,-1.4], \n",
    " [-1.0,-1.4]]) \n",
    "y=np.array ([0,0,1,0,2,1,1,1,1,0,0,2,2,2,1,0,1,2,2,2]); `\n",
    "\n",
    "Here, \n",
    "0=red, 1=green and 2= blue dots \n",
    "In other words, given a point in 2-dimensions, x=(x1,x2), predict output either red, green or blue by \n",
    "using multinomial logistic regression. \n",
    "- (a) \n",
    "    - (i) Compare predicted results with ground truth using bar chat plot \n",
    "    - (ii) plot loss curve \n",
    "    - (iii) print confusion matrix \n",
    "    - (iv) calculate classification metrics such as precision, recall, f1-score and accuracy \n",
    "    - (v) Visualize classified data by Scatter plot. Use of gradient descent learning algorithm to learn model with parameters for α = 0.01, Softmax loss function and random parameters of the model.\n",
    "- (b)repeat part (a) Use Stochastic gradient descent algorithm to learn model \n",
    "- (c) repeat part (a) with use of Adam Optimization algorithm to learn model"
   ]
  },
  {
   "cell_type": "code",
   "execution_count": null,
   "metadata": {},
   "outputs": [],
   "source": []
  }
 ],
 "metadata": {
  "kernelspec": {
   "display_name": "Python 3",
   "language": "python",
   "name": "python3"
  },
  "language_info": {
   "codemirror_mode": {
    "name": "ipython",
    "version": 3
   },
   "file_extension": ".py",
   "mimetype": "text/x-python",
   "name": "python",
   "nbconvert_exporter": "python",
   "pygments_lexer": "ipython3",
   "version": "3.8.5"
  }
 },
 "nbformat": 4,
 "nbformat_minor": 4
}
