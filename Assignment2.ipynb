{
 "cells": [
  {
   "cell_type": "markdown",
   "metadata": {},
   "source": [
    "##### Q.1.Write python code from scratch for simple Linear Regression problem, the following training data are given. \n",
    "`\n",
    "X = [2, 2.5, 3, 3.5, 4, 4.5, 5, 5.5, 6] \n",
    "Y = [5.1, 6.1, 6.9, 7.8, 9.2, 9.9, 11.5, 12, 12.8] `\n",
    "\n",
    "The model Y as a linear function of X \n",
    "1. Use batch gradient descent learning algorithm to learn model parameters for α = 0.01 choose random values of weights and bias and epochs=1000. Use MSE as loss function with an appropriate convergence criterion. \n",
    "2. Plot cost function (J) for the learning duration \n",
    "3. plot the regression line \n",
    "4. repeat (2) to (3) for stochastic gradient descent and Adam optimization algorithm\n",
    "5. Plot comparative loss curve \n"
   ]
  },
  {
   "cell_type": "code",
   "execution_count": null,
   "metadata": {},
   "outputs": [],
   "source": []
  },
  {
   "cell_type": "markdown",
   "metadata": {},
   "source": [
    "##### Q.2. The neural network shown in Fig.1 has the following hyper parameters and input: Choose random weights and bias of the neuron and learning rate =0.01 and inputs to the neuron and target \n",
    "values are as follows.\n",
    "\n",
    "|X1 |X2 |Y(target) |\n",
    "|---|---|---|\n",
    "|4 |1 |2 |\n",
    "|2 |8 |-14| \n",
    "|1 |0 |1 |\n",
    "|3 |2 |-1 |\n",
    "|1 |4 |-7 |\n",
    "|6 |7 |-8 |\n",
    "\n",
    "1. Write a python code for predicted the output of neural network for given set of inputs using Stochastic Gradient Descent algorithm for the loss functions: \n",
    "    1. Mean Square Error \n",
    "    2. Squared Epsilon Hinge Loss\n",
    "2. Plot comparative loss curve \n",
    "3. repeat (1) and Adam optimization algorithm"
   ]
  },
  {
   "cell_type": "code",
   "execution_count": null,
   "metadata": {},
   "outputs": [],
   "source": []
  },
  {
   "cell_type": "markdown",
   "metadata": {},
   "source": [
    "##### Q3. A group of 20 students studied 0 to 6 hours for the exam. Some passed and others failed. Results are given below \n",
    "\n",
    "| Student | Hours studied - x | Result (0 – fail, 1 – pass) - y | \n",
    "| --- | --- | --- | \n",
    "| 1 | 0.5 | 0 | \n",
    "| 2 | 0.75 | 0 | \n",
    "| 3 | 1.00 | 0 | \n",
    "| 4 | 1.25 | 0 | \n",
    "| 5 | 1.50 | 0 | \n",
    "| 6 | 1.75 | 0 | \n",
    "| 7 | 1.75 | 1 | \n",
    "| 8 | 2.00 | 0 | \n",
    "| 9 | 2.25 | 1 | \n",
    "| 10 | 2.50 | 0 | \n",
    "| 11 | 2.75 | 1 | \n",
    "| 12 | 3.00 | 0 | \n",
    "| 13 | 3.25 | 1 | \n",
    "| 14 | 3.50 | 0 | \n",
    "| 15 | 4.00 | 1 | \n",
    "| 16 | 4.25 | 1 | \n",
    "| 17 | 4.50 | 1 | \n",
    "| 18 | 4.75 | 1 | \n",
    "| 19 | 5.00 | 1 | \n",
    "| 20 | 5.50 | 1 |\n",
    "\n",
    "- (a). Write python code for scratch to build neural network model to determine the optimal linear \n",
    "hypothesis using linear regression to predict if a student passes or not based on the number hours \n",
    "studied with the use for stochastic gradient descent and Adam optimization algorithm with model \n",
    "parameters for α = 0.01 choose random values of weights and bias and epochs=10000. Use \n",
    "appropriate regression loss function. \n",
    "- (b). \n",
    "    - (i).Write python code from scratch to determine the optimal logistic hypothesis using logistic regression to predict if a student passes or not based on the number hours studied with the use for stochastic gradient descent with model parameters for α = 0.01 choose random values of weights and bias and epochs=40000; Loss function: Binary Cross Entropy (BCE), Threshold value=0.5 \n",
    "        - (a) plot the cost function vs epoch \n",
    "        - (b) Predict pass or failed result of your designed model on random study hours enter by you. \n",
    "    - (ii) Repeat part (i) analysis with Dice Loss function. \n",
    "    - (iii)Repeat part (i) analysis with Adam optimization algorithm. \n"
   ]
  },
  {
   "cell_type": "code",
   "execution_count": null,
   "metadata": {},
   "outputs": [],
   "source": []
  },
  {
   "cell_type": "markdown",
   "metadata": {},
   "source": [
    "##### Q.4. Build a model to recognize different handwritten digits from MNIST dataset by using multinomial logistic regression.Use of Adam optimization algorithm to learn model with parameters for α = 0.01, epoch = 40000 and random parameters of the model and Loss function: Softmax loss function.\n",
    "- (a) Plot the cost function vs epoch \n",
    "- (b) Predict the digit of your designed model on random test data enter by you \n",
    "- (c) print confusion matrix \n",
    "- (d) calculate classification metrics such as precision,recall, f1-score and accuracy"
   ]
  },
  {
   "cell_type": "code",
   "execution_count": null,
   "metadata": {},
   "outputs": [],
   "source": []
  },
  {
   "cell_type": "markdown",
   "metadata": {},
   "source": [
    "##### Q.5. Build a model to discriminate the red, green and blue points in 2-dimensional space shown below: \n",
    "\n",
    "The input data and target are as follows: \n",
    "\n",
    "`\n",
    "X=np.array([[-0.1, 1.4], \n",
    "[-0.5,0.2], \n",
    " [1.3,0.9], \n",
    " [-0.6,0.4], \n",
    " [-1.6,0.2], \n",
    " [0.2,0.2], \n",
    " [-0.3,-0.4], \n",
    " [0.7,-0.8], \n",
    " [1.1,-1.5], \n",
    " [-1.0,0.9], \n",
    " [-0.5,1.5], \n",
    " [-1.3,-0.4], \n",
    " [-1.4,-1.2], \n",
    " [-0.9,-0.7], \n",
    " [0.4,-1.3], \n",
    " [-0.4,0.6], \n",
    " [0.3,-0.5], \n",
    " [-1.6,-0.7], \n",
    " [-0.5,-1.4], \n",
    " [-1.0,-1.4]]) \n",
    "y=np.array ([0,0,1,0,2,1,1,1,1,0,0,2,2,2,1,0,1,2,2,2]); `\n",
    "\n",
    "Here, \n",
    "0=red, 1=green and 2= blue dots \n",
    "In other words, given a point in 2-dimensions, x=(x1,x2), predict output either red, green or blue by \n",
    "using multinomial logistic regression. \n",
    "- (a) \n",
    "    - (i) Compare predicted results with ground truth using bar chat plot \n",
    "    - (ii) plot loss curve \n",
    "    - (iii) print confusion matrix \n",
    "    - (iv) calculate classification metrics such as precision, recall, f1-score and accuracy \n",
    "    - (v) Visualize classified data by Scatter plot. Use of gradient descent learning algorithm to learn model with parameters for α = 0.01, Softmax loss function and random parameters of the model.\n",
    "- (b)repeat part (a) Use Stochastic gradient descent algorithm to learn model \n",
    "- (c) repeat part (a) with use of Adam Optimization algorithm to learn model"
   ]
  },
  {
   "cell_type": "code",
   "execution_count": null,
   "metadata": {},
   "outputs": [],
   "source": []
  }
 ],
 "metadata": {
  "kernelspec": {
   "display_name": "Python 3",
   "language": "python",
   "name": "python3"
  },
  "language_info": {
   "codemirror_mode": {
    "name": "ipython",
    "version": 3
   },
   "file_extension": ".py",
   "mimetype": "text/x-python",
   "name": "python",
   "nbconvert_exporter": "python",
   "pygments_lexer": "ipython3",
   "version": "3.8.5"
  }
 },
 "nbformat": 4,
 "nbformat_minor": 4
}
