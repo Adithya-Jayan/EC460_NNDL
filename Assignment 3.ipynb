{
 "cells": [
  {
   "cell_type": "markdown",
   "metadata": {},
   "source": [
    "#### Q. 1. Build a ANN model from scratch for predicting best housing selling prices in Boston using three features (i.e. “RM: average number of rooms per dwelling; LSTAT: percentage of population considered lower status: PTRATIO: pupil-teacher ratio by town”) of Boston dataset (Use Sklearn Dataset) by using Stochastic Gradient Descent algorithm for the loss functions: \n",
    "- (a) Mean Square Error \n",
    "- (b) Huber Loss \n",
    "- (c) Squared Epsilon Hinge Loss \n",
    "- (i) Plot comparative loss curve for at least 500 epochs.\n",
    "- (ii) Print comparison of Boston housing selling prices among above mentioned loss functions using bar chart plot and which loss function is providing better housing selling prices among others.\n",
    "- (iii) Implement above ANN model with Keras Library and verify the above results."
   ]
  },
  {
   "cell_type": "code",
   "execution_count": null,
   "metadata": {},
   "outputs": [],
   "source": []
  },
  {
   "cell_type": "markdown",
   "metadata": {},
   "source": [
    "#### Q. 2. Build a ANN model from to recognize breast cancer from Breast Dataset (Use Sklearn Dataset). Use Stochastic gradient descent algorithm to learn model with parameters for α = 0.01 and random parameters of the parameters of the ANN model for loss functions \n",
    "- (a) Binary cross entropy \n",
    "- (b) Dice Loss \n",
    "- (i) Plot comparative loss curve for at least 200 epochs.\n",
    "- (ii) Print confusion matrix, calculate classification metrics such as precision, recall, f1-score and accuracy and ROUC curve for each loss function.\n",
    "- (iii) Repeat part (ii) to (iii) using Adam gradient descent algorithm\n",
    "- (iv) Implement above ANN model with Keras Library and verify the above results. "
   ]
  },
  {
   "cell_type": "code",
   "execution_count": null,
   "metadata": {},
   "outputs": [],
   "source": []
  },
  {
   "cell_type": "markdown",
   "metadata": {},
   "source": [
    "#### Q.3. Build a ANN model from scratch to recognize diabetes-from pima-indians-diabetes-database (i.e. https://github.com/duonghuuphuc/keras/tree/master/dataset ). Use Stochastic gradient descent algorithm to learn model with parameters for α = 0.01 and random parameters of the ANN model for loss functions \n",
    "- (a) Binary cross entropy \n",
    "- (b) Dice Loss \n",
    "- (i) Visualize input dataset and Plot comparative loss curve for at least 200 epochs.\n",
    "- (ii) Print confusion matrix, calculate classification metrics such as precision, recall, f1-score and accuracy and ROUC curve for each loss function.\n",
    "- (iii) Repeat part (i) to (ii) using Adam gradient descent algorithm\n",
    "- (iv) Implement above ANN model with Keras Library and verify the above results. "
   ]
  },
  {
   "cell_type": "code",
   "execution_count": null,
   "metadata": {},
   "outputs": [],
   "source": []
  },
  {
   "cell_type": "markdown",
   "metadata": {},
   "source": [
    "#### Q. 4. Build a ANN model from scratch to recognize Iris-setosa, Iris -virginica and Iris-versicolor from the Iris Dataset ((Use Sklearn Dataset) which contains four features (length and width of sepals and petals) of 50 samples of three species of Iris (Iris setosa, Iris virginica and Iris versicolor. For implementation, use Stochastic gradient descent algorithm to learn model with parameters for α = 0.01and random parameters of the ANN model for the Softmax loss function \n",
    "- (i)Visualize data by boxplot of Sepal Length & Sepal width and Petal Length and width for three IRIS\n",
    "species. \n",
    "- (ii) Plot comparative loss curve for at least 200 epochs.\n",
    "- (iii) Print confusion matrix, calculate classification metrics such as precision, recall, f1-score and accuracy and ROUC curve\n",
    "- (iv) Visualize classified data by Scatter plot\n",
    "- (v) Print confusion matrix, calculate classification metrics such as precision, recall, f1-score and accuracy and ROUC curve for each loss function.\n",
    "- (vi) Repeat part (ii) to (v) using Adam gradient descent algorithm\n",
    "- (vii) Implement above ANN model with Keras Library and verify the above results. "
   ]
  },
  {
   "cell_type": "code",
   "execution_count": null,
   "metadata": {},
   "outputs": [],
   "source": []
  },
  {
   "cell_type": "markdown",
   "metadata": {},
   "source": [
    "#### Q. 5. Build a ANN model from scratch to recognize human emotion using Facial emotion recognition dataset (FER2013) (https://github.com/gitshanks/fer2013). For implementation, use Stochastic gradient descent algorithm to learn model with parameters for α = 0.01 and random parameters of the ANN model for the Softmax loss function \n",
    "- (i)Visualize Facial emotion recognition dataset (FER2013. \n",
    "- (ii) Plot comparative loss curve for at least 200 epochs.\n",
    "- (iii)Print confusion matrix, calculate classification metrics such as precision, recall, f1-score and accuracy and ROUC curve\n",
    "- (iv) Repeat part (ii) to (iii) using Adam gradient descent algorithm\n",
    "- (v) Implement above ANN model with Keras Library and verify the above result"
   ]
  },
  {
   "cell_type": "code",
   "execution_count": 1,
   "metadata": {},
   "outputs": [],
   "source": [
    "import numpy as np\n",
    "import matplotlib.pyplot as plt\n",
    "import tqdm.notebook as tqdm\n",
    "import pandas as pd"
   ]
  },
  {
   "cell_type": "code",
   "execution_count": 2,
   "metadata": {},
   "outputs": [],
   "source": [
    "def softmax(Input, Derivative = False , dE = None):\n",
    "    \n",
    "    if(Derivative):\n",
    "        Soft = np.array([softmax(Input)])\n",
    "        der = Soft*(np.identity(len(Input)) - np.transpose(Soft))\n",
    "        output = np.matmul(np.array([dE]),der)[0]\n",
    "        return output\n",
    "    else:\n",
    "        Input = np.array(Input)\n",
    "        Numerator = np.exp(Input)\n",
    "        output = Numerator/sum(Numerator)\n",
    "        return (output)\n",
    "\n",
    "def sigmoid_activation(Input, Derivative = False , dE = None):\n",
    "    if(Derivative):\n",
    "        S = sigmoid_activation(Input)\n",
    "        out = S*(1-S) * dE\n",
    "        return(out)\n",
    "    else:\n",
    "        if(Input>50): Input = 50\n",
    "        output = np.exp(Input)/(np.exp(Input)+1)\n",
    "        return(output)\n",
    "\n",
    "def neuron_forward(X,Params):\n",
    "    W,B = Params\n",
    "    out = np.dot(X,W) + B\n",
    "    activated = sigmoid_activation(out)\n",
    "    \n",
    "    if(np.isnan(activated).any()):\n",
    "        print(\"Debug logs:\")\n",
    "        print(\"X:\",X)\n",
    "        print(\"W:\",W)\n",
    "        print(\"B:\",B)\n",
    "        print(\"Out:\",out)\n",
    "        print(\"Activated:\",activated)\n",
    "        raise Exception(\"Nan detected!\")\n",
    "        \n",
    "    return activated\n",
    "\n",
    "def neuron_backward(dE,X,Params):\n",
    "    W,B = Params\n",
    "    dE = sigmoid_activation(np.dot(X,W) + B,Derivative = True,dE = dE)\n",
    "    dW = np.array(dE)*X\n",
    "    dB = dE\n",
    "    W = W - dW\n",
    "    B = B - dB\n",
    "    dX = np.array(dE)*W\n",
    "    return (W,B),(dX)\n",
    "\n",
    "def add_dense_layer(N_Neurons, Model = [], input_size = None ):\n",
    "    \n",
    "    if(input_size==None):\n",
    "        input_size = len(Model[-1])\n",
    "        \n",
    "    new_layer = []\n",
    "    for i in range(N_Neurons):\n",
    "        new_layer = new_layer + [(np.random.rand(input_size)/input_size,np.random.rand())]\n",
    "    Model = Model + [new_layer]\n",
    "    \n",
    "    return Model\n",
    "\n",
    "def Forward_propogation(Model , X ,Activation = None):\n",
    "    All_outputs = [X]\n",
    "    for layer in Model:\n",
    "        Layer_output = []\n",
    "        for neuron in layer:\n",
    "            Layer_output = Layer_output + [neuron_forward(All_outputs[-1],neuron)]\n",
    "        All_outputs = All_outputs + [Layer_output]\n",
    "        \n",
    "    if(Activation != None):\n",
    "        All_outputs = All_outputs + [Activation(All_outputs[-1])]\n",
    "    else:\n",
    "        All_outputs = All_outputs + [All_outputs[-1]]\n",
    "        \n",
    "    return All_outputs\n",
    "        \n",
    "def Back_propogation(Model,Outputs,Error,Activation = None):\n",
    "    if(Activation != None):\n",
    "        Error = Activation(Outputs[-1], Derivative = True , dE = Error)\n",
    "        \n",
    "    n_layers = len(Model)\n",
    "    Input_errors = np.array(Error)\n",
    "    \n",
    "    for i in range(n_layers):\n",
    "        Out_Error = 0\n",
    "\n",
    "        for j in range(len(Model[n_layers - i -1])):\n",
    "            Model[n_layers - i -1][j] , dX = neuron_backward(Input_errors[j],Outputs[n_layers - i -1],Model[n_layers - i -1][j])\n",
    "            Out_Error = Out_Error + dX\n",
    "        Input_errors = Out_Error.copy()\n",
    "        \n",
    "    return Model\n",
    "\n",
    "def display_weights(Model):\n",
    "    print(\"\\n*********************************************\")\n",
    "    for i,layer in enumerate(Model):\n",
    "        print(\"\\n--------Layer {}---------\".format(i+1))\n",
    "        for node in layer:\n",
    "            print(node)\n",
    "    print(\"*********************************************\\n\")"
   ]
  },
  {
   "cell_type": "code",
   "execution_count": 3,
   "metadata": {},
   "outputs": [
    {
     "name": "stdout",
     "output_type": "stream",
     "text": [
      "Number of emotions:  [0 2 4 6 3 5 1]\n"
     ]
    },
    {
     "data": {
      "text/html": [
       "<div>\n",
       "<style scoped>\n",
       "    .dataframe tbody tr th:only-of-type {\n",
       "        vertical-align: middle;\n",
       "    }\n",
       "\n",
       "    .dataframe tbody tr th {\n",
       "        vertical-align: top;\n",
       "    }\n",
       "\n",
       "    .dataframe thead th {\n",
       "        text-align: right;\n",
       "    }\n",
       "</style>\n",
       "<table border=\"1\" class=\"dataframe\">\n",
       "  <thead>\n",
       "    <tr style=\"text-align: right;\">\n",
       "      <th></th>\n",
       "      <th>emotion</th>\n",
       "      <th>Usage</th>\n",
       "      <th>pixels</th>\n",
       "    </tr>\n",
       "  </thead>\n",
       "  <tbody>\n",
       "    <tr>\n",
       "      <th>0</th>\n",
       "      <td>0</td>\n",
       "      <td>Training</td>\n",
       "      <td>70 80 82 72 58 58 60 63 54 58 60 48 89 115 121...</td>\n",
       "    </tr>\n",
       "    <tr>\n",
       "      <th>1</th>\n",
       "      <td>0</td>\n",
       "      <td>Training</td>\n",
       "      <td>151 150 147 155 148 133 111 140 170 174 182 15...</td>\n",
       "    </tr>\n",
       "    <tr>\n",
       "      <th>2</th>\n",
       "      <td>2</td>\n",
       "      <td>Training</td>\n",
       "      <td>231 212 156 164 174 138 161 173 182 200 106 38...</td>\n",
       "    </tr>\n",
       "    <tr>\n",
       "      <th>3</th>\n",
       "      <td>4</td>\n",
       "      <td>Training</td>\n",
       "      <td>24 32 36 30 32 23 19 20 30 41 21 22 32 34 21 1...</td>\n",
       "    </tr>\n",
       "    <tr>\n",
       "      <th>4</th>\n",
       "      <td>6</td>\n",
       "      <td>Training</td>\n",
       "      <td>4 0 0 0 0 0 0 0 0 0 0 0 3 15 23 28 48 50 58 84...</td>\n",
       "    </tr>\n",
       "  </tbody>\n",
       "</table>\n",
       "</div>"
      ],
      "text/plain": [
       "   emotion     Usage                                             pixels\n",
       "0        0  Training  70 80 82 72 58 58 60 63 54 58 60 48 89 115 121...\n",
       "1        0  Training  151 150 147 155 148 133 111 140 170 174 182 15...\n",
       "2        2  Training  231 212 156 164 174 138 161 173 182 200 106 38...\n",
       "3        4  Training  24 32 36 30 32 23 19 20 30 41 21 22 32 34 21 1...\n",
       "4        6  Training  4 0 0 0 0 0 0 0 0 0 0 0 3 15 23 28 48 50 58 84..."
      ]
     },
     "execution_count": 3,
     "metadata": {},
     "output_type": "execute_result"
    }
   ],
   "source": [
    "path = \"challenges-in-representation-learning-facial-expression-recognition-challenge/\"\n",
    "data = pd.read_csv(path+'icml_face_data.csv')\n",
    "\n",
    "print(\"Number of emotions: \",data['emotion'].unique())\n",
    "data.head()"
   ]
  },
  {
   "cell_type": "code",
   "execution_count": 4,
   "metadata": {},
   "outputs": [],
   "source": [
    "def prepare_data(data):\n",
    "    \"\"\" Prepare data for modeling \n",
    "        input: data frame with labels und pixel data\n",
    "        output: image and label array \"\"\"\n",
    "    \n",
    "    image_array = np.zeros(shape=(len(data), 48, 48))\n",
    "    image_label = np.array(list(map(int, data['emotion'])))\n",
    "    \n",
    "    for i, row in enumerate(data.index):\n",
    "        image = np.fromstring(data.loc[row, ' pixels'], dtype=int, sep=' ')\n",
    "        image = np.reshape(image, (48, 48))\n",
    "        image_array[i] = image\n",
    "        \n",
    "    return image_array, image_label"
   ]
  },
  {
   "cell_type": "code",
   "execution_count": 5,
   "metadata": {},
   "outputs": [],
   "source": [
    "X_train,Y_train = prepare_data(data)"
   ]
  },
  {
   "cell_type": "code",
   "execution_count": 6,
   "metadata": {},
   "outputs": [
    {
     "name": "stdout",
     "output_type": "stream",
     "text": [
      "(35887, 48, 48) (35887,)\n"
     ]
    }
   ],
   "source": [
    "print(np.shape(X_train),np.shape(Y_train))"
   ]
  },
  {
   "cell_type": "code",
   "execution_count": 7,
   "metadata": {},
   "outputs": [],
   "source": [
    "Model = add_dense_layer(15,input_size =48*48)\n",
    "Model = add_dense_layer(15,Model)\n",
    "Model = add_dense_layer(7,Model)\n",
    "# display_weights(Model)"
   ]
  },
  {
   "cell_type": "code",
   "execution_count": 8,
   "metadata": {},
   "outputs": [
    {
     "data": {
      "application/vnd.jupyter.widget-view+json": {
       "model_id": "5ba0d0c87356477ca527a52e163ba71e",
       "version_major": 2,
       "version_minor": 0
      },
      "text/plain": [
       "HBox(children=(HTML(value='Epochs'), FloatProgress(value=0.0, max=2.0), HTML(value='')))"
      ]
     },
     "metadata": {},
     "output_type": "display_data"
    },
    {
     "data": {
      "application/vnd.jupyter.widget-view+json": {
       "model_id": "",
       "version_major": 2,
       "version_minor": 0
      },
      "text/plain": [
       "HBox(children=(HTML(value='Input Images'), FloatProgress(value=0.0, max=35887.0), HTML(value='')))"
      ]
     },
     "metadata": {},
     "output_type": "display_data"
    },
    {
     "data": {
      "image/png": "[encoded data removed]",
      "text/plain": [
       "<Figure size 432x288 with 1 Axes>"
      ]
     },
     "metadata": {
      "needs_background": "light"
     },
     "output_type": "display_data"
    },
    {
     "data": {
      "application/vnd.jupyter.widget-view+json": {
       "model_id": "",
       "version_major": 2,
       "version_minor": 0
      },
      "text/plain": [
       "HBox(children=(HTML(value='Input Images'), FloatProgress(value=0.0, max=35887.0), HTML(value='')))"
      ]
     },
     "metadata": {},
     "output_type": "display_data"
    },
    {
     "data": {
      "image/png": "[encoded data removed]",
      "text/plain": [
       "<Figure size 432x288 with 1 Axes>"
      ]
     },
     "metadata": {
      "needs_background": "light"
     },
     "output_type": "display_data"
    },
    {
     "name": "stdout",
     "output_type": "stream",
     "text": [
      "\n",
      "Loss over Epochs: [0.75913283361663, 0.7495193245464932]\n"
     ]
    },
    {
     "data": {
      "image/png": "[encoded data removed]",
      "text/plain": [
       "<Figure size 432x288 with 1 Axes>"
      ]
     },
     "metadata": {
      "needs_background": "light"
     },
     "output_type": "display_data"
    }
   ],
   "source": [
    "# Outputs = Forward_propogation(Model,[0.1,0.1])\n",
    "# print(Outputs)\n",
    "# display_weights(Model)\n",
    "# Model = Back_propogation(Model,Outputs,[2,1])\n",
    "# display_weights(Model)\n",
    "n_classes = 7\n",
    "learning_rate = 0.01\n",
    "Epochs = 2\n",
    "Loss = []\n",
    "\n",
    "for i in tqdm.tqdm(range(Epochs),position   = 0,leave = True,desc = \"Epochs\"):\n",
    "    \n",
    "    record = []\n",
    "    for X,Truth in tqdm.tqdm(zip(X_train,Y_train),position   = 1,leave = False,total = len(Y_train), desc = \"Input Images\"):\n",
    "        \n",
    "        X = X.flatten()/255\n",
    "        \n",
    "        #Obtain Predictions\n",
    "        Outputs = Forward_propogation(Model,X,softmax)\n",
    "\n",
    "        #Save prediction for plotting\n",
    "        record = record + [np.argmax(Outputs[-1]) != Truth]\n",
    "        \n",
    "        #Calculate error\n",
    "        temp = [0]*n_classes\n",
    "        temp[Truth] = 1\n",
    "        Error = (Outputs[-1] - temp)* learning_rate\n",
    "        \n",
    "        #Backpropogate using error\n",
    "        Model = Back_propogation(Model,Outputs,Error,softmax)\n",
    "    \n",
    "    plt.figure()\n",
    "    plt.plot([np.mean(record[i:i+1000]) for i in range(0,len(record)-1000,500)])\n",
    "    plt.title(\"Epoch {}\".format(i+1))\n",
    "    plt.show()\n",
    "    \n",
    "    Loss = Loss + [np.mean(record)]\n",
    "\n",
    "plt.figure()\n",
    "plt.plot(Loss)\n",
    "plt.title(\"Loss over Epochs\")\n",
    "plt.show\n",
    "\n",
    "print(\"Loss over Epochs:\",Loss)\n"
   ]
  },
  {
   "cell_type": "code",
   "execution_count": null,
   "metadata": {},
   "outputs": [],
   "source": []
  }
 ],
 "metadata": {
  "kernelspec": {
   "display_name": "Python 3",
   "language": "python",
   "name": "python3"
  },
  "language_info": {
   "codemirror_mode": {
    "name": "ipython",
    "version": 3
   },
   "file_extension": ".py",
   "mimetype": "text/x-python",
   "name": "python",
   "nbconvert_exporter": "python",
   "pygments_lexer": "ipython3",
   "version": "3.8.5"
  }
 },
 "nbformat": 4,
 "nbformat_minor": 4
}
