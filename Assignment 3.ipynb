{
 "cells": [
  {
   "cell_type": "markdown",
   "metadata": {},
   "source": [
    "#### Q. 1. Build a ANN model from scratch for predicting best housing selling prices in Boston using three features (i.e. “RM: average number of rooms per dwelling; LSTAT: percentage of population considered lower status: PTRATIO: pupil-teacher ratio by town”) of Boston dataset (Use Sklearn Dataset) by using Stochastic Gradient Descent algorithm for the loss functions: \n",
    "- (a) Mean Square Error \n",
    "- (b) Huber Loss \n",
    "- (c) Squared Epsilon Hinge Loss \n",
    "- (i) Plot comparative loss curve for at least 500 epochs.\n",
    "- (ii) Print comparison of Boston housing selling prices among above mentioned loss functions using bar chart plot and which loss function is providing better housing selling prices among others.\n",
    "- (iii) Implement above ANN model with Keras Library and verify the above results."
   ]
  },
  {
   "cell_type": "code",
   "execution_count": null,
   "metadata": {},
   "outputs": [],
   "source": []
  },
  {
   "cell_type": "markdown",
   "metadata": {},
   "source": [
    "#### Q. 2. Build a ANN model from to recognize breast cancer from Breast Dataset (Use Sklearn Dataset). Use Stochastic gradient descent algorithm to learn model with parameters for α = 0.01 and random parameters of the parameters of the ANN model for loss functions \n",
    "- (a) Binary cross entropy \n",
    "- (b) Dice Loss \n",
    "- (i) Plot comparative loss curve for at least 200 epochs.\n",
    "- (ii) Print confusion matrix, calculate classification metrics such as precision, recall, f1-score and accuracy and ROUC curve for each loss function.\n",
    "- (iii) Repeat part (ii) to (iii) using Adam gradient descent algorithm\n",
    "- (iv) Implement above ANN model with Keras Library and verify the above results. "
   ]
  },
  {
   "cell_type": "code",
   "execution_count": null,
   "metadata": {},
   "outputs": [],
   "source": []
  },
  {
   "cell_type": "markdown",
   "metadata": {},
   "source": [
    "#### Q.3. Build a ANN model from scratch to recognize diabetes-from pima-indians-diabetes-database (i.e. https://github.com/duonghuuphuc/keras/tree/master/dataset ). Use Stochastic gradient descent algorithm to learn model with parameters for α = 0.01 and random parameters of the ANN model for loss functions \n",
    "- (a) Binary cross entropy \n",
    "- (b) Dice Loss \n",
    "- (i) Visualize input dataset and Plot comparative loss curve for at least 200 epochs.\n",
    "- (ii) Print confusion matrix, calculate classification metrics such as precision, recall, f1-score and accuracy and ROUC curve for each loss function.\n",
    "- (iii) Repeat part (i) to (ii) using Adam gradient descent algorithm\n",
    "- (iv) Implement above ANN model with Keras Library and verify the above results. "
   ]
  },
  {
   "cell_type": "code",
   "execution_count": null,
   "metadata": {},
   "outputs": [],
   "source": []
  },
  {
   "cell_type": "markdown",
   "metadata": {},
   "source": [
    "#### Q. 4. Build a ANN model from scratch to recognize Iris-setosa, Iris -virginica and Iris-versicolor from the Iris Dataset ((Use Sklearn Dataset) which contains four features (length and width of sepals and petals) of 50 samples of three species of Iris (Iris setosa, Iris virginica and Iris versicolor. For implementation, use Stochastic gradient descent algorithm to learn model with parameters for α = 0.01and random parameters of the ANN model for the Softmax loss function \n",
    "- (i)Visualize data by boxplot of Sepal Length & Sepal width and Petal Length and width for three IRIS\n",
    "species. \n",
    "- (ii) Plot comparative loss curve for at least 200 epochs.\n",
    "- (iii) Print confusion matrix, calculate classification metrics such as precision, recall, f1-score and accuracy and ROUC curve\n",
    "- (iv) Visualize classified data by Scatter plot\n",
    "- (v) Print confusion matrix, calculate classification metrics such as precision, recall, f1-score and accuracy and ROUC curve for each loss function.\n",
    "- (vi) Repeat part (ii) to (v) using Adam gradient descent algorithm\n",
    "- (vii) Implement above ANN model with Keras Library and verify the above results. "
   ]
  },
  {
   "cell_type": "code",
   "execution_count": null,
   "metadata": {},
   "outputs": [],
   "source": []
  },
  {
   "cell_type": "markdown",
   "metadata": {},
   "source": [
    "#### Q. 5. Build a ANN model from scratch to recognize human emotion using Facial emotion recognition dataset (FER2013) (https://github.com/gitshanks/fer2013). For implementation, use Stochastic gradient descent algorithm to learn model with parameters for α = 0.01 and random parameters of the ANN model for the Softmax loss function \n",
    "- (i)Visualize Facial emotion recognition dataset (FER2013. \n",
    "- (ii) Plot comparative loss curve for at least 200 epochs.\n",
    "- (iii)Print confusion matrix, calculate classification metrics such as precision, recall, f1-score and accuracy and ROUC curve\n",
    "- (iv) Repeat part (ii) to (iii) using Adam gradient descent algorithm\n",
    "- (v) Implement above ANN model with Keras Library and verify the above result"
   ]
  },
  {
   "cell_type": "code",
   "execution_count": 4,
   "metadata": {},
   "outputs": [],
   "source": [
    "import numpy as np\n",
    "import matplotlib.pyplot as plt"
   ]
  },
  {
   "cell_type": "code",
   "execution_count": 229,
   "metadata": {},
   "outputs": [],
   "source": [
    "# def softmax(Input, Derivative = False , dE = None):\n",
    "    \n",
    "#     if(Derivative):\n",
    "#         output = np.zeros_like(Input)\n",
    "#         for i in Input:\n",
    "#             output = output + \n",
    "#     else:\n",
    "#         output = Input.copy()\n",
    "#         denominator = sum(np.exp(Input))\n",
    "#         for i in range(len(Input)):\n",
    "#             output[i] = np.exp(Input[i])/denominator\n",
    "#         return(output)\n",
    "\n",
    "def sigmoid_activation(Input, Derivative = False , dE = None):\n",
    "    if(Derivative):\n",
    "        S = sigmoid_activation(Input)\n",
    "        out = S*(1-S) * dE\n",
    "        return(out)\n",
    "    else:\n",
    "        output = np.exp(Input)/(np.exp(Input)+1)\n",
    "        return(output)\n",
    "\n",
    "def neuron_forward(X,Params):\n",
    "    W,B = Params\n",
    "    out = np.dot(X,W) + B\n",
    "    activated = sigmoid_activation(out)\n",
    "    return activated\n",
    "\n",
    "def neuron_backward(dE,X,Params):\n",
    "    W,B = Params\n",
    "    dE = sigmoid_activation(np.dot(X,W) + B,Derivative = True,dE = dE)\n",
    "    dW = dE/X\n",
    "    dB = dE\n",
    "    W = W - dW\n",
    "    B = B - dB\n",
    "    dX = dE/W\n",
    "    return (W,B),(dX)\n",
    "\n",
    "def add_dense_layer(N_Neurons, Model = [], input_size = None ):\n",
    "    \n",
    "    if(input_size==None):\n",
    "        input_size = len(Model[-1])\n",
    "        \n",
    "    new_layer = []\n",
    "    for i in range(N_Neurons):\n",
    "        new_layer = new_layer + [(np.random.rand(input_size),np.random.rand())]\n",
    "    Model = Model + [new_layer]\n",
    "    \n",
    "    return Model\n",
    "\n",
    "def Forward_propogation(Model , X ):\n",
    "    All_outputs = [X]\n",
    "    for layer in Model:\n",
    "        Layer_output = []\n",
    "        for neuron in layer:\n",
    "            Layer_output = Layer_output + [neuron_forward(All_outputs[-1],neuron)]\n",
    "        All_outputs = All_outputs + [Layer_output]\n",
    "    return All_outputs\n",
    "        \n",
    "def Back_propogation(Model,Outputs,Error):\n",
    "    n_layers = len(Model)\n",
    "    Input_errors = np.array(Error)\n",
    "    \n",
    "    for i in range(n_layers):\n",
    "        Out_Error = 0\n",
    "\n",
    "        for j in range(len(Model[n_layers - i -1])):\n",
    "            Model[n_layers - i -1][j] , dX = neuron_backward(Input_errors[j],Outputs[n_layers - i -1],Model[n_layers - i -1][j])\n",
    "            Out_Error = Out_Error + dX\n",
    "        Input_errors = Out_Error.copy()\n",
    "        \n",
    "    return Model\n",
    "\n",
    "def display_weights(Model):\n",
    "    print(\"\\n*********************************************\")\n",
    "    for i,layer in enumerate(Model):\n",
    "        print(\"\\n--------Layer {}---------\".format(i+1))\n",
    "        for node in layer:\n",
    "            print(node)\n",
    "    print(\"*********************************************\\n\")"
   ]
  },
  {
   "cell_type": "code",
   "execution_count": 230,
   "metadata": {},
   "outputs": [],
   "source": [
    "Model = add_dense_layer(4,input_size =2)\n",
    "Model = add_dense_layer(3,Model)\n",
    "Model = add_dense_layer(1,Model)\n",
    "# display_weights(Model)"
   ]
  },
  {
   "cell_type": "code",
   "execution_count": 232,
   "metadata": {},
   "outputs": [
    {
     "name": "stdout",
     "output_type": "stream",
     "text": [
      "0.0\n"
     ]
    },
    {
     "data": {
      "image/png": "[encoded data removed]",
      "text/plain": [
       "<Figure size 432x288 with 1 Axes>"
      ]
     },
     "metadata": {
      "needs_background": "light"
     },
     "output_type": "display_data"
    }
   ],
   "source": [
    "# Outputs = Forward_propogation(Model,[0.1,0.1])\n",
    "# print(Outputs)\n",
    "# display_weights(Model)\n",
    "# Model = Back_propogation(Model,Outputs,[2,1])\n",
    "# display_weights(Model)\n",
    "\n",
    "X = [2,3]\n",
    "Truth = [0.5]\n",
    "record = []\n",
    "for i in range(100):\n",
    "    Outputs = Forward_propogation(Model,X)\n",
    "    Error = Outputs[-1][0] - Truth[0]\n",
    "    record = record + [Error]\n",
    "    Model = Back_propogation(Model,Outputs,[Error])\n",
    "    \n",
    "plt.plot(record)\n",
    "plt.show\n",
    "print(record[-1])"
   ]
  },
  {
   "cell_type": "code",
   "execution_count": null,
   "metadata": {},
   "outputs": [],
   "source": []
  },
  {
   "cell_type": "code",
   "execution_count": null,
   "metadata": {},
   "outputs": [],
   "source": []
  }
 ],
 "metadata": {
  "kernelspec": {
   "display_name": "Python 3",
   "language": "python",
   "name": "python3"
  },
  "language_info": {
   "codemirror_mode": {
    "name": "ipython",
    "version": 3
   },
   "file_extension": ".py",
   "mimetype": "text/x-python",
   "name": "python",
   "nbconvert_exporter": "python",
   "pygments_lexer": "ipython3",
   "version": "3.8.5"
  }
 },
 "nbformat": 4,
 "nbformat_minor": 4
}
