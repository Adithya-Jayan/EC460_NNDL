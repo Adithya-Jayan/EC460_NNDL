{
 "cells": [
  {
   "cell_type": "markdown",
   "metadata": {},
   "source": [
    "#### Q. 1. Build a ANN model from scratch for predicting best housing selling prices in Boston using three features (i.e. “RM: average number of rooms per dwelling; LSTAT: percentage of population considered lower status: PTRATIO: pupil-teacher ratio by town”) of Boston dataset (Use Sklearn Dataset) by using Stochastic Gradient Descent algorithm for the loss functions: \n",
    "- (a) Mean Square Error \n",
    "- (b) Huber Loss \n",
    "- (c) Squared Epsilon Hinge Loss \n",
    "- (i) Plot comparative loss curve for at least 500 epochs.\n",
    "- (ii) Print comparison of Boston housing selling prices among above mentioned loss functions using bar chart plot and which loss function is providing better housing selling prices among others.\n",
    "- (iii) Implement above ANN model with Keras Library and verify the above results."
   ]
  },
  {
   "cell_type": "code",
   "execution_count": null,
   "metadata": {},
   "outputs": [],
   "source": []
  },
  {
   "cell_type": "markdown",
   "metadata": {},
   "source": [
    "#### Q. 2. Build a ANN model from to recognize breast cancer from Breast Dataset (Use Sklearn Dataset). Use Stochastic gradient descent algorithm to learn model with parameters for α = 0.01 and random parameters of the parameters of the ANN model for loss functions \n",
    "- (a) Binary cross entropy \n",
    "- (b) Dice Loss \n",
    "- (i) Plot comparative loss curve for at least 200 epochs.\n",
    "- (ii) Print confusion matrix, calculate classification metrics such as precision, recall, f1-score and accuracy and ROUC curve for each loss function.\n",
    "- (iii) Repeat part (ii) to (iii) using Adam gradient descent algorithm\n",
    "- (iv) Implement above ANN model with Keras Library and verify the above results. "
   ]
  },
  {
   "cell_type": "code",
   "execution_count": null,
   "metadata": {},
   "outputs": [],
   "source": []
  },
  {
   "cell_type": "markdown",
   "metadata": {},
   "source": [
    "#### Q.3. Build a ANN model from scratch to recognize diabetes-from pima-indians-diabetes-database (i.e. https://github.com/duonghuuphuc/keras/tree/master/dataset ). Use Stochastic gradient descent algorithm to learn model with parameters for α = 0.01 and random parameters of the ANN model for loss functions \n",
    "- (a) Binary cross entropy \n",
    "- (b) Dice Loss \n",
    "- (i) Visualize input dataset and Plot comparative loss curve for at least 200 epochs.\n",
    "- (ii) Print confusion matrix, calculate classification metrics such as precision, recall, f1-score and accuracy and ROUC curve for each loss function.\n",
    "- (iii) Repeat part (i) to (ii) using Adam gradient descent algorithm\n",
    "- (iv) Implement above ANN model with Keras Library and verify the above results. "
   ]
  },
  {
   "cell_type": "code",
   "execution_count": null,
   "metadata": {},
   "outputs": [],
   "source": []
  },
  {
   "cell_type": "markdown",
   "metadata": {},
   "source": [
    "#### Q. 4. Build a ANN model from scratch to recognize Iris-setosa, Iris -virginica and Iris-versicolor from the Iris Dataset ((Use Sklearn Dataset) which contains four features (length and width of sepals and petals) of 50 samples of three species of Iris (Iris setosa, Iris virginica and Iris versicolor. For implementation, use Stochastic gradient descent algorithm to learn model with parameters for α = 0.01and random parameters of the ANN model for the Softmax loss function \n",
    "- (i)Visualize data by boxplot of Sepal Length & Sepal width and Petal Length and width for three IRIS\n",
    "species. \n",
    "- (ii) Plot comparative loss curve for at least 200 epochs.\n",
    "- (iii) Print confusion matrix, calculate classification metrics such as precision, recall, f1-score and accuracy and ROUC curve\n",
    "- (iv) Visualize classified data by Scatter plot\n",
    "- (v) Print confusion matrix, calculate classification metrics such as precision, recall, f1-score and accuracy and ROUC curve for each loss function.\n",
    "- (vi) Repeat part (ii) to (v) using Adam gradient descent algorithm\n",
    "- (vii) Implement above ANN model with Keras Library and verify the above results. "
   ]
  },
  {
   "cell_type": "code",
   "execution_count": 1,
   "metadata": {},
   "outputs": [],
   "source": [
    "#Importing required Libraries\n",
    "\n",
    "import numpy as np\n",
    "import matplotlib.pyplot as plt\n",
    "import tqdm.notebook as tqdm\n",
    "import pandas as pd\n",
    "import tensorflow.keras as keras"
   ]
  },
  {
   "cell_type": "code",
   "execution_count": 2,
   "metadata": {},
   "outputs": [],
   "source": [
    "#Defining required Functions\n",
    "\n",
    "def softmax(Input, Derivative = False , dE = None):\n",
    "    \n",
    "    if(Derivative):\n",
    "        Soft = np.array([softmax(Input)])\n",
    "        der = Soft*(np.identity(len(Input)) - np.transpose(Soft))\n",
    "        output = np.matmul(np.array([dE]),der)[0]\n",
    "        return output\n",
    "    else:\n",
    "        Input = np.array(Input)\n",
    "        Numerator = np.exp(Input)\n",
    "        output = Numerator/sum(Numerator)\n",
    "        return (output)\n",
    "\n",
    "def sigmoid_activation(Input, Derivative = False , dE = None):\n",
    "    if(Derivative):\n",
    "        S = sigmoid_activation(Input)\n",
    "        out = S*(1-S) * dE\n",
    "        \n",
    "        if(np.isnan(dE).any() or np.isnan(S).any() or np.isnan(out).any() ):\n",
    "            print(\"Debug Logs:\")\n",
    "            print(\"dE = \",dE)\n",
    "            print(\"S = \",S)\n",
    "            print(\"out = \",out)  \n",
    "            raise Exception(\"Nan detected!\")\n",
    "            \n",
    "        return(out)\n",
    "    else:\n",
    "        if(Input>15): Input = 15\n",
    "        output = 1/(np.exp(-1 * Input)+1)\n",
    "        return(output)\n",
    "\n",
    "def Leaky_ReLU(Input, Derivative = False , dE = None):\n",
    "    if(Derivative):\n",
    "        \n",
    "        if(np.isnan(dE).any()):\n",
    "            print(\"Logs: dE = \",dE)\n",
    "            raise Exception(\"Nan detected!\")\n",
    "            \n",
    "        if dE>0:\n",
    "            return dE\n",
    "        else:\n",
    "            return dE*0.1\n",
    "    else:\n",
    "        if Input>0:\n",
    "            return Input\n",
    "        else: \n",
    "            return 0.1*Input\n",
    "\n",
    "def neuron_forward(X,Params,layer_activation):\n",
    "    W,B = Params\n",
    "    out = np.dot(X,W) + B\n",
    "    activated = layer_activation(out)\n",
    "        \n",
    "    return activated\n",
    "\n",
    "def neuron_backward(dE,X,Params,layer_activation):\n",
    "    W,B = Params\n",
    "    dE = layer_activation(np.dot(X,W) + B,Derivative = True,dE = dE)\n",
    "    dW = np.array(dE)*X\n",
    "    dB = dE\n",
    "        \n",
    "    W = W - dW\n",
    "    B = B - dB\n",
    "    dX = np.array(dE)*W       \n",
    "    return (W,B),(dX)\n",
    "\n",
    "def add_dense_layer(N_Neurons, Model = [], input_size = None ):\n",
    "    \n",
    "    if(input_size==None):\n",
    "        input_size = len(Model[-1])\n",
    "        \n",
    "    new_layer = []\n",
    "    for i in range(N_Neurons):\n",
    "        new_layer = new_layer + [(np.random.rand(input_size)/input_size,np.random.rand())]\n",
    "    Model = Model + [new_layer]\n",
    "    \n",
    "    return Model\n",
    "\n",
    "def Forward_propogation(Model , X ,layer_activation = sigmoid_activation, Activation = softmax):\n",
    "    All_outputs = [X]\n",
    "    for layer in Model:\n",
    "        Layer_output = []\n",
    "        for neuron in layer:\n",
    "            Layer_output = Layer_output + [neuron_forward(All_outputs[-1],neuron,layer_activation)]\n",
    "        All_outputs = All_outputs + [Layer_output]\n",
    "        \n",
    "    if(Activation != None):\n",
    "        All_outputs = All_outputs + [Activation(All_outputs[-1])]\n",
    "    else:\n",
    "        All_outputs = All_outputs + [All_outputs[-1]]\n",
    "        \n",
    "    return All_outputs\n",
    "        \n",
    "def Back_propogation(Model,Outputs,Error,layer_activation = sigmoid_activation, Activation = softmax):\n",
    "    if(Activation != None):\n",
    "        Error = Activation(Outputs[-1], Derivative = True , dE = Error)\n",
    "        \n",
    "    n_layers = len(Model)\n",
    "    Input_errors = np.array(Error)\n",
    "    \n",
    "    for i in range(n_layers):\n",
    "        Out_Error = 0\n",
    "\n",
    "        for j in range(len(Model[n_layers - i -1])):\n",
    "            Model[n_layers - i -1][j] , dX = neuron_backward(Input_errors[j],Outputs[n_layers - i -1],Model[n_layers - i -1][j],layer_activation)\n",
    "            Out_Error = Out_Error + dX\n",
    "\n",
    "        Input_errors = Out_Error.copy()\n",
    "    \n",
    "    return Model\n",
    "\n",
    "def display_weights(Model):\n",
    "    print(\"\\n**************** Model Structure ******************\")\n",
    "    for i,layer in enumerate(Model):\n",
    "        print(\"\\n--------Layer {}---------\".format(i+1))\n",
    "        for node in layer:\n",
    "            print(node)\n",
    "    print(\"*********************************************\\n\")\n",
    "    \n",
    "def Accuracy(A,B):\n",
    "    out = np.mean(A == B)\n",
    "    return out"
   ]
  },
  {
   "cell_type": "code",
   "execution_count": 3,
   "metadata": {},
   "outputs": [],
   "source": [
    "from sklearn.datasets import load_iris\n",
    "data = load_iris()"
   ]
  },
  {
   "cell_type": "code",
   "execution_count": 4,
   "metadata": {},
   "outputs": [],
   "source": [
    "X_train = data['data']\n",
    "Y_train = data['target']\n",
    "col_names = data['target_names']"
   ]
  },
  {
   "cell_type": "code",
   "execution_count": 5,
   "metadata": {},
   "outputs": [],
   "source": [
    "#Defining the model\n",
    "\n",
    "Model = add_dense_layer(5,input_size =4)\n",
    "Model = add_dense_layer(5,Model)\n",
    "Model = add_dense_layer(3,Model)"
   ]
  },
  {
   "cell_type": "code",
   "execution_count": 6,
   "metadata": {
    "scrolled": false
   },
   "outputs": [
    {
     "data": {
      "application/vnd.jupyter.widget-view+json": {
       "model_id": "6243f0b2d765483bb4ee46ef4f16e01e",
       "version_major": 2,
       "version_minor": 0
      },
      "text/plain": [
       "HBox(children=(HTML(value='Epochs'), FloatProgress(value=0.0, max=200.0), HTML(value='')))"
      ]
     },
     "metadata": {},
     "output_type": "display_data"
    },
    {
     "data": {
      "application/vnd.jupyter.widget-view+json": {
       "model_id": "",
       "version_major": 2,
       "version_minor": 0
      },
      "text/plain": [
       "HBox(children=(HTML(value='Input Images'), FloatProgress(value=0.0, max=150.0), HTML(value='')))"
      ]
     },
     "metadata": {},
     "output_type": "display_data"
    },
    {
     "data": {
      "application/vnd.jupyter.widget-view+json": {
       "model_id": "",
       "version_major": 2,
       "version_minor": 0
      },
      "text/plain": [
       "HBox(children=(HTML(value='Input Images'), FloatProgress(value=0.0, max=150.0), HTML(value='')))"
      ]
     },
     "metadata": {},
     "output_type": "display_data"
    },
    {
     "data": {
      "application/vnd.jupyter.widget-view+json": {
       "model_id": "",
       "version_major": 2,
       "version_minor": 0
      },
      "text/plain": [
       "HBox(children=(HTML(value='Input Images'), FloatProgress(value=0.0, max=150.0), HTML(value='')))"
      ]
     },
     "metadata": {},
     "output_type": "display_data"
    },
    {
     "data": {
      "application/vnd.jupyter.widget-view+json": {
       "model_id": "",
       "version_major": 2,
       "version_minor": 0
      },
      "text/plain": [
       "HBox(children=(HTML(value='Input Images'), FloatProgress(value=0.0, max=150.0), HTML(value='')))"
      ]
     },
     "metadata": {},
     "output_type": "display_data"
    },
    {
     "data": {
      "application/vnd.jupyter.widget-view+json": {
       "model_id": "",
       "version_major": 2,
       "version_minor": 0
      },
      "text/plain": [
       "HBox(children=(HTML(value='Input Images'), FloatProgress(value=0.0, max=150.0), HTML(value='')))"
      ]
     },
     "metadata": {},
     "output_type": "display_data"
    },
    {
     "data": {
      "application/vnd.jupyter.widget-view+json": {
       "model_id": "",
       "version_major": 2,
       "version_minor": 0
      },
      "text/plain": [
       "HBox(children=(HTML(value='Input Images'), FloatProgress(value=0.0, max=150.0), HTML(value='')))"
      ]
     },
     "metadata": {},
     "output_type": "display_data"
    },
    {
     "data": {
      "application/vnd.jupyter.widget-view+json": {
       "model_id": "",
       "version_major": 2,
       "version_minor": 0
      },
      "text/plain": [
       "HBox(children=(HTML(value='Input Images'), FloatProgress(value=0.0, max=150.0), HTML(value='')))"
      ]
     },
     "metadata": {},
     "output_type": "display_data"
    },
    {
     "data": {
      "application/vnd.jupyter.widget-view+json": {
       "model_id": "",
       "version_major": 2,
       "version_minor": 0
      },
      "text/plain": [
       "HBox(children=(HTML(value='Input Images'), FloatProgress(value=0.0, max=150.0), HTML(value='')))"
      ]
     },
     "metadata": {},
     "output_type": "display_data"
    },
    {
     "data": {
      "application/vnd.jupyter.widget-view+json": {
       "model_id": "",
       "version_major": 2,
       "version_minor": 0
      },
      "text/plain": [
       "HBox(children=(HTML(value='Input Images'), FloatProgress(value=0.0, max=150.0), HTML(value='')))"
      ]
     },
     "metadata": {},
     "output_type": "display_data"
    },
    {
     "data": {
      "application/vnd.jupyter.widget-view+json": {
       "model_id": "",
       "version_major": 2,
       "version_minor": 0
      },
      "text/plain": [
       "HBox(children=(HTML(value='Input Images'), FloatProgress(value=0.0, max=150.0), HTML(value='')))"
      ]
     },
     "metadata": {},
     "output_type": "display_data"
    },
    {
     "data": {
      "application/vnd.jupyter.widget-view+json": {
       "model_id": "",
       "version_major": 2,
       "version_minor": 0
      },
      "text/plain": [
       "HBox(children=(HTML(value='Input Images'), FloatProgress(value=0.0, max=150.0), HTML(value='')))"
      ]
     },
     "metadata": {},
     "output_type": "display_data"
    },
    {
     "data": {
      "application/vnd.jupyter.widget-view+json": {
       "model_id": "",
       "version_major": 2,
       "version_minor": 0
      },
      "text/plain": [
       "HBox(children=(HTML(value='Input Images'), FloatProgress(value=0.0, max=150.0), HTML(value='')))"
      ]
     },
     "metadata": {},
     "output_type": "display_data"
    },
    {
     "data": {
      "application/vnd.jupyter.widget-view+json": {
       "model_id": "",
       "version_major": 2,
       "version_minor": 0
      },
      "text/plain": [
       "HBox(children=(HTML(value='Input Images'), FloatProgress(value=0.0, max=150.0), HTML(value='')))"
      ]
     },
     "metadata": {},
     "output_type": "display_data"
    },
    {
     "data": {
      "application/vnd.jupyter.widget-view+json": {
       "model_id": "",
       "version_major": 2,
       "version_minor": 0
      },
      "text/plain": [
       "HBox(children=(HTML(value='Input Images'), FloatProgress(value=0.0, max=150.0), HTML(value='')))"
      ]
     },
     "metadata": {},
     "output_type": "display_data"
    },
    {
     "data": {
      "application/vnd.jupyter.widget-view+json": {
       "model_id": "",
       "version_major": 2,
       "version_minor": 0
      },
      "text/plain": [
       "HBox(children=(HTML(value='Input Images'), FloatProgress(value=0.0, max=150.0), HTML(value='')))"
      ]
     },
     "metadata": {},
     "output_type": "display_data"
    },
    {
     "data": {
      "application/vnd.jupyter.widget-view+json": {
       "model_id": "",
       "version_major": 2,
       "version_minor": 0
      },
      "text/plain": [
       "HBox(children=(HTML(value='Input Images'), FloatProgress(value=0.0, max=150.0), HTML(value='')))"
      ]
     },
     "metadata": {},
     "output_type": "display_data"
    },
    {
     "data": {
      "application/vnd.jupyter.widget-view+json": {
       "model_id": "",
       "version_major": 2,
       "version_minor": 0
      },
      "text/plain": [
       "HBox(children=(HTML(value='Input Images'), FloatProgress(value=0.0, max=150.0), HTML(value='')))"
      ]
     },
     "metadata": {},
     "output_type": "display_data"
    },
    {
     "data": {
      "application/vnd.jupyter.widget-view+json": {
       "model_id": "",
       "version_major": 2,
       "version_minor": 0
      },
      "text/plain": [
       "HBox(children=(HTML(value='Input Images'), FloatProgress(value=0.0, max=150.0), HTML(value='')))"
      ]
     },
     "metadata": {},
     "output_type": "display_data"
    },
    {
     "data": {
      "application/vnd.jupyter.widget-view+json": {
       "model_id": "",
       "version_major": 2,
       "version_minor": 0
      },
      "text/plain": [
       "HBox(children=(HTML(value='Input Images'), FloatProgress(value=0.0, max=150.0), HTML(value='')))"
      ]
     },
     "metadata": {},
     "output_type": "display_data"
    },
    {
     "data": {
      "application/vnd.jupyter.widget-view+json": {
       "model_id": "",
       "version_major": 2,
       "version_minor": 0
      },
      "text/plain": [
       "HBox(children=(HTML(value='Input Images'), FloatProgress(value=0.0, max=150.0), HTML(value='')))"
      ]
     },
     "metadata": {},
     "output_type": "display_data"
    },
    {
     "data": {
      "application/vnd.jupyter.widget-view+json": {
       "model_id": "",
       "version_major": 2,
       "version_minor": 0
      },
      "text/plain": [
       "HBox(children=(HTML(value='Input Images'), FloatProgress(value=0.0, max=150.0), HTML(value='')))"
      ]
     },
     "metadata": {},
     "output_type": "display_data"
    },
    {
     "data": {
      "application/vnd.jupyter.widget-view+json": {
       "model_id": "",
       "version_major": 2,
       "version_minor": 0
      },
      "text/plain": [
       "HBox(children=(HTML(value='Input Images'), FloatProgress(value=0.0, max=150.0), HTML(value='')))"
      ]
     },
     "metadata": {},
     "output_type": "display_data"
    },
    {
     "data": {
      "application/vnd.jupyter.widget-view+json": {
       "model_id": "",
       "version_major": 2,
       "version_minor": 0
      },
      "text/plain": [
       "HBox(children=(HTML(value='Input Images'), FloatProgress(value=0.0, max=150.0), HTML(value='')))"
      ]
     },
     "metadata": {},
     "output_type": "display_data"
    },
    {
     "data": {
      "application/vnd.jupyter.widget-view+json": {
       "model_id": "",
       "version_major": 2,
       "version_minor": 0
      },
      "text/plain": [
       "HBox(children=(HTML(value='Input Images'), FloatProgress(value=0.0, max=150.0), HTML(value='')))"
      ]
     },
     "metadata": {},
     "output_type": "display_data"
    },
    {
     "data": {
      "application/vnd.jupyter.widget-view+json": {
       "model_id": "",
       "version_major": 2,
       "version_minor": 0
      },
      "text/plain": [
       "HBox(children=(HTML(value='Input Images'), FloatProgress(value=0.0, max=150.0), HTML(value='')))"
      ]
     },
     "metadata": {},
     "output_type": "display_data"
    },
    {
     "data": {
      "application/vnd.jupyter.widget-view+json": {
       "model_id": "",
       "version_major": 2,
       "version_minor": 0
      },
      "text/plain": [
       "HBox(children=(HTML(value='Input Images'), FloatProgress(value=0.0, max=150.0), HTML(value='')))"
      ]
     },
     "metadata": {},
     "output_type": "display_data"
    },
    {
     "data": {
      "application/vnd.jupyter.widget-view+json": {
       "model_id": "",
       "version_major": 2,
       "version_minor": 0
      },
      "text/plain": [
       "HBox(children=(HTML(value='Input Images'), FloatProgress(value=0.0, max=150.0), HTML(value='')))"
      ]
     },
     "metadata": {},
     "output_type": "display_data"
    },
    {
     "data": {
      "application/vnd.jupyter.widget-view+json": {
       "model_id": "",
       "version_major": 2,
       "version_minor": 0
      },
      "text/plain": [
       "HBox(children=(HTML(value='Input Images'), FloatProgress(value=0.0, max=150.0), HTML(value='')))"
      ]
     },
     "metadata": {},
     "output_type": "display_data"
    },
    {
     "data": {
      "application/vnd.jupyter.widget-view+json": {
       "model_id": "",
       "version_major": 2,
       "version_minor": 0
      },
      "text/plain": [
       "HBox(children=(HTML(value='Input Images'), FloatProgress(value=0.0, max=150.0), HTML(value='')))"
      ]
     },
     "metadata": {},
     "output_type": "display_data"
    },
    {
     "data": {
      "application/vnd.jupyter.widget-view+json": {
       "model_id": "",
       "version_major": 2,
       "version_minor": 0
      },
      "text/plain": [
       "HBox(children=(HTML(value='Input Images'), FloatProgress(value=0.0, max=150.0), HTML(value='')))"
      ]
     },
     "metadata": {},
     "output_type": "display_data"
    },
    {
     "data": {
      "application/vnd.jupyter.widget-view+json": {
       "model_id": "",
       "version_major": 2,
       "version_minor": 0
      },
      "text/plain": [
       "HBox(children=(HTML(value='Input Images'), FloatProgress(value=0.0, max=150.0), HTML(value='')))"
      ]
     },
     "metadata": {},
     "output_type": "display_data"
    },
    {
     "data": {
      "application/vnd.jupyter.widget-view+json": {
       "model_id": "",
       "version_major": 2,
       "version_minor": 0
      },
      "text/plain": [
       "HBox(children=(HTML(value='Input Images'), FloatProgress(value=0.0, max=150.0), HTML(value='')))"
      ]
     },
     "metadata": {},
     "output_type": "display_data"
    },
    {
     "data": {
      "application/vnd.jupyter.widget-view+json": {
       "model_id": "",
       "version_major": 2,
       "version_minor": 0
      },
      "text/plain": [
       "HBox(children=(HTML(value='Input Images'), FloatProgress(value=0.0, max=150.0), HTML(value='')))"
      ]
     },
     "metadata": {},
     "output_type": "display_data"
    },
    {
     "data": {
      "application/vnd.jupyter.widget-view+json": {
       "model_id": "",
       "version_major": 2,
       "version_minor": 0
      },
      "text/plain": [
       "HBox(children=(HTML(value='Input Images'), FloatProgress(value=0.0, max=150.0), HTML(value='')))"
      ]
     },
     "metadata": {},
     "output_type": "display_data"
    },
    {
     "data": {
      "application/vnd.jupyter.widget-view+json": {
       "model_id": "",
       "version_major": 2,
       "version_minor": 0
      },
      "text/plain": [
       "HBox(children=(HTML(value='Input Images'), FloatProgress(value=0.0, max=150.0), HTML(value='')))"
      ]
     },
     "metadata": {},
     "output_type": "display_data"
    },
    {
     "data": {
      "application/vnd.jupyter.widget-view+json": {
       "model_id": "",
       "version_major": 2,
       "version_minor": 0
      },
      "text/plain": [
       "HBox(children=(HTML(value='Input Images'), FloatProgress(value=0.0, max=150.0), HTML(value='')))"
      ]
     },
     "metadata": {},
     "output_type": "display_data"
    },
    {
     "data": {
      "application/vnd.jupyter.widget-view+json": {
       "model_id": "",
       "version_major": 2,
       "version_minor": 0
      },
      "text/plain": [
       "HBox(children=(HTML(value='Input Images'), FloatProgress(value=0.0, max=150.0), HTML(value='')))"
      ]
     },
     "metadata": {},
     "output_type": "display_data"
    },
    {
     "data": {
      "application/vnd.jupyter.widget-view+json": {
       "model_id": "",
       "version_major": 2,
       "version_minor": 0
      },
      "text/plain": [
       "HBox(children=(HTML(value='Input Images'), FloatProgress(value=0.0, max=150.0), HTML(value='')))"
      ]
     },
     "metadata": {},
     "output_type": "display_data"
    },
    {
     "data": {
      "application/vnd.jupyter.widget-view+json": {
       "model_id": "",
       "version_major": 2,
       "version_minor": 0
      },
      "text/plain": [
       "HBox(children=(HTML(value='Input Images'), FloatProgress(value=0.0, max=150.0), HTML(value='')))"
      ]
     },
     "metadata": {},
     "output_type": "display_data"
    },
    {
     "data": {
      "application/vnd.jupyter.widget-view+json": {
       "model_id": "",
       "version_major": 2,
       "version_minor": 0
      },
      "text/plain": [
       "HBox(children=(HTML(value='Input Images'), FloatProgress(value=0.0, max=150.0), HTML(value='')))"
      ]
     },
     "metadata": {},
     "output_type": "display_data"
    },
    {
     "data": {
      "application/vnd.jupyter.widget-view+json": {
       "model_id": "",
       "version_major": 2,
       "version_minor": 0
      },
      "text/plain": [
       "HBox(children=(HTML(value='Input Images'), FloatProgress(value=0.0, max=150.0), HTML(value='')))"
      ]
     },
     "metadata": {},
     "output_type": "display_data"
    },
    {
     "data": {
      "application/vnd.jupyter.widget-view+json": {
       "model_id": "",
       "version_major": 2,
       "version_minor": 0
      },
      "text/plain": [
       "HBox(children=(HTML(value='Input Images'), FloatProgress(value=0.0, max=150.0), HTML(value='')))"
      ]
     },
     "metadata": {},
     "output_type": "display_data"
    },
    {
     "data": {
      "application/vnd.jupyter.widget-view+json": {
       "model_id": "",
       "version_major": 2,
       "version_minor": 0
      },
      "text/plain": [
       "HBox(children=(HTML(value='Input Images'), FloatProgress(value=0.0, max=150.0), HTML(value='')))"
      ]
     },
     "metadata": {},
     "output_type": "display_data"
    },
    {
     "data": {
      "application/vnd.jupyter.widget-view+json": {
       "model_id": "",
       "version_major": 2,
       "version_minor": 0
      },
      "text/plain": [
       "HBox(children=(HTML(value='Input Images'), FloatProgress(value=0.0, max=150.0), HTML(value='')))"
      ]
     },
     "metadata": {},
     "output_type": "display_data"
    },
    {
     "data": {
      "application/vnd.jupyter.widget-view+json": {
       "model_id": "",
       "version_major": 2,
       "version_minor": 0
      },
      "text/plain": [
       "HBox(children=(HTML(value='Input Images'), FloatProgress(value=0.0, max=150.0), HTML(value='')))"
      ]
     },
     "metadata": {},
     "output_type": "display_data"
    },
    {
     "data": {
      "application/vnd.jupyter.widget-view+json": {
       "model_id": "",
       "version_major": 2,
       "version_minor": 0
      },
      "text/plain": [
       "HBox(children=(HTML(value='Input Images'), FloatProgress(value=0.0, max=150.0), HTML(value='')))"
      ]
     },
     "metadata": {},
     "output_type": "display_data"
    },
    {
     "data": {
      "application/vnd.jupyter.widget-view+json": {
       "model_id": "",
       "version_major": 2,
       "version_minor": 0
      },
      "text/plain": [
       "HBox(children=(HTML(value='Input Images'), FloatProgress(value=0.0, max=150.0), HTML(value='')))"
      ]
     },
     "metadata": {},
     "output_type": "display_data"
    },
    {
     "data": {
      "application/vnd.jupyter.widget-view+json": {
       "model_id": "",
       "version_major": 2,
       "version_minor": 0
      },
      "text/plain": [
       "HBox(children=(HTML(value='Input Images'), FloatProgress(value=0.0, max=150.0), HTML(value='')))"
      ]
     },
     "metadata": {},
     "output_type": "display_data"
    },
    {
     "data": {
      "application/vnd.jupyter.widget-view+json": {
       "model_id": "",
       "version_major": 2,
       "version_minor": 0
      },
      "text/plain": [
       "HBox(children=(HTML(value='Input Images'), FloatProgress(value=0.0, max=150.0), HTML(value='')))"
      ]
     },
     "metadata": {},
     "output_type": "display_data"
    },
    {
     "data": {
      "application/vnd.jupyter.widget-view+json": {
       "model_id": "",
       "version_major": 2,
       "version_minor": 0
      },
      "text/plain": [
       "HBox(children=(HTML(value='Input Images'), FloatProgress(value=0.0, max=150.0), HTML(value='')))"
      ]
     },
     "metadata": {},
     "output_type": "display_data"
    },
    {
     "data": {
      "application/vnd.jupyter.widget-view+json": {
       "model_id": "",
       "version_major": 2,
       "version_minor": 0
      },
      "text/plain": [
       "HBox(children=(HTML(value='Input Images'), FloatProgress(value=0.0, max=150.0), HTML(value='')))"
      ]
     },
     "metadata": {},
     "output_type": "display_data"
    },
    {
     "data": {
      "application/vnd.jupyter.widget-view+json": {
       "model_id": "",
       "version_major": 2,
       "version_minor": 0
      },
      "text/plain": [
       "HBox(children=(HTML(value='Input Images'), FloatProgress(value=0.0, max=150.0), HTML(value='')))"
      ]
     },
     "metadata": {},
     "output_type": "display_data"
    },
    {
     "data": {
      "application/vnd.jupyter.widget-view+json": {
       "model_id": "",
       "version_major": 2,
       "version_minor": 0
      },
      "text/plain": [
       "HBox(children=(HTML(value='Input Images'), FloatProgress(value=0.0, max=150.0), HTML(value='')))"
      ]
     },
     "metadata": {},
     "output_type": "display_data"
    },
    {
     "data": {
      "application/vnd.jupyter.widget-view+json": {
       "model_id": "",
       "version_major": 2,
       "version_minor": 0
      },
      "text/plain": [
       "HBox(children=(HTML(value='Input Images'), FloatProgress(value=0.0, max=150.0), HTML(value='')))"
      ]
     },
     "metadata": {},
     "output_type": "display_data"
    },
    {
     "data": {
      "application/vnd.jupyter.widget-view+json": {
       "model_id": "",
       "version_major": 2,
       "version_minor": 0
      },
      "text/plain": [
       "HBox(children=(HTML(value='Input Images'), FloatProgress(value=0.0, max=150.0), HTML(value='')))"
      ]
     },
     "metadata": {},
     "output_type": "display_data"
    },
    {
     "data": {
      "application/vnd.jupyter.widget-view+json": {
       "model_id": "",
       "version_major": 2,
       "version_minor": 0
      },
      "text/plain": [
       "HBox(children=(HTML(value='Input Images'), FloatProgress(value=0.0, max=150.0), HTML(value='')))"
      ]
     },
     "metadata": {},
     "output_type": "display_data"
    },
    {
     "data": {
      "application/vnd.jupyter.widget-view+json": {
       "model_id": "",
       "version_major": 2,
       "version_minor": 0
      },
      "text/plain": [
       "HBox(children=(HTML(value='Input Images'), FloatProgress(value=0.0, max=150.0), HTML(value='')))"
      ]
     },
     "metadata": {},
     "output_type": "display_data"
    },
    {
     "data": {
      "application/vnd.jupyter.widget-view+json": {
       "model_id": "",
       "version_major": 2,
       "version_minor": 0
      },
      "text/plain": [
       "HBox(children=(HTML(value='Input Images'), FloatProgress(value=0.0, max=150.0), HTML(value='')))"
      ]
     },
     "metadata": {},
     "output_type": "display_data"
    },
    {
     "data": {
      "application/vnd.jupyter.widget-view+json": {
       "model_id": "",
       "version_major": 2,
       "version_minor": 0
      },
      "text/plain": [
       "HBox(children=(HTML(value='Input Images'), FloatProgress(value=0.0, max=150.0), HTML(value='')))"
      ]
     },
     "metadata": {},
     "output_type": "display_data"
    },
    {
     "data": {
      "application/vnd.jupyter.widget-view+json": {
       "model_id": "",
       "version_major": 2,
       "version_minor": 0
      },
      "text/plain": [
       "HBox(children=(HTML(value='Input Images'), FloatProgress(value=0.0, max=150.0), HTML(value='')))"
      ]
     },
     "metadata": {},
     "output_type": "display_data"
    },
    {
     "data": {
      "application/vnd.jupyter.widget-view+json": {
       "model_id": "",
       "version_major": 2,
       "version_minor": 0
      },
      "text/plain": [
       "HBox(children=(HTML(value='Input Images'), FloatProgress(value=0.0, max=150.0), HTML(value='')))"
      ]
     },
     "metadata": {},
     "output_type": "display_data"
    },
    {
     "data": {
      "application/vnd.jupyter.widget-view+json": {
       "model_id": "",
       "version_major": 2,
       "version_minor": 0
      },
      "text/plain": [
       "HBox(children=(HTML(value='Input Images'), FloatProgress(value=0.0, max=150.0), HTML(value='')))"
      ]
     },
     "metadata": {},
     "output_type": "display_data"
    },
    {
     "data": {
      "application/vnd.jupyter.widget-view+json": {
       "model_id": "",
       "version_major": 2,
       "version_minor": 0
      },
      "text/plain": [
       "HBox(children=(HTML(value='Input Images'), FloatProgress(value=0.0, max=150.0), HTML(value='')))"
      ]
     },
     "metadata": {},
     "output_type": "display_data"
    },
    {
     "data": {
      "application/vnd.jupyter.widget-view+json": {
       "model_id": "",
       "version_major": 2,
       "version_minor": 0
      },
      "text/plain": [
       "HBox(children=(HTML(value='Input Images'), FloatProgress(value=0.0, max=150.0), HTML(value='')))"
      ]
     },
     "metadata": {},
     "output_type": "display_data"
    },
    {
     "data": {
      "application/vnd.jupyter.widget-view+json": {
       "model_id": "",
       "version_major": 2,
       "version_minor": 0
      },
      "text/plain": [
       "HBox(children=(HTML(value='Input Images'), FloatProgress(value=0.0, max=150.0), HTML(value='')))"
      ]
     },
     "metadata": {},
     "output_type": "display_data"
    },
    {
     "data": {
      "application/vnd.jupyter.widget-view+json": {
       "model_id": "",
       "version_major": 2,
       "version_minor": 0
      },
      "text/plain": [
       "HBox(children=(HTML(value='Input Images'), FloatProgress(value=0.0, max=150.0), HTML(value='')))"
      ]
     },
     "metadata": {},
     "output_type": "display_data"
    },
    {
     "data": {
      "application/vnd.jupyter.widget-view+json": {
       "model_id": "",
       "version_major": 2,
       "version_minor": 0
      },
      "text/plain": [
       "HBox(children=(HTML(value='Input Images'), FloatProgress(value=0.0, max=150.0), HTML(value='')))"
      ]
     },
     "metadata": {},
     "output_type": "display_data"
    },
    {
     "data": {
      "application/vnd.jupyter.widget-view+json": {
       "model_id": "",
       "version_major": 2,
       "version_minor": 0
      },
      "text/plain": [
       "HBox(children=(HTML(value='Input Images'), FloatProgress(value=0.0, max=150.0), HTML(value='')))"
      ]
     },
     "metadata": {},
     "output_type": "display_data"
    },
    {
     "data": {
      "application/vnd.jupyter.widget-view+json": {
       "model_id": "",
       "version_major": 2,
       "version_minor": 0
      },
      "text/plain": [
       "HBox(children=(HTML(value='Input Images'), FloatProgress(value=0.0, max=150.0), HTML(value='')))"
      ]
     },
     "metadata": {},
     "output_type": "display_data"
    },
    {
     "data": {
      "application/vnd.jupyter.widget-view+json": {
       "model_id": "",
       "version_major": 2,
       "version_minor": 0
      },
      "text/plain": [
       "HBox(children=(HTML(value='Input Images'), FloatProgress(value=0.0, max=150.0), HTML(value='')))"
      ]
     },
     "metadata": {},
     "output_type": "display_data"
    },
    {
     "data": {
      "application/vnd.jupyter.widget-view+json": {
       "model_id": "",
       "version_major": 2,
       "version_minor": 0
      },
      "text/plain": [
       "HBox(children=(HTML(value='Input Images'), FloatProgress(value=0.0, max=150.0), HTML(value='')))"
      ]
     },
     "metadata": {},
     "output_type": "display_data"
    },
    {
     "data": {
      "application/vnd.jupyter.widget-view+json": {
       "model_id": "",
       "version_major": 2,
       "version_minor": 0
      },
      "text/plain": [
       "HBox(children=(HTML(value='Input Images'), FloatProgress(value=0.0, max=150.0), HTML(value='')))"
      ]
     },
     "metadata": {},
     "output_type": "display_data"
    },
    {
     "data": {
      "application/vnd.jupyter.widget-view+json": {
       "model_id": "",
       "version_major": 2,
       "version_minor": 0
      },
      "text/plain": [
       "HBox(children=(HTML(value='Input Images'), FloatProgress(value=0.0, max=150.0), HTML(value='')))"
      ]
     },
     "metadata": {},
     "output_type": "display_data"
    },
    {
     "data": {
      "application/vnd.jupyter.widget-view+json": {
       "model_id": "",
       "version_major": 2,
       "version_minor": 0
      },
      "text/plain": [
       "HBox(children=(HTML(value='Input Images'), FloatProgress(value=0.0, max=150.0), HTML(value='')))"
      ]
     },
     "metadata": {},
     "output_type": "display_data"
    },
    {
     "data": {
      "application/vnd.jupyter.widget-view+json": {
       "model_id": "",
       "version_major": 2,
       "version_minor": 0
      },
      "text/plain": [
       "HBox(children=(HTML(value='Input Images'), FloatProgress(value=0.0, max=150.0), HTML(value='')))"
      ]
     },
     "metadata": {},
     "output_type": "display_data"
    },
    {
     "data": {
      "application/vnd.jupyter.widget-view+json": {
       "model_id": "",
       "version_major": 2,
       "version_minor": 0
      },
      "text/plain": [
       "HBox(children=(HTML(value='Input Images'), FloatProgress(value=0.0, max=150.0), HTML(value='')))"
      ]
     },
     "metadata": {},
     "output_type": "display_data"
    },
    {
     "data": {
      "application/vnd.jupyter.widget-view+json": {
       "model_id": "",
       "version_major": 2,
       "version_minor": 0
      },
      "text/plain": [
       "HBox(children=(HTML(value='Input Images'), FloatProgress(value=0.0, max=150.0), HTML(value='')))"
      ]
     },
     "metadata": {},
     "output_type": "display_data"
    },
    {
     "data": {
      "application/vnd.jupyter.widget-view+json": {
       "model_id": "",
       "version_major": 2,
       "version_minor": 0
      },
      "text/plain": [
       "HBox(children=(HTML(value='Input Images'), FloatProgress(value=0.0, max=150.0), HTML(value='')))"
      ]
     },
     "metadata": {},
     "output_type": "display_data"
    },
    {
     "data": {
      "application/vnd.jupyter.widget-view+json": {
       "model_id": "",
       "version_major": 2,
       "version_minor": 0
      },
      "text/plain": [
       "HBox(children=(HTML(value='Input Images'), FloatProgress(value=0.0, max=150.0), HTML(value='')))"
      ]
     },
     "metadata": {},
     "output_type": "display_data"
    },
    {
     "data": {
      "application/vnd.jupyter.widget-view+json": {
       "model_id": "",
       "version_major": 2,
       "version_minor": 0
      },
      "text/plain": [
       "HBox(children=(HTML(value='Input Images'), FloatProgress(value=0.0, max=150.0), HTML(value='')))"
      ]
     },
     "metadata": {},
     "output_type": "display_data"
    },
    {
     "data": {
      "application/vnd.jupyter.widget-view+json": {
       "model_id": "",
       "version_major": 2,
       "version_minor": 0
      },
      "text/plain": [
       "HBox(children=(HTML(value='Input Images'), FloatProgress(value=0.0, max=150.0), HTML(value='')))"
      ]
     },
     "metadata": {},
     "output_type": "display_data"
    },
    {
     "data": {
      "application/vnd.jupyter.widget-view+json": {
       "model_id": "",
       "version_major": 2,
       "version_minor": 0
      },
      "text/plain": [
       "HBox(children=(HTML(value='Input Images'), FloatProgress(value=0.0, max=150.0), HTML(value='')))"
      ]
     },
     "metadata": {},
     "output_type": "display_data"
    },
    {
     "data": {
      "application/vnd.jupyter.widget-view+json": {
       "model_id": "",
       "version_major": 2,
       "version_minor": 0
      },
      "text/plain": [
       "HBox(children=(HTML(value='Input Images'), FloatProgress(value=0.0, max=150.0), HTML(value='')))"
      ]
     },
     "metadata": {},
     "output_type": "display_data"
    },
    {
     "data": {
      "application/vnd.jupyter.widget-view+json": {
       "model_id": "",
       "version_major": 2,
       "version_minor": 0
      },
      "text/plain": [
       "HBox(children=(HTML(value='Input Images'), FloatProgress(value=0.0, max=150.0), HTML(value='')))"
      ]
     },
     "metadata": {},
     "output_type": "display_data"
    },
    {
     "data": {
      "application/vnd.jupyter.widget-view+json": {
       "model_id": "",
       "version_major": 2,
       "version_minor": 0
      },
      "text/plain": [
       "HBox(children=(HTML(value='Input Images'), FloatProgress(value=0.0, max=150.0), HTML(value='')))"
      ]
     },
     "metadata": {},
     "output_type": "display_data"
    },
    {
     "data": {
      "application/vnd.jupyter.widget-view+json": {
       "model_id": "",
       "version_major": 2,
       "version_minor": 0
      },
      "text/plain": [
       "HBox(children=(HTML(value='Input Images'), FloatProgress(value=0.0, max=150.0), HTML(value='')))"
      ]
     },
     "metadata": {},
     "output_type": "display_data"
    },
    {
     "data": {
      "application/vnd.jupyter.widget-view+json": {
       "model_id": "",
       "version_major": 2,
       "version_minor": 0
      },
      "text/plain": [
       "HBox(children=(HTML(value='Input Images'), FloatProgress(value=0.0, max=150.0), HTML(value='')))"
      ]
     },
     "metadata": {},
     "output_type": "display_data"
    },
    {
     "data": {
      "application/vnd.jupyter.widget-view+json": {
       "model_id": "",
       "version_major": 2,
       "version_minor": 0
      },
      "text/plain": [
       "HBox(children=(HTML(value='Input Images'), FloatProgress(value=0.0, max=150.0), HTML(value='')))"
      ]
     },
     "metadata": {},
     "output_type": "display_data"
    },
    {
     "data": {
      "application/vnd.jupyter.widget-view+json": {
       "model_id": "",
       "version_major": 2,
       "version_minor": 0
      },
      "text/plain": [
       "HBox(children=(HTML(value='Input Images'), FloatProgress(value=0.0, max=150.0), HTML(value='')))"
      ]
     },
     "metadata": {},
     "output_type": "display_data"
    },
    {
     "data": {
      "application/vnd.jupyter.widget-view+json": {
       "model_id": "",
       "version_major": 2,
       "version_minor": 0
      },
      "text/plain": [
       "HBox(children=(HTML(value='Input Images'), FloatProgress(value=0.0, max=150.0), HTML(value='')))"
      ]
     },
     "metadata": {},
     "output_type": "display_data"
    },
    {
     "data": {
      "application/vnd.jupyter.widget-view+json": {
       "model_id": "",
       "version_major": 2,
       "version_minor": 0
      },
      "text/plain": [
       "HBox(children=(HTML(value='Input Images'), FloatProgress(value=0.0, max=150.0), HTML(value='')))"
      ]
     },
     "metadata": {},
     "output_type": "display_data"
    },
    {
     "data": {
      "application/vnd.jupyter.widget-view+json": {
       "model_id": "",
       "version_major": 2,
       "version_minor": 0
      },
      "text/plain": [
       "HBox(children=(HTML(value='Input Images'), FloatProgress(value=0.0, max=150.0), HTML(value='')))"
      ]
     },
     "metadata": {},
     "output_type": "display_data"
    },
    {
     "data": {
      "application/vnd.jupyter.widget-view+json": {
       "model_id": "",
       "version_major": 2,
       "version_minor": 0
      },
      "text/plain": [
       "HBox(children=(HTML(value='Input Images'), FloatProgress(value=0.0, max=150.0), HTML(value='')))"
      ]
     },
     "metadata": {},
     "output_type": "display_data"
    },
    {
     "data": {
      "application/vnd.jupyter.widget-view+json": {
       "model_id": "",
       "version_major": 2,
       "version_minor": 0
      },
      "text/plain": [
       "HBox(children=(HTML(value='Input Images'), FloatProgress(value=0.0, max=150.0), HTML(value='')))"
      ]
     },
     "metadata": {},
     "output_type": "display_data"
    },
    {
     "data": {
      "application/vnd.jupyter.widget-view+json": {
       "model_id": "",
       "version_major": 2,
       "version_minor": 0
      },
      "text/plain": [
       "HBox(children=(HTML(value='Input Images'), FloatProgress(value=0.0, max=150.0), HTML(value='')))"
      ]
     },
     "metadata": {},
     "output_type": "display_data"
    },
    {
     "data": {
      "application/vnd.jupyter.widget-view+json": {
       "model_id": "",
       "version_major": 2,
       "version_minor": 0
      },
      "text/plain": [
       "HBox(children=(HTML(value='Input Images'), FloatProgress(value=0.0, max=150.0), HTML(value='')))"
      ]
     },
     "metadata": {},
     "output_type": "display_data"
    },
    {
     "data": {
      "application/vnd.jupyter.widget-view+json": {
       "model_id": "",
       "version_major": 2,
       "version_minor": 0
      },
      "text/plain": [
       "HBox(children=(HTML(value='Input Images'), FloatProgress(value=0.0, max=150.0), HTML(value='')))"
      ]
     },
     "metadata": {},
     "output_type": "display_data"
    },
    {
     "data": {
      "application/vnd.jupyter.widget-view+json": {
       "model_id": "",
       "version_major": 2,
       "version_minor": 0
      },
      "text/plain": [
       "HBox(children=(HTML(value='Input Images'), FloatProgress(value=0.0, max=150.0), HTML(value='')))"
      ]
     },
     "metadata": {},
     "output_type": "display_data"
    },
    {
     "data": {
      "application/vnd.jupyter.widget-view+json": {
       "model_id": "",
       "version_major": 2,
       "version_minor": 0
      },
      "text/plain": [
       "HBox(children=(HTML(value='Input Images'), FloatProgress(value=0.0, max=150.0), HTML(value='')))"
      ]
     },
     "metadata": {},
     "output_type": "display_data"
    },
    {
     "data": {
      "application/vnd.jupyter.widget-view+json": {
       "model_id": "",
       "version_major": 2,
       "version_minor": 0
      },
      "text/plain": [
       "HBox(children=(HTML(value='Input Images'), FloatProgress(value=0.0, max=150.0), HTML(value='')))"
      ]
     },
     "metadata": {},
     "output_type": "display_data"
    },
    {
     "data": {
      "application/vnd.jupyter.widget-view+json": {
       "model_id": "",
       "version_major": 2,
       "version_minor": 0
      },
      "text/plain": [
       "HBox(children=(HTML(value='Input Images'), FloatProgress(value=0.0, max=150.0), HTML(value='')))"
      ]
     },
     "metadata": {},
     "output_type": "display_data"
    },
    {
     "data": {
      "application/vnd.jupyter.widget-view+json": {
       "model_id": "",
       "version_major": 2,
       "version_minor": 0
      },
      "text/plain": [
       "HBox(children=(HTML(value='Input Images'), FloatProgress(value=0.0, max=150.0), HTML(value='')))"
      ]
     },
     "metadata": {},
     "output_type": "display_data"
    },
    {
     "data": {
      "application/vnd.jupyter.widget-view+json": {
       "model_id": "",
       "version_major": 2,
       "version_minor": 0
      },
      "text/plain": [
       "HBox(children=(HTML(value='Input Images'), FloatProgress(value=0.0, max=150.0), HTML(value='')))"
      ]
     },
     "metadata": {},
     "output_type": "display_data"
    },
    {
     "data": {
      "application/vnd.jupyter.widget-view+json": {
       "model_id": "",
       "version_major": 2,
       "version_minor": 0
      },
      "text/plain": [
       "HBox(children=(HTML(value='Input Images'), FloatProgress(value=0.0, max=150.0), HTML(value='')))"
      ]
     },
     "metadata": {},
     "output_type": "display_data"
    },
    {
     "data": {
      "application/vnd.jupyter.widget-view+json": {
       "model_id": "",
       "version_major": 2,
       "version_minor": 0
      },
      "text/plain": [
       "HBox(children=(HTML(value='Input Images'), FloatProgress(value=0.0, max=150.0), HTML(value='')))"
      ]
     },
     "metadata": {},
     "output_type": "display_data"
    },
    {
     "data": {
      "application/vnd.jupyter.widget-view+json": {
       "model_id": "",
       "version_major": 2,
       "version_minor": 0
      },
      "text/plain": [
       "HBox(children=(HTML(value='Input Images'), FloatProgress(value=0.0, max=150.0), HTML(value='')))"
      ]
     },
     "metadata": {},
     "output_type": "display_data"
    },
    {
     "data": {
      "application/vnd.jupyter.widget-view+json": {
       "model_id": "",
       "version_major": 2,
       "version_minor": 0
      },
      "text/plain": [
       "HBox(children=(HTML(value='Input Images'), FloatProgress(value=0.0, max=150.0), HTML(value='')))"
      ]
     },
     "metadata": {},
     "output_type": "display_data"
    },
    {
     "data": {
      "application/vnd.jupyter.widget-view+json": {
       "model_id": "",
       "version_major": 2,
       "version_minor": 0
      },
      "text/plain": [
       "HBox(children=(HTML(value='Input Images'), FloatProgress(value=0.0, max=150.0), HTML(value='')))"
      ]
     },
     "metadata": {},
     "output_type": "display_data"
    },
    {
     "data": {
      "application/vnd.jupyter.widget-view+json": {
       "model_id": "",
       "version_major": 2,
       "version_minor": 0
      },
      "text/plain": [
       "HBox(children=(HTML(value='Input Images'), FloatProgress(value=0.0, max=150.0), HTML(value='')))"
      ]
     },
     "metadata": {},
     "output_type": "display_data"
    },
    {
     "data": {
      "application/vnd.jupyter.widget-view+json": {
       "model_id": "",
       "version_major": 2,
       "version_minor": 0
      },
      "text/plain": [
       "HBox(children=(HTML(value='Input Images'), FloatProgress(value=0.0, max=150.0), HTML(value='')))"
      ]
     },
     "metadata": {},
     "output_type": "display_data"
    },
    {
     "data": {
      "application/vnd.jupyter.widget-view+json": {
       "model_id": "",
       "version_major": 2,
       "version_minor": 0
      },
      "text/plain": [
       "HBox(children=(HTML(value='Input Images'), FloatProgress(value=0.0, max=150.0), HTML(value='')))"
      ]
     },
     "metadata": {},
     "output_type": "display_data"
    },
    {
     "data": {
      "application/vnd.jupyter.widget-view+json": {
       "model_id": "",
       "version_major": 2,
       "version_minor": 0
      },
      "text/plain": [
       "HBox(children=(HTML(value='Input Images'), FloatProgress(value=0.0, max=150.0), HTML(value='')))"
      ]
     },
     "metadata": {},
     "output_type": "display_data"
    },
    {
     "data": {
      "application/vnd.jupyter.widget-view+json": {
       "model_id": "",
       "version_major": 2,
       "version_minor": 0
      },
      "text/plain": [
       "HBox(children=(HTML(value='Input Images'), FloatProgress(value=0.0, max=150.0), HTML(value='')))"
      ]
     },
     "metadata": {},
     "output_type": "display_data"
    },
    {
     "data": {
      "application/vnd.jupyter.widget-view+json": {
       "model_id": "",
       "version_major": 2,
       "version_minor": 0
      },
      "text/plain": [
       "HBox(children=(HTML(value='Input Images'), FloatProgress(value=0.0, max=150.0), HTML(value='')))"
      ]
     },
     "metadata": {},
     "output_type": "display_data"
    },
    {
     "data": {
      "application/vnd.jupyter.widget-view+json": {
       "model_id": "",
       "version_major": 2,
       "version_minor": 0
      },
      "text/plain": [
       "HBox(children=(HTML(value='Input Images'), FloatProgress(value=0.0, max=150.0), HTML(value='')))"
      ]
     },
     "metadata": {},
     "output_type": "display_data"
    },
    {
     "data": {
      "application/vnd.jupyter.widget-view+json": {
       "model_id": "",
       "version_major": 2,
       "version_minor": 0
      },
      "text/plain": [
       "HBox(children=(HTML(value='Input Images'), FloatProgress(value=0.0, max=150.0), HTML(value='')))"
      ]
     },
     "metadata": {},
     "output_type": "display_data"
    },
    {
     "data": {
      "application/vnd.jupyter.widget-view+json": {
       "model_id": "",
       "version_major": 2,
       "version_minor": 0
      },
      "text/plain": [
       "HBox(children=(HTML(value='Input Images'), FloatProgress(value=0.0, max=150.0), HTML(value='')))"
      ]
     },
     "metadata": {},
     "output_type": "display_data"
    },
    {
     "data": {
      "application/vnd.jupyter.widget-view+json": {
       "model_id": "",
       "version_major": 2,
       "version_minor": 0
      },
      "text/plain": [
       "HBox(children=(HTML(value='Input Images'), FloatProgress(value=0.0, max=150.0), HTML(value='')))"
      ]
     },
     "metadata": {},
     "output_type": "display_data"
    },
    {
     "data": {
      "application/vnd.jupyter.widget-view+json": {
       "model_id": "",
       "version_major": 2,
       "version_minor": 0
      },
      "text/plain": [
       "HBox(children=(HTML(value='Input Images'), FloatProgress(value=0.0, max=150.0), HTML(value='')))"
      ]
     },
     "metadata": {},
     "output_type": "display_data"
    },
    {
     "data": {
      "application/vnd.jupyter.widget-view+json": {
       "model_id": "",
       "version_major": 2,
       "version_minor": 0
      },
      "text/plain": [
       "HBox(children=(HTML(value='Input Images'), FloatProgress(value=0.0, max=150.0), HTML(value='')))"
      ]
     },
     "metadata": {},
     "output_type": "display_data"
    },
    {
     "data": {
      "application/vnd.jupyter.widget-view+json": {
       "model_id": "",
       "version_major": 2,
       "version_minor": 0
      },
      "text/plain": [
       "HBox(children=(HTML(value='Input Images'), FloatProgress(value=0.0, max=150.0), HTML(value='')))"
      ]
     },
     "metadata": {},
     "output_type": "display_data"
    },
    {
     "data": {
      "application/vnd.jupyter.widget-view+json": {
       "model_id": "",
       "version_major": 2,
       "version_minor": 0
      },
      "text/plain": [
       "HBox(children=(HTML(value='Input Images'), FloatProgress(value=0.0, max=150.0), HTML(value='')))"
      ]
     },
     "metadata": {},
     "output_type": "display_data"
    },
    {
     "data": {
      "application/vnd.jupyter.widget-view+json": {
       "model_id": "",
       "version_major": 2,
       "version_minor": 0
      },
      "text/plain": [
       "HBox(children=(HTML(value='Input Images'), FloatProgress(value=0.0, max=150.0), HTML(value='')))"
      ]
     },
     "metadata": {},
     "output_type": "display_data"
    },
    {
     "data": {
      "application/vnd.jupyter.widget-view+json": {
       "model_id": "",
       "version_major": 2,
       "version_minor": 0
      },
      "text/plain": [
       "HBox(children=(HTML(value='Input Images'), FloatProgress(value=0.0, max=150.0), HTML(value='')))"
      ]
     },
     "metadata": {},
     "output_type": "display_data"
    },
    {
     "data": {
      "application/vnd.jupyter.widget-view+json": {
       "model_id": "",
       "version_major": 2,
       "version_minor": 0
      },
      "text/plain": [
       "HBox(children=(HTML(value='Input Images'), FloatProgress(value=0.0, max=150.0), HTML(value='')))"
      ]
     },
     "metadata": {},
     "output_type": "display_data"
    },
    {
     "data": {
      "application/vnd.jupyter.widget-view+json": {
       "model_id": "",
       "version_major": 2,
       "version_minor": 0
      },
      "text/plain": [
       "HBox(children=(HTML(value='Input Images'), FloatProgress(value=0.0, max=150.0), HTML(value='')))"
      ]
     },
     "metadata": {},
     "output_type": "display_data"
    },
    {
     "data": {
      "application/vnd.jupyter.widget-view+json": {
       "model_id": "",
       "version_major": 2,
       "version_minor": 0
      },
      "text/plain": [
       "HBox(children=(HTML(value='Input Images'), FloatProgress(value=0.0, max=150.0), HTML(value='')))"
      ]
     },
     "metadata": {},
     "output_type": "display_data"
    },
    {
     "data": {
      "application/vnd.jupyter.widget-view+json": {
       "model_id": "",
       "version_major": 2,
       "version_minor": 0
      },
      "text/plain": [
       "HBox(children=(HTML(value='Input Images'), FloatProgress(value=0.0, max=150.0), HTML(value='')))"
      ]
     },
     "metadata": {},
     "output_type": "display_data"
    },
    {
     "data": {
      "application/vnd.jupyter.widget-view+json": {
       "model_id": "",
       "version_major": 2,
       "version_minor": 0
      },
      "text/plain": [
       "HBox(children=(HTML(value='Input Images'), FloatProgress(value=0.0, max=150.0), HTML(value='')))"
      ]
     },
     "metadata": {},
     "output_type": "display_data"
    },
    {
     "data": {
      "application/vnd.jupyter.widget-view+json": {
       "model_id": "",
       "version_major": 2,
       "version_minor": 0
      },
      "text/plain": [
       "HBox(children=(HTML(value='Input Images'), FloatProgress(value=0.0, max=150.0), HTML(value='')))"
      ]
     },
     "metadata": {},
     "output_type": "display_data"
    },
    {
     "data": {
      "application/vnd.jupyter.widget-view+json": {
       "model_id": "",
       "version_major": 2,
       "version_minor": 0
      },
      "text/plain": [
       "HBox(children=(HTML(value='Input Images'), FloatProgress(value=0.0, max=150.0), HTML(value='')))"
      ]
     },
     "metadata": {},
     "output_type": "display_data"
    },
    {
     "data": {
      "application/vnd.jupyter.widget-view+json": {
       "model_id": "",
       "version_major": 2,
       "version_minor": 0
      },
      "text/plain": [
       "HBox(children=(HTML(value='Input Images'), FloatProgress(value=0.0, max=150.0), HTML(value='')))"
      ]
     },
     "metadata": {},
     "output_type": "display_data"
    },
    {
     "data": {
      "application/vnd.jupyter.widget-view+json": {
       "model_id": "",
       "version_major": 2,
       "version_minor": 0
      },
      "text/plain": [
       "HBox(children=(HTML(value='Input Images'), FloatProgress(value=0.0, max=150.0), HTML(value='')))"
      ]
     },
     "metadata": {},
     "output_type": "display_data"
    },
    {
     "data": {
      "application/vnd.jupyter.widget-view+json": {
       "model_id": "",
       "version_major": 2,
       "version_minor": 0
      },
      "text/plain": [
       "HBox(children=(HTML(value='Input Images'), FloatProgress(value=0.0, max=150.0), HTML(value='')))"
      ]
     },
     "metadata": {},
     "output_type": "display_data"
    },
    {
     "data": {
      "application/vnd.jupyter.widget-view+json": {
       "model_id": "",
       "version_major": 2,
       "version_minor": 0
      },
      "text/plain": [
       "HBox(children=(HTML(value='Input Images'), FloatProgress(value=0.0, max=150.0), HTML(value='')))"
      ]
     },
     "metadata": {},
     "output_type": "display_data"
    },
    {
     "data": {
      "application/vnd.jupyter.widget-view+json": {
       "model_id": "",
       "version_major": 2,
       "version_minor": 0
      },
      "text/plain": [
       "HBox(children=(HTML(value='Input Images'), FloatProgress(value=0.0, max=150.0), HTML(value='')))"
      ]
     },
     "metadata": {},
     "output_type": "display_data"
    },
    {
     "data": {
      "application/vnd.jupyter.widget-view+json": {
       "model_id": "",
       "version_major": 2,
       "version_minor": 0
      },
      "text/plain": [
       "HBox(children=(HTML(value='Input Images'), FloatProgress(value=0.0, max=150.0), HTML(value='')))"
      ]
     },
     "metadata": {},
     "output_type": "display_data"
    },
    {
     "data": {
      "application/vnd.jupyter.widget-view+json": {
       "model_id": "",
       "version_major": 2,
       "version_minor": 0
      },
      "text/plain": [
       "HBox(children=(HTML(value='Input Images'), FloatProgress(value=0.0, max=150.0), HTML(value='')))"
      ]
     },
     "metadata": {},
     "output_type": "display_data"
    },
    {
     "data": {
      "application/vnd.jupyter.widget-view+json": {
       "model_id": "",
       "version_major": 2,
       "version_minor": 0
      },
      "text/plain": [
       "HBox(children=(HTML(value='Input Images'), FloatProgress(value=0.0, max=150.0), HTML(value='')))"
      ]
     },
     "metadata": {},
     "output_type": "display_data"
    },
    {
     "data": {
      "application/vnd.jupyter.widget-view+json": {
       "model_id": "",
       "version_major": 2,
       "version_minor": 0
      },
      "text/plain": [
       "HBox(children=(HTML(value='Input Images'), FloatProgress(value=0.0, max=150.0), HTML(value='')))"
      ]
     },
     "metadata": {},
     "output_type": "display_data"
    },
    {
     "data": {
      "application/vnd.jupyter.widget-view+json": {
       "model_id": "",
       "version_major": 2,
       "version_minor": 0
      },
      "text/plain": [
       "HBox(children=(HTML(value='Input Images'), FloatProgress(value=0.0, max=150.0), HTML(value='')))"
      ]
     },
     "metadata": {},
     "output_type": "display_data"
    },
    {
     "data": {
      "application/vnd.jupyter.widget-view+json": {
       "model_id": "",
       "version_major": 2,
       "version_minor": 0
      },
      "text/plain": [
       "HBox(children=(HTML(value='Input Images'), FloatProgress(value=0.0, max=150.0), HTML(value='')))"
      ]
     },
     "metadata": {},
     "output_type": "display_data"
    },
    {
     "data": {
      "application/vnd.jupyter.widget-view+json": {
       "model_id": "",
       "version_major": 2,
       "version_minor": 0
      },
      "text/plain": [
       "HBox(children=(HTML(value='Input Images'), FloatProgress(value=0.0, max=150.0), HTML(value='')))"
      ]
     },
     "metadata": {},
     "output_type": "display_data"
    },
    {
     "data": {
      "application/vnd.jupyter.widget-view+json": {
       "model_id": "",
       "version_major": 2,
       "version_minor": 0
      },
      "text/plain": [
       "HBox(children=(HTML(value='Input Images'), FloatProgress(value=0.0, max=150.0), HTML(value='')))"
      ]
     },
     "metadata": {},
     "output_type": "display_data"
    },
    {
     "data": {
      "application/vnd.jupyter.widget-view+json": {
       "model_id": "",
       "version_major": 2,
       "version_minor": 0
      },
      "text/plain": [
       "HBox(children=(HTML(value='Input Images'), FloatProgress(value=0.0, max=150.0), HTML(value='')))"
      ]
     },
     "metadata": {},
     "output_type": "display_data"
    },
    {
     "data": {
      "application/vnd.jupyter.widget-view+json": {
       "model_id": "",
       "version_major": 2,
       "version_minor": 0
      },
      "text/plain": [
       "HBox(children=(HTML(value='Input Images'), FloatProgress(value=0.0, max=150.0), HTML(value='')))"
      ]
     },
     "metadata": {},
     "output_type": "display_data"
    },
    {
     "data": {
      "application/vnd.jupyter.widget-view+json": {
       "model_id": "",
       "version_major": 2,
       "version_minor": 0
      },
      "text/plain": [
       "HBox(children=(HTML(value='Input Images'), FloatProgress(value=0.0, max=150.0), HTML(value='')))"
      ]
     },
     "metadata": {},
     "output_type": "display_data"
    },
    {
     "data": {
      "application/vnd.jupyter.widget-view+json": {
       "model_id": "",
       "version_major": 2,
       "version_minor": 0
      },
      "text/plain": [
       "HBox(children=(HTML(value='Input Images'), FloatProgress(value=0.0, max=150.0), HTML(value='')))"
      ]
     },
     "metadata": {},
     "output_type": "display_data"
    },
    {
     "data": {
      "application/vnd.jupyter.widget-view+json": {
       "model_id": "",
       "version_major": 2,
       "version_minor": 0
      },
      "text/plain": [
       "HBox(children=(HTML(value='Input Images'), FloatProgress(value=0.0, max=150.0), HTML(value='')))"
      ]
     },
     "metadata": {},
     "output_type": "display_data"
    },
    {
     "data": {
      "application/vnd.jupyter.widget-view+json": {
       "model_id": "",
       "version_major": 2,
       "version_minor": 0
      },
      "text/plain": [
       "HBox(children=(HTML(value='Input Images'), FloatProgress(value=0.0, max=150.0), HTML(value='')))"
      ]
     },
     "metadata": {},
     "output_type": "display_data"
    },
    {
     "data": {
      "application/vnd.jupyter.widget-view+json": {
       "model_id": "",
       "version_major": 2,
       "version_minor": 0
      },
      "text/plain": [
       "HBox(children=(HTML(value='Input Images'), FloatProgress(value=0.0, max=150.0), HTML(value='')))"
      ]
     },
     "metadata": {},
     "output_type": "display_data"
    },
    {
     "data": {
      "application/vnd.jupyter.widget-view+json": {
       "model_id": "",
       "version_major": 2,
       "version_minor": 0
      },
      "text/plain": [
       "HBox(children=(HTML(value='Input Images'), FloatProgress(value=0.0, max=150.0), HTML(value='')))"
      ]
     },
     "metadata": {},
     "output_type": "display_data"
    },
    {
     "data": {
      "application/vnd.jupyter.widget-view+json": {
       "model_id": "",
       "version_major": 2,
       "version_minor": 0
      },
      "text/plain": [
       "HBox(children=(HTML(value='Input Images'), FloatProgress(value=0.0, max=150.0), HTML(value='')))"
      ]
     },
     "metadata": {},
     "output_type": "display_data"
    },
    {
     "data": {
      "application/vnd.jupyter.widget-view+json": {
       "model_id": "",
       "version_major": 2,
       "version_minor": 0
      },
      "text/plain": [
       "HBox(children=(HTML(value='Input Images'), FloatProgress(value=0.0, max=150.0), HTML(value='')))"
      ]
     },
     "metadata": {},
     "output_type": "display_data"
    },
    {
     "data": {
      "application/vnd.jupyter.widget-view+json": {
       "model_id": "",
       "version_major": 2,
       "version_minor": 0
      },
      "text/plain": [
       "HBox(children=(HTML(value='Input Images'), FloatProgress(value=0.0, max=150.0), HTML(value='')))"
      ]
     },
     "metadata": {},
     "output_type": "display_data"
    },
    {
     "data": {
      "application/vnd.jupyter.widget-view+json": {
       "model_id": "",
       "version_major": 2,
       "version_minor": 0
      },
      "text/plain": [
       "HBox(children=(HTML(value='Input Images'), FloatProgress(value=0.0, max=150.0), HTML(value='')))"
      ]
     },
     "metadata": {},
     "output_type": "display_data"
    },
    {
     "data": {
      "application/vnd.jupyter.widget-view+json": {
       "model_id": "",
       "version_major": 2,
       "version_minor": 0
      },
      "text/plain": [
       "HBox(children=(HTML(value='Input Images'), FloatProgress(value=0.0, max=150.0), HTML(value='')))"
      ]
     },
     "metadata": {},
     "output_type": "display_data"
    },
    {
     "data": {
      "application/vnd.jupyter.widget-view+json": {
       "model_id": "",
       "version_major": 2,
       "version_minor": 0
      },
      "text/plain": [
       "HBox(children=(HTML(value='Input Images'), FloatProgress(value=0.0, max=150.0), HTML(value='')))"
      ]
     },
     "metadata": {},
     "output_type": "display_data"
    },
    {
     "data": {
      "application/vnd.jupyter.widget-view+json": {
       "model_id": "",
       "version_major": 2,
       "version_minor": 0
      },
      "text/plain": [
       "HBox(children=(HTML(value='Input Images'), FloatProgress(value=0.0, max=150.0), HTML(value='')))"
      ]
     },
     "metadata": {},
     "output_type": "display_data"
    },
    {
     "data": {
      "application/vnd.jupyter.widget-view+json": {
       "model_id": "",
       "version_major": 2,
       "version_minor": 0
      },
      "text/plain": [
       "HBox(children=(HTML(value='Input Images'), FloatProgress(value=0.0, max=150.0), HTML(value='')))"
      ]
     },
     "metadata": {},
     "output_type": "display_data"
    },
    {
     "data": {
      "application/vnd.jupyter.widget-view+json": {
       "model_id": "",
       "version_major": 2,
       "version_minor": 0
      },
      "text/plain": [
       "HBox(children=(HTML(value='Input Images'), FloatProgress(value=0.0, max=150.0), HTML(value='')))"
      ]
     },
     "metadata": {},
     "output_type": "display_data"
    },
    {
     "data": {
      "application/vnd.jupyter.widget-view+json": {
       "model_id": "",
       "version_major": 2,
       "version_minor": 0
      },
      "text/plain": [
       "HBox(children=(HTML(value='Input Images'), FloatProgress(value=0.0, max=150.0), HTML(value='')))"
      ]
     },
     "metadata": {},
     "output_type": "display_data"
    },
    {
     "data": {
      "application/vnd.jupyter.widget-view+json": {
       "model_id": "",
       "version_major": 2,
       "version_minor": 0
      },
      "text/plain": [
       "HBox(children=(HTML(value='Input Images'), FloatProgress(value=0.0, max=150.0), HTML(value='')))"
      ]
     },
     "metadata": {},
     "output_type": "display_data"
    },
    {
     "data": {
      "application/vnd.jupyter.widget-view+json": {
       "model_id": "",
       "version_major": 2,
       "version_minor": 0
      },
      "text/plain": [
       "HBox(children=(HTML(value='Input Images'), FloatProgress(value=0.0, max=150.0), HTML(value='')))"
      ]
     },
     "metadata": {},
     "output_type": "display_data"
    },
    {
     "data": {
      "application/vnd.jupyter.widget-view+json": {
       "model_id": "",
       "version_major": 2,
       "version_minor": 0
      },
      "text/plain": [
       "HBox(children=(HTML(value='Input Images'), FloatProgress(value=0.0, max=150.0), HTML(value='')))"
      ]
     },
     "metadata": {},
     "output_type": "display_data"
    },
    {
     "data": {
      "application/vnd.jupyter.widget-view+json": {
       "model_id": "",
       "version_major": 2,
       "version_minor": 0
      },
      "text/plain": [
       "HBox(children=(HTML(value='Input Images'), FloatProgress(value=0.0, max=150.0), HTML(value='')))"
      ]
     },
     "metadata": {},
     "output_type": "display_data"
    },
    {
     "data": {
      "application/vnd.jupyter.widget-view+json": {
       "model_id": "",
       "version_major": 2,
       "version_minor": 0
      },
      "text/plain": [
       "HBox(children=(HTML(value='Input Images'), FloatProgress(value=0.0, max=150.0), HTML(value='')))"
      ]
     },
     "metadata": {},
     "output_type": "display_data"
    },
    {
     "data": {
      "application/vnd.jupyter.widget-view+json": {
       "model_id": "",
       "version_major": 2,
       "version_minor": 0
      },
      "text/plain": [
       "HBox(children=(HTML(value='Input Images'), FloatProgress(value=0.0, max=150.0), HTML(value='')))"
      ]
     },
     "metadata": {},
     "output_type": "display_data"
    },
    {
     "data": {
      "application/vnd.jupyter.widget-view+json": {
       "model_id": "",
       "version_major": 2,
       "version_minor": 0
      },
      "text/plain": [
       "HBox(children=(HTML(value='Input Images'), FloatProgress(value=0.0, max=150.0), HTML(value='')))"
      ]
     },
     "metadata": {},
     "output_type": "display_data"
    },
    {
     "data": {
      "application/vnd.jupyter.widget-view+json": {
       "model_id": "",
       "version_major": 2,
       "version_minor": 0
      },
      "text/plain": [
       "HBox(children=(HTML(value='Input Images'), FloatProgress(value=0.0, max=150.0), HTML(value='')))"
      ]
     },
     "metadata": {},
     "output_type": "display_data"
    },
    {
     "data": {
      "application/vnd.jupyter.widget-view+json": {
       "model_id": "",
       "version_major": 2,
       "version_minor": 0
      },
      "text/plain": [
       "HBox(children=(HTML(value='Input Images'), FloatProgress(value=0.0, max=150.0), HTML(value='')))"
      ]
     },
     "metadata": {},
     "output_type": "display_data"
    },
    {
     "data": {
      "application/vnd.jupyter.widget-view+json": {
       "model_id": "",
       "version_major": 2,
       "version_minor": 0
      },
      "text/plain": [
       "HBox(children=(HTML(value='Input Images'), FloatProgress(value=0.0, max=150.0), HTML(value='')))"
      ]
     },
     "metadata": {},
     "output_type": "display_data"
    },
    {
     "data": {
      "application/vnd.jupyter.widget-view+json": {
       "model_id": "",
       "version_major": 2,
       "version_minor": 0
      },
      "text/plain": [
       "HBox(children=(HTML(value='Input Images'), FloatProgress(value=0.0, max=150.0), HTML(value='')))"
      ]
     },
     "metadata": {},
     "output_type": "display_data"
    },
    {
     "data": {
      "application/vnd.jupyter.widget-view+json": {
       "model_id": "",
       "version_major": 2,
       "version_minor": 0
      },
      "text/plain": [
       "HBox(children=(HTML(value='Input Images'), FloatProgress(value=0.0, max=150.0), HTML(value='')))"
      ]
     },
     "metadata": {},
     "output_type": "display_data"
    },
    {
     "data": {
      "application/vnd.jupyter.widget-view+json": {
       "model_id": "",
       "version_major": 2,
       "version_minor": 0
      },
      "text/plain": [
       "HBox(children=(HTML(value='Input Images'), FloatProgress(value=0.0, max=150.0), HTML(value='')))"
      ]
     },
     "metadata": {},
     "output_type": "display_data"
    },
    {
     "data": {
      "application/vnd.jupyter.widget-view+json": {
       "model_id": "",
       "version_major": 2,
       "version_minor": 0
      },
      "text/plain": [
       "HBox(children=(HTML(value='Input Images'), FloatProgress(value=0.0, max=150.0), HTML(value='')))"
      ]
     },
     "metadata": {},
     "output_type": "display_data"
    },
    {
     "data": {
      "application/vnd.jupyter.widget-view+json": {
       "model_id": "",
       "version_major": 2,
       "version_minor": 0
      },
      "text/plain": [
       "HBox(children=(HTML(value='Input Images'), FloatProgress(value=0.0, max=150.0), HTML(value='')))"
      ]
     },
     "metadata": {},
     "output_type": "display_data"
    },
    {
     "data": {
      "application/vnd.jupyter.widget-view+json": {
       "model_id": "",
       "version_major": 2,
       "version_minor": 0
      },
      "text/plain": [
       "HBox(children=(HTML(value='Input Images'), FloatProgress(value=0.0, max=150.0), HTML(value='')))"
      ]
     },
     "metadata": {},
     "output_type": "display_data"
    },
    {
     "data": {
      "application/vnd.jupyter.widget-view+json": {
       "model_id": "",
       "version_major": 2,
       "version_minor": 0
      },
      "text/plain": [
       "HBox(children=(HTML(value='Input Images'), FloatProgress(value=0.0, max=150.0), HTML(value='')))"
      ]
     },
     "metadata": {},
     "output_type": "display_data"
    },
    {
     "data": {
      "application/vnd.jupyter.widget-view+json": {
       "model_id": "",
       "version_major": 2,
       "version_minor": 0
      },
      "text/plain": [
       "HBox(children=(HTML(value='Input Images'), FloatProgress(value=0.0, max=150.0), HTML(value='')))"
      ]
     },
     "metadata": {},
     "output_type": "display_data"
    },
    {
     "data": {
      "application/vnd.jupyter.widget-view+json": {
       "model_id": "",
       "version_major": 2,
       "version_minor": 0
      },
      "text/plain": [
       "HBox(children=(HTML(value='Input Images'), FloatProgress(value=0.0, max=150.0), HTML(value='')))"
      ]
     },
     "metadata": {},
     "output_type": "display_data"
    },
    {
     "data": {
      "application/vnd.jupyter.widget-view+json": {
       "model_id": "",
       "version_major": 2,
       "version_minor": 0
      },
      "text/plain": [
       "HBox(children=(HTML(value='Input Images'), FloatProgress(value=0.0, max=150.0), HTML(value='')))"
      ]
     },
     "metadata": {},
     "output_type": "display_data"
    },
    {
     "data": {
      "application/vnd.jupyter.widget-view+json": {
       "model_id": "",
       "version_major": 2,
       "version_minor": 0
      },
      "text/plain": [
       "HBox(children=(HTML(value='Input Images'), FloatProgress(value=0.0, max=150.0), HTML(value='')))"
      ]
     },
     "metadata": {},
     "output_type": "display_data"
    },
    {
     "data": {
      "application/vnd.jupyter.widget-view+json": {
       "model_id": "",
       "version_major": 2,
       "version_minor": 0
      },
      "text/plain": [
       "HBox(children=(HTML(value='Input Images'), FloatProgress(value=0.0, max=150.0), HTML(value='')))"
      ]
     },
     "metadata": {},
     "output_type": "display_data"
    },
    {
     "data": {
      "application/vnd.jupyter.widget-view+json": {
       "model_id": "",
       "version_major": 2,
       "version_minor": 0
      },
      "text/plain": [
       "HBox(children=(HTML(value='Input Images'), FloatProgress(value=0.0, max=150.0), HTML(value='')))"
      ]
     },
     "metadata": {},
     "output_type": "display_data"
    },
    {
     "data": {
      "application/vnd.jupyter.widget-view+json": {
       "model_id": "",
       "version_major": 2,
       "version_minor": 0
      },
      "text/plain": [
       "HBox(children=(HTML(value='Input Images'), FloatProgress(value=0.0, max=150.0), HTML(value='')))"
      ]
     },
     "metadata": {},
     "output_type": "display_data"
    },
    {
     "data": {
      "application/vnd.jupyter.widget-view+json": {
       "model_id": "",
       "version_major": 2,
       "version_minor": 0
      },
      "text/plain": [
       "HBox(children=(HTML(value='Input Images'), FloatProgress(value=0.0, max=150.0), HTML(value='')))"
      ]
     },
     "metadata": {},
     "output_type": "display_data"
    },
    {
     "data": {
      "application/vnd.jupyter.widget-view+json": {
       "model_id": "",
       "version_major": 2,
       "version_minor": 0
      },
      "text/plain": [
       "HBox(children=(HTML(value='Input Images'), FloatProgress(value=0.0, max=150.0), HTML(value='')))"
      ]
     },
     "metadata": {},
     "output_type": "display_data"
    },
    {
     "data": {
      "application/vnd.jupyter.widget-view+json": {
       "model_id": "",
       "version_major": 2,
       "version_minor": 0
      },
      "text/plain": [
       "HBox(children=(HTML(value='Input Images'), FloatProgress(value=0.0, max=150.0), HTML(value='')))"
      ]
     },
     "metadata": {},
     "output_type": "display_data"
    },
    {
     "data": {
      "application/vnd.jupyter.widget-view+json": {
       "model_id": "",
       "version_major": 2,
       "version_minor": 0
      },
      "text/plain": [
       "HBox(children=(HTML(value='Input Images'), FloatProgress(value=0.0, max=150.0), HTML(value='')))"
      ]
     },
     "metadata": {},
     "output_type": "display_data"
    },
    {
     "data": {
      "application/vnd.jupyter.widget-view+json": {
       "model_id": "",
       "version_major": 2,
       "version_minor": 0
      },
      "text/plain": [
       "HBox(children=(HTML(value='Input Images'), FloatProgress(value=0.0, max=150.0), HTML(value='')))"
      ]
     },
     "metadata": {},
     "output_type": "display_data"
    },
    {
     "data": {
      "application/vnd.jupyter.widget-view+json": {
       "model_id": "",
       "version_major": 2,
       "version_minor": 0
      },
      "text/plain": [
       "HBox(children=(HTML(value='Input Images'), FloatProgress(value=0.0, max=150.0), HTML(value='')))"
      ]
     },
     "metadata": {},
     "output_type": "display_data"
    },
    {
     "data": {
      "application/vnd.jupyter.widget-view+json": {
       "model_id": "",
       "version_major": 2,
       "version_minor": 0
      },
      "text/plain": [
       "HBox(children=(HTML(value='Input Images'), FloatProgress(value=0.0, max=150.0), HTML(value='')))"
      ]
     },
     "metadata": {},
     "output_type": "display_data"
    },
    {
     "data": {
      "application/vnd.jupyter.widget-view+json": {
       "model_id": "",
       "version_major": 2,
       "version_minor": 0
      },
      "text/plain": [
       "HBox(children=(HTML(value='Input Images'), FloatProgress(value=0.0, max=150.0), HTML(value='')))"
      ]
     },
     "metadata": {},
     "output_type": "display_data"
    },
    {
     "data": {
      "application/vnd.jupyter.widget-view+json": {
       "model_id": "",
       "version_major": 2,
       "version_minor": 0
      },
      "text/plain": [
       "HBox(children=(HTML(value='Input Images'), FloatProgress(value=0.0, max=150.0), HTML(value='')))"
      ]
     },
     "metadata": {},
     "output_type": "display_data"
    },
    {
     "data": {
      "application/vnd.jupyter.widget-view+json": {
       "model_id": "",
       "version_major": 2,
       "version_minor": 0
      },
      "text/plain": [
       "HBox(children=(HTML(value='Input Images'), FloatProgress(value=0.0, max=150.0), HTML(value='')))"
      ]
     },
     "metadata": {},
     "output_type": "display_data"
    },
    {
     "data": {
      "application/vnd.jupyter.widget-view+json": {
       "model_id": "",
       "version_major": 2,
       "version_minor": 0
      },
      "text/plain": [
       "HBox(children=(HTML(value='Input Images'), FloatProgress(value=0.0, max=150.0), HTML(value='')))"
      ]
     },
     "metadata": {},
     "output_type": "display_data"
    },
    {
     "data": {
      "application/vnd.jupyter.widget-view+json": {
       "model_id": "",
       "version_major": 2,
       "version_minor": 0
      },
      "text/plain": [
       "HBox(children=(HTML(value='Input Images'), FloatProgress(value=0.0, max=150.0), HTML(value='')))"
      ]
     },
     "metadata": {},
     "output_type": "display_data"
    },
    {
     "data": {
      "application/vnd.jupyter.widget-view+json": {
       "model_id": "",
       "version_major": 2,
       "version_minor": 0
      },
      "text/plain": [
       "HBox(children=(HTML(value='Input Images'), FloatProgress(value=0.0, max=150.0), HTML(value='')))"
      ]
     },
     "metadata": {},
     "output_type": "display_data"
    },
    {
     "data": {
      "application/vnd.jupyter.widget-view+json": {
       "model_id": "",
       "version_major": 2,
       "version_minor": 0
      },
      "text/plain": [
       "HBox(children=(HTML(value='Input Images'), FloatProgress(value=0.0, max=150.0), HTML(value='')))"
      ]
     },
     "metadata": {},
     "output_type": "display_data"
    },
    {
     "name": "stdout",
     "output_type": "stream",
     "text": [
      "\n"
     ]
    },
    {
     "data": {
      "text/plain": [
       "<function matplotlib.pyplot.show(close=None, block=None)>"
      ]
     },
     "execution_count": 6,
     "metadata": {},
     "output_type": "execute_result"
    },
    {
     "data": {
      "image/png": "[encoded data removed]",
      "text/plain": [
       "<Figure size 432x288 with 1 Axes>"
      ]
     },
     "metadata": {
      "needs_background": "light"
     },
     "output_type": "display_data"
    }
   ],
   "source": [
    "#Perform Training and plotting comparative loss curve\n",
    "\n",
    "n_classes = 3\n",
    "learning_rate = 0.01\n",
    "Epochs = 200\n",
    "\n",
    "Loss = []\n",
    "for i in tqdm.tqdm(range(Epochs),position   = 0,leave = True,desc = \"Epochs\"):\n",
    "    \n",
    "    record = []\n",
    "    prediction = []\n",
    "    for X,Truth in tqdm.tqdm(zip(X_train,Y_train),position   = 1,leave = False,total = len(Y_train), desc = \"Input Images\"):\n",
    "        \n",
    "        X = X.flatten()/255\n",
    "        \n",
    "        #Obtain Predictions\n",
    "        Outputs = Forward_propogation(Model,X,sigmoid_activation)\n",
    "        \n",
    "        #Calculate error\n",
    "        temp = [0]*n_classes\n",
    "        temp[Truth] = 1\n",
    "        Error = -2* (temp - Outputs[-1]) * learning_rate\n",
    "        \n",
    "        #Save prediction for plotting\n",
    "        record = record + [np.mean(np.square(temp - Outputs[-1]))]\n",
    "        prediction = prediction + [np.argmax(Outputs[-1])]\n",
    "        #Backpropogate using error\n",
    "        Model = Back_propogation(Model,Outputs,Error,sigmoid_activation)\n",
    "    \n",
    "    Loss = Loss + [np.mean(record)]\n",
    "\n",
    "plt.figure()\n",
    "plt.plot(Loss)\n",
    "plt.title(\"Loss over Epochs\")\n",
    "plt.show\n",
    "\n",
    "# print(\"Loss over Epochs:\",Loss)"
   ]
  },
  {
   "cell_type": "code",
   "execution_count": 7,
   "metadata": {},
   "outputs": [
    {
     "data": {
      "text/html": [
       "<div>\n",
       "<style scoped>\n",
       "    .dataframe tbody tr th:only-of-type {\n",
       "        vertical-align: middle;\n",
       "    }\n",
       "\n",
       "    .dataframe tbody tr th {\n",
       "        vertical-align: top;\n",
       "    }\n",
       "\n",
       "    .dataframe thead th {\n",
       "        text-align: right;\n",
       "    }\n",
       "</style>\n",
       "<table border=\"1\" class=\"dataframe\">\n",
       "  <thead>\n",
       "    <tr style=\"text-align: right;\">\n",
       "      <th>Predicted</th>\n",
       "      <th>0</th>\n",
       "      <th>1</th>\n",
       "      <th>2</th>\n",
       "    </tr>\n",
       "    <tr>\n",
       "      <th>Actual</th>\n",
       "      <th></th>\n",
       "      <th></th>\n",
       "      <th></th>\n",
       "    </tr>\n",
       "  </thead>\n",
       "  <tbody>\n",
       "    <tr>\n",
       "      <th>0</th>\n",
       "      <td>16</td>\n",
       "      <td>0</td>\n",
       "      <td>34</td>\n",
       "    </tr>\n",
       "    <tr>\n",
       "      <th>1</th>\n",
       "      <td>34</td>\n",
       "      <td>16</td>\n",
       "      <td>0</td>\n",
       "    </tr>\n",
       "    <tr>\n",
       "      <th>2</th>\n",
       "      <td>0</td>\n",
       "      <td>33</td>\n",
       "      <td>17</td>\n",
       "    </tr>\n",
       "  </tbody>\n",
       "</table>\n",
       "</div>"
      ],
      "text/plain": [
       "Predicted   0   1   2\n",
       "Actual               \n",
       "0          16   0  34\n",
       "1          34  16   0\n",
       "2           0  33  17"
      ]
     },
     "execution_count": 7,
     "metadata": {},
     "output_type": "execute_result"
    }
   ],
   "source": [
    "#Display confusion Matrix\n",
    "\n",
    "y_actu = pd.Series(Y_train, name='Actual')\n",
    "y_pred = pd.Series(prediction, name='Predicted')\n",
    "df_confusion = pd.crosstab(y_actu, y_pred)\n",
    "df_confusion"
   ]
  },
  {
   "cell_type": "code",
   "execution_count": 8,
   "metadata": {},
   "outputs": [
    {
     "name": "stdout",
     "output_type": "stream",
     "text": [
      "Accuracy is:  0.32666666666666666\n",
      "Precision, recall and f1-score cannot be calculated since this is not binary classification\n"
     ]
    }
   ],
   "source": [
    "print(\"Accuracy is: \",Accuracy(y_actu,y_pred))\n",
    "print(\"Precision, recall and f1-score cannot be calculated since this is not binary classification\")"
   ]
  },
  {
   "cell_type": "code",
   "execution_count": 13,
   "metadata": {},
   "outputs": [],
   "source": [
    "model_4 = keras.models.Sequential()\n",
    "model_4.add(keras.layers.Dense(5, input_dim=4, activation='sigmoid'))\n",
    "model_4.add(keras.layers.Dense(5, activation='sigmoid'))\n",
    "model_4.add(keras.layers.Dense(3, activation='softmax'))\n"
   ]
  },
  {
   "cell_type": "code",
   "execution_count": 14,
   "metadata": {},
   "outputs": [],
   "source": [
    "model_4.compile(loss='categorical_crossentropy', optimizer='adam', metrics=['accuracy'])"
   ]
  },
  {
   "cell_type": "code",
   "execution_count": 17,
   "metadata": {},
   "outputs": [
    {
     "name": "stdout",
     "output_type": "stream",
     "text": [
      "Epoch 1/200\n",
      "150/150 [==============================] - 0s 899us/step - loss: 0.2705 - accuracy: 0.9733\n",
      "Epoch 2/200\n",
      "150/150 [==============================] - 0s 946us/step - loss: 0.2611 - accuracy: 0.9733\n",
      "Epoch 3/200\n",
      "150/150 [==============================] - 0s 925us/step - loss: 0.2515 - accuracy: 0.9733\n",
      "Epoch 4/200\n",
      "150/150 [==============================] - 0s 940us/step - loss: 0.2418 - accuracy: 0.9733\n",
      "Epoch 5/200\n",
      "150/150 [==============================] - 0s 950us/step - loss: 0.2315 - accuracy: 0.9800\n",
      "Epoch 6/200\n",
      "150/150 [==============================] - 0s 941us/step - loss: 0.2227 - accuracy: 0.9800\n",
      "Epoch 7/200\n",
      "150/150 [==============================] - 0s 998us/step - loss: 0.2144 - accuracy: 0.9800\n",
      "Epoch 8/200\n",
      "150/150 [==============================] - 0s 1ms/step - loss: 0.2057 - accuracy: 0.9733\n",
      "Epoch 9/200\n",
      "150/150 [==============================] - 0s 1ms/step - loss: 0.1995 - accuracy: 0.9800\n",
      "Epoch 10/200\n",
      "150/150 [==============================] - 0s 952us/step - loss: 0.1921 - accuracy: 0.9733\n",
      "Epoch 11/200\n",
      "150/150 [==============================] - 0s 892us/step - loss: 0.1851 - accuracy: 0.9800\n",
      "Epoch 12/200\n",
      "150/150 [==============================] - 0s 905us/step - loss: 0.1782 - accuracy: 0.9800\n",
      "Epoch 13/200\n",
      "150/150 [==============================] - 0s 927us/step - loss: 0.1734 - accuracy: 0.9733\n",
      "Epoch 14/200\n",
      "150/150 [==============================] - 0s 932us/step - loss: 0.1669 - accuracy: 0.9733\n",
      "Epoch 15/200\n",
      "150/150 [==============================] - 0s 986us/step - loss: 0.1624 - accuracy: 0.9600\n",
      "Epoch 16/200\n",
      "150/150 [==============================] - 0s 1ms/step - loss: 0.1556 - accuracy: 0.9733\n",
      "Epoch 17/200\n",
      "150/150 [==============================] - 0s 1ms/step - loss: 0.1521 - accuracy: 0.9733\n",
      "Epoch 18/200\n",
      "150/150 [==============================] - 0s 902us/step - loss: 0.1469 - accuracy: 0.9733\n",
      "Epoch 19/200\n",
      "150/150 [==============================] - 0s 913us/step - loss: 0.1425 - accuracy: 0.9733\n",
      "Epoch 20/200\n",
      "150/150 [==============================] - 0s 926us/step - loss: 0.1372 - accuracy: 0.9800\n",
      "Epoch 21/200\n",
      "150/150 [==============================] - 0s 927us/step - loss: 0.1327 - accuracy: 0.9667\n",
      "Epoch 22/200\n",
      "150/150 [==============================] - 0s 970us/step - loss: 0.1306 - accuracy: 0.9733\n",
      "Epoch 23/200\n",
      "150/150 [==============================] - 0s 967us/step - loss: 0.1262 - accuracy: 0.9800\n",
      "Epoch 24/200\n",
      "150/150 [==============================] - 0s 1ms/step - loss: 0.1229 - accuracy: 0.9800\n",
      "Epoch 25/200\n",
      "150/150 [==============================] - 0s 1ms/step - loss: 0.1206 - accuracy: 0.9733\n",
      "Epoch 26/200\n",
      "150/150 [==============================] - 0s 1ms/step - loss: 0.1175 - accuracy: 0.9733\n",
      "Epoch 27/200\n",
      "150/150 [==============================] - 0s 918us/step - loss: 0.1154 - accuracy: 0.9800\n",
      "Epoch 28/200\n",
      "150/150 [==============================] - 0s 931us/step - loss: 0.1134 - accuracy: 0.9733\n",
      "Epoch 29/200\n",
      "150/150 [==============================] - 0s 924us/step - loss: 0.1073 - accuracy: 0.9733\n",
      "Epoch 30/200\n",
      "150/150 [==============================] - 0s 928us/step - loss: 0.1076 - accuracy: 0.9800\n",
      "Epoch 31/200\n",
      "150/150 [==============================] - 0s 932us/step - loss: 0.1044 - accuracy: 0.9800\n",
      "Epoch 32/200\n",
      "150/150 [==============================] - 0s 962us/step - loss: 0.1042 - accuracy: 0.9800\n",
      "Epoch 33/200\n",
      "150/150 [==============================] - 0s 996us/step - loss: 0.1005 - accuracy: 0.9800\n",
      "Epoch 34/200\n",
      "150/150 [==============================] - 0s 1ms/step - loss: 0.1002 - accuracy: 0.9800\n",
      "Epoch 35/200\n",
      "150/150 [==============================] - 0s 973us/step - loss: 0.0977 - accuracy: 0.9733\n",
      "Epoch 36/200\n",
      "150/150 [==============================] - 0s 887us/step - loss: 0.0952 - accuracy: 0.9733\n",
      "Epoch 37/200\n",
      "150/150 [==============================] - 0s 959us/step - loss: 0.0938 - accuracy: 0.9733\n",
      "Epoch 38/200\n",
      "150/150 [==============================] - 0s 970us/step - loss: 0.0924 - accuracy: 0.9733\n",
      "Epoch 39/200\n",
      "150/150 [==============================] - 0s 934us/step - loss: 0.0939 - accuracy: 0.9667\n",
      "Epoch 40/200\n",
      "150/150 [==============================] - 0s 945us/step - loss: 0.0885 - accuracy: 0.9733\n",
      "Epoch 41/200\n",
      "150/150 [==============================] - 0s 1ms/step - loss: 0.0890 - accuracy: 0.9733\n",
      "Epoch 42/200\n",
      "150/150 [==============================] - 0s 973us/step - loss: 0.0868 - accuracy: 0.9867\n",
      "Epoch 43/200\n",
      "150/150 [==============================] - 0s 956us/step - loss: 0.0868 - accuracy: 0.9800\n",
      "Epoch 44/200\n",
      "150/150 [==============================] - 0s 971us/step - loss: 0.0844 - accuracy: 0.9733\n",
      "Epoch 45/200\n",
      "150/150 [==============================] - 0s 925us/step - loss: 0.0835 - accuracy: 0.9800\n",
      "Epoch 46/200\n",
      "150/150 [==============================] - 0s 934us/step - loss: 0.0831 - accuracy: 0.9733\n",
      "Epoch 47/200\n",
      "150/150 [==============================] - 0s 929us/step - loss: 0.0835 - accuracy: 0.9733\n",
      "Epoch 48/200\n",
      "150/150 [==============================] - 0s 947us/step - loss: 0.0805 - accuracy: 0.9733\n",
      "Epoch 49/200\n",
      "150/150 [==============================] - 0s 1ms/step - loss: 0.0803 - accuracy: 0.9667\n",
      "Epoch 50/200\n",
      "150/150 [==============================] - 0s 1ms/step - loss: 0.0816 - accuracy: 0.9733\n",
      "Epoch 51/200\n",
      "150/150 [==============================] - 0s 965us/step - loss: 0.0799 - accuracy: 0.9733\n",
      "Epoch 52/200\n",
      "150/150 [==============================] - 0s 946us/step - loss: 0.0788 - accuracy: 0.9733\n",
      "Epoch 53/200\n",
      "150/150 [==============================] - 0s 939us/step - loss: 0.0823 - accuracy: 0.9667\n",
      "Epoch 54/200\n",
      "150/150 [==============================] - 0s 921us/step - loss: 0.0800 - accuracy: 0.9733\n",
      "Epoch 55/200\n",
      "150/150 [==============================] - 0s 912us/step - loss: 0.0755 - accuracy: 0.9733\n",
      "Epoch 56/200\n",
      "150/150 [==============================] - 0s 912us/step - loss: 0.0769 - accuracy: 0.9733\n",
      "Epoch 57/200\n",
      "150/150 [==============================] - 0s 899us/step - loss: 0.0751 - accuracy: 0.9733\n",
      "Epoch 58/200\n",
      "150/150 [==============================] - 0s 912us/step - loss: 0.0763 - accuracy: 0.9733\n",
      "Epoch 59/200\n",
      "150/150 [==============================] - 0s 1ms/step - loss: 0.0728 - accuracy: 0.9733\n",
      "Epoch 60/200\n",
      "150/150 [==============================] - 0s 1ms/step - loss: 0.0734 - accuracy: 0.9733\n",
      "Epoch 61/200\n",
      "150/150 [==============================] - 0s 1ms/step - loss: 0.0744 - accuracy: 0.9733\n",
      "Epoch 62/200\n",
      "150/150 [==============================] - 0s 1ms/step - loss: 0.0731 - accuracy: 0.9733\n",
      "Epoch 63/200\n",
      "150/150 [==============================] - 0s 1ms/step - loss: 0.0752 - accuracy: 0.9733\n",
      "Epoch 64/200\n",
      "150/150 [==============================] - 0s 995us/step - loss: 0.0741 - accuracy: 0.9733\n",
      "Epoch 65/200\n",
      "150/150 [==============================] - 0s 963us/step - loss: 0.0699 - accuracy: 0.9800\n",
      "Epoch 66/200\n",
      "150/150 [==============================] - 0s 1ms/step - loss: 0.0715 - accuracy: 0.9733\n",
      "Epoch 67/200\n",
      "150/150 [==============================] - 0s 1ms/step - loss: 0.0728 - accuracy: 0.9733\n",
      "Epoch 68/200\n",
      "150/150 [==============================] - 0s 1ms/step - loss: 0.0706 - accuracy: 0.9800\n",
      "Epoch 69/200\n",
      "150/150 [==============================] - 0s 888us/step - loss: 0.0701 - accuracy: 0.9733\n",
      "Epoch 70/200\n",
      "150/150 [==============================] - 0s 934us/step - loss: 0.0722 - accuracy: 0.9733\n",
      "Epoch 71/200\n",
      "150/150 [==============================] - 0s 946us/step - loss: 0.0746 - accuracy: 0.9733\n",
      "Epoch 72/200\n",
      "150/150 [==============================] - 0s 916us/step - loss: 0.0715 - accuracy: 0.9667\n",
      "Epoch 73/200\n",
      "150/150 [==============================] - 0s 980us/step - loss: 0.0692 - accuracy: 0.9667\n",
      "Epoch 74/200\n",
      "150/150 [==============================] - 0s 919us/step - loss: 0.0706 - accuracy: 0.9733\n",
      "Epoch 75/200\n",
      "150/150 [==============================] - 0s 927us/step - loss: 0.0663 - accuracy: 0.9800\n",
      "Epoch 76/200\n",
      "150/150 [==============================] - 0s 929us/step - loss: 0.0680 - accuracy: 0.9733\n",
      "Epoch 77/200\n",
      "150/150 [==============================] - 0s 883us/step - loss: 0.0691 - accuracy: 0.9733\n",
      "Epoch 78/200\n",
      "150/150 [==============================] - 0s 920us/step - loss: 0.0675 - accuracy: 0.9733\n",
      "Epoch 79/200\n",
      "150/150 [==============================] - 0s 941us/step - loss: 0.0674 - accuracy: 0.9733\n",
      "Epoch 80/200\n"
     ]
    },
    {
     "name": "stdout",
     "output_type": "stream",
     "text": [
      "150/150 [==============================] - 0s 946us/step - loss: 0.0682 - accuracy: 0.9733\n",
      "Epoch 81/200\n",
      "150/150 [==============================] - 0s 976us/step - loss: 0.0654 - accuracy: 0.9800\n",
      "Epoch 82/200\n",
      "150/150 [==============================] - 0s 981us/step - loss: 0.0696 - accuracy: 0.9733\n",
      "Epoch 83/200\n",
      "150/150 [==============================] - 0s 965us/step - loss: 0.0673 - accuracy: 0.9733\n",
      "Epoch 84/200\n",
      "150/150 [==============================] - 0s 935us/step - loss: 0.0642 - accuracy: 0.9733\n",
      "Epoch 85/200\n",
      "150/150 [==============================] - 0s 936us/step - loss: 0.0660 - accuracy: 0.9733\n",
      "Epoch 86/200\n",
      "150/150 [==============================] - 0s 946us/step - loss: 0.0661 - accuracy: 0.9733\n",
      "Epoch 87/200\n",
      "150/150 [==============================] - 0s 911us/step - loss: 0.0640 - accuracy: 0.9800\n",
      "Epoch 88/200\n",
      "150/150 [==============================] - 0s 924us/step - loss: 0.0690 - accuracy: 0.9800\n",
      "Epoch 89/200\n",
      "150/150 [==============================] - 0s 916us/step - loss: 0.0662 - accuracy: 0.9733\n",
      "Epoch 90/200\n",
      "150/150 [==============================] - 0s 926us/step - loss: 0.0642 - accuracy: 0.9733\n",
      "Epoch 91/200\n",
      "150/150 [==============================] - 0s 925us/step - loss: 0.0648 - accuracy: 0.9733\n",
      "Epoch 92/200\n",
      "150/150 [==============================] - 0s 924us/step - loss: 0.0669 - accuracy: 0.9733\n",
      "Epoch 93/200\n",
      "150/150 [==============================] - 0s 915us/step - loss: 0.0650 - accuracy: 0.9733\n",
      "Epoch 94/200\n",
      "150/150 [==============================] - 0s 904us/step - loss: 0.0611 - accuracy: 0.9800\n",
      "Epoch 95/200\n",
      "150/150 [==============================] - 0s 909us/step - loss: 0.0680 - accuracy: 0.9733\n",
      "Epoch 96/200\n",
      "150/150 [==============================] - 0s 920us/step - loss: 0.0642 - accuracy: 0.9733\n",
      "Epoch 97/200\n",
      "150/150 [==============================] - 0s 923us/step - loss: 0.0596 - accuracy: 0.9800\n",
      "Epoch 98/200\n",
      "150/150 [==============================] - 0s 911us/step - loss: 0.0638 - accuracy: 0.9733\n",
      "Epoch 99/200\n",
      "150/150 [==============================] - 0s 942us/step - loss: 0.0626 - accuracy: 0.9800\n",
      "Epoch 100/200\n",
      "150/150 [==============================] - 0s 930us/step - loss: 0.0639 - accuracy: 0.9733\n",
      "Epoch 101/200\n",
      "150/150 [==============================] - 0s 921us/step - loss: 0.0641 - accuracy: 0.9733\n",
      "Epoch 102/200\n",
      "150/150 [==============================] - 0s 972us/step - loss: 0.0620 - accuracy: 0.9733\n",
      "Epoch 103/200\n",
      "150/150 [==============================] - 0s 926us/step - loss: 0.0635 - accuracy: 0.9800\n",
      "Epoch 104/200\n",
      "150/150 [==============================] - 0s 945us/step - loss: 0.0635 - accuracy: 0.9800\n",
      "Epoch 105/200\n",
      "150/150 [==============================] - 0s 911us/step - loss: 0.0634 - accuracy: 0.9733\n",
      "Epoch 106/200\n",
      "150/150 [==============================] - 0s 924us/step - loss: 0.0616 - accuracy: 0.9933\n",
      "Epoch 107/200\n",
      "150/150 [==============================] - 0s 911us/step - loss: 0.0615 - accuracy: 0.9667\n",
      "Epoch 108/200\n",
      "150/150 [==============================] - 0s 919us/step - loss: 0.0640 - accuracy: 0.9733\n",
      "Epoch 109/200\n",
      "150/150 [==============================] - 0s 932us/step - loss: 0.0631 - accuracy: 0.9733\n",
      "Epoch 110/200\n",
      "150/150 [==============================] - 0s 908us/step - loss: 0.0587 - accuracy: 0.9800\n",
      "Epoch 111/200\n",
      "150/150 [==============================] - 0s 920us/step - loss: 0.0648 - accuracy: 0.9667\n",
      "Epoch 112/200\n",
      "150/150 [==============================] - 0s 930us/step - loss: 0.0674 - accuracy: 0.9733\n",
      "Epoch 113/200\n",
      "150/150 [==============================] - 0s 934us/step - loss: 0.0608 - accuracy: 0.9800\n",
      "Epoch 114/200\n",
      "150/150 [==============================] - 0s 910us/step - loss: 0.0609 - accuracy: 0.9800\n",
      "Epoch 115/200\n",
      "150/150 [==============================] - 0s 924us/step - loss: 0.0610 - accuracy: 0.9800\n",
      "Epoch 116/200\n",
      "150/150 [==============================] - 0s 951us/step - loss: 0.0646 - accuracy: 0.9733\n",
      "Epoch 117/200\n",
      "150/150 [==============================] - 0s 975us/step - loss: 0.0628 - accuracy: 0.9733\n",
      "Epoch 118/200\n",
      "150/150 [==============================] - 0s 943us/step - loss: 0.0586 - accuracy: 0.9800\n",
      "Epoch 119/200\n",
      "150/150 [==============================] - 0s 915us/step - loss: 0.0623 - accuracy: 0.9867\n",
      "Epoch 120/200\n",
      "150/150 [==============================] - 0s 898us/step - loss: 0.0569 - accuracy: 0.9800\n",
      "Epoch 121/200\n",
      "150/150 [==============================] - 0s 927us/step - loss: 0.0562 - accuracy: 0.9800\n",
      "Epoch 122/200\n",
      "150/150 [==============================] - 0s 904us/step - loss: 0.0599 - accuracy: 0.9733\n",
      "Epoch 123/200\n",
      "150/150 [==============================] - 0s 929us/step - loss: 0.0617 - accuracy: 0.9733\n",
      "Epoch 124/200\n",
      "150/150 [==============================] - 0s 906us/step - loss: 0.0582 - accuracy: 0.9800\n",
      "Epoch 125/200\n",
      "150/150 [==============================] - 0s 907us/step - loss: 0.0612 - accuracy: 0.9800\n",
      "Epoch 126/200\n",
      "150/150 [==============================] - 0s 937us/step - loss: 0.0623 - accuracy: 0.9667\n",
      "Epoch 127/200\n",
      "150/150 [==============================] - 0s 933us/step - loss: 0.0577 - accuracy: 0.9867\n",
      "Epoch 128/200\n",
      "150/150 [==============================] - 0s 935us/step - loss: 0.0599 - accuracy: 0.9733\n",
      "Epoch 129/200\n",
      "150/150 [==============================] - 0s 894us/step - loss: 0.0609 - accuracy: 0.9733\n",
      "Epoch 130/200\n",
      "150/150 [==============================] - 0s 912us/step - loss: 0.0581 - accuracy: 0.9733\n",
      "Epoch 131/200\n",
      "150/150 [==============================] - 0s 910us/step - loss: 0.0641 - accuracy: 0.9733\n",
      "Epoch 132/200\n",
      "150/150 [==============================] - 0s 941us/step - loss: 0.0637 - accuracy: 0.9800\n",
      "Epoch 133/200\n",
      "150/150 [==============================] - 0s 918us/step - loss: 0.0568 - accuracy: 0.9800\n",
      "Epoch 134/200\n",
      "150/150 [==============================] - 0s 981us/step - loss: 0.0606 - accuracy: 0.9733\n",
      "Epoch 135/200\n",
      "150/150 [==============================] - 0s 988us/step - loss: 0.0596 - accuracy: 0.9667\n",
      "Epoch 136/200\n",
      "150/150 [==============================] - 0s 995us/step - loss: 0.0614 - accuracy: 0.9800\n",
      "Epoch 137/200\n",
      "150/150 [==============================] - 0s 959us/step - loss: 0.0595 - accuracy: 0.9733\n",
      "Epoch 138/200\n",
      "150/150 [==============================] - 0s 931us/step - loss: 0.0594 - accuracy: 0.9733\n",
      "Epoch 139/200\n",
      "150/150 [==============================] - 0s 925us/step - loss: 0.0611 - accuracy: 0.9800\n",
      "Epoch 140/200\n",
      "150/150 [==============================] - 0s 955us/step - loss: 0.0601 - accuracy: 0.9733\n",
      "Epoch 141/200\n",
      "150/150 [==============================] - 0s 924us/step - loss: 0.0570 - accuracy: 0.9800\n",
      "Epoch 142/200\n",
      "150/150 [==============================] - 0s 912us/step - loss: 0.0592 - accuracy: 0.9667\n",
      "Epoch 143/200\n",
      "150/150 [==============================] - 0s 929us/step - loss: 0.0584 - accuracy: 0.9733\n",
      "Epoch 144/200\n",
      "150/150 [==============================] - 0s 960us/step - loss: 0.0617 - accuracy: 0.9733\n",
      "Epoch 145/200\n",
      "150/150 [==============================] - 0s 935us/step - loss: 0.0590 - accuracy: 0.9800\n",
      "Epoch 146/200\n",
      "150/150 [==============================] - 0s 943us/step - loss: 0.0598 - accuracy: 0.9667\n",
      "Epoch 147/200\n",
      "150/150 [==============================] - 0s 922us/step - loss: 0.0605 - accuracy: 0.9733\n",
      "Epoch 148/200\n",
      "150/150 [==============================] - 0s 886us/step - loss: 0.0591 - accuracy: 0.9733\n",
      "Epoch 149/200\n",
      "150/150 [==============================] - 0s 889us/step - loss: 0.0607 - accuracy: 0.9800\n",
      "Epoch 150/200\n",
      "150/150 [==============================] - ETA: 0s - loss: 0.0531 - accuracy: 0.9823 - 0s 922us/step - loss: 0.0576 - accuracy: 0.9800\n",
      "Epoch 151/200\n",
      "150/150 [==============================] - 0s 921us/step - loss: 0.0632 - accuracy: 0.9733\n",
      "Epoch 152/200\n",
      "150/150 [==============================] - 0s 970us/step - loss: 0.0592 - accuracy: 0.9667\n",
      "Epoch 153/200\n",
      "150/150 [==============================] - 0s 955us/step - loss: 0.0568 - accuracy: 0.9800\n",
      "Epoch 154/200\n",
      "150/150 [==============================] - 0s 920us/step - loss: 0.0600 - accuracy: 0.9733\n",
      "Epoch 155/200\n",
      "150/150 [==============================] - 0s 928us/step - loss: 0.0585 - accuracy: 0.9867\n",
      "Epoch 156/200\n",
      "150/150 [==============================] - 0s 923us/step - loss: 0.0583 - accuracy: 0.9800\n",
      "Epoch 157/200\n"
     ]
    },
    {
     "name": "stdout",
     "output_type": "stream",
     "text": [
      "150/150 [==============================] - 0s 950us/step - loss: 0.0581 - accuracy: 0.9733\n",
      "Epoch 158/200\n",
      "150/150 [==============================] - 0s 942us/step - loss: 0.0576 - accuracy: 0.9800\n",
      "Epoch 159/200\n",
      "150/150 [==============================] - 0s 991us/step - loss: 0.0545 - accuracy: 0.9733\n",
      "Epoch 160/200\n",
      "150/150 [==============================] - 0s 957us/step - loss: 0.0600 - accuracy: 0.9733\n",
      "Epoch 161/200\n",
      "150/150 [==============================] - 0s 936us/step - loss: 0.0568 - accuracy: 0.9800\n",
      "Epoch 162/200\n",
      "150/150 [==============================] - 0s 933us/step - loss: 0.0551 - accuracy: 0.9667\n",
      "Epoch 163/200\n",
      "150/150 [==============================] - 0s 927us/step - loss: 0.0622 - accuracy: 0.9733\n",
      "Epoch 164/200\n",
      "150/150 [==============================] - 0s 931us/step - loss: 0.0560 - accuracy: 0.9733\n",
      "Epoch 165/200\n",
      "150/150 [==============================] - 0s 925us/step - loss: 0.0575 - accuracy: 0.9800\n",
      "Epoch 166/200\n",
      "150/150 [==============================] - 0s 993us/step - loss: 0.0593 - accuracy: 0.9733\n",
      "Epoch 167/200\n",
      "150/150 [==============================] - 0s 978us/step - loss: 0.0593 - accuracy: 0.9667\n",
      "Epoch 168/200\n",
      "150/150 [==============================] - 0s 976us/step - loss: 0.0510 - accuracy: 0.9800\n",
      "Epoch 169/200\n",
      "150/150 [==============================] - 0s 929us/step - loss: 0.0581 - accuracy: 0.9733\n",
      "Epoch 170/200\n",
      "150/150 [==============================] - 0s 940us/step - loss: 0.0567 - accuracy: 0.9800\n",
      "Epoch 171/200\n",
      "150/150 [==============================] - 0s 949us/step - loss: 0.0560 - accuracy: 0.9800\n",
      "Epoch 172/200\n",
      "150/150 [==============================] - 0s 963us/step - loss: 0.0543 - accuracy: 0.9867\n",
      "Epoch 173/200\n",
      "150/150 [==============================] - 0s 988us/step - loss: 0.0606 - accuracy: 0.9733\n",
      "Epoch 174/200\n",
      "150/150 [==============================] - 0s 935us/step - loss: 0.0588 - accuracy: 0.9800\n",
      "Epoch 175/200\n",
      "150/150 [==============================] - 0s 919us/step - loss: 0.0533 - accuracy: 0.9733\n",
      "Epoch 176/200\n",
      "150/150 [==============================] - 0s 935us/step - loss: 0.0591 - accuracy: 0.9800\n",
      "Epoch 177/200\n",
      "150/150 [==============================] - 0s 928us/step - loss: 0.0546 - accuracy: 0.9800\n",
      "Epoch 178/200\n",
      "150/150 [==============================] - 0s 919us/step - loss: 0.0574 - accuracy: 0.9800\n",
      "Epoch 179/200\n",
      "150/150 [==============================] - 0s 973us/step - loss: 0.0562 - accuracy: 0.9800\n",
      "Epoch 180/200\n",
      "150/150 [==============================] - 0s 910us/step - loss: 0.0558 - accuracy: 0.9867\n",
      "Epoch 181/200\n",
      "150/150 [==============================] - 0s 937us/step - loss: 0.0574 - accuracy: 0.9733\n",
      "Epoch 182/200\n",
      "150/150 [==============================] - 0s 926us/step - loss: 0.0550 - accuracy: 0.9800\n",
      "Epoch 183/200\n",
      "150/150 [==============================] - 0s 946us/step - loss: 0.0608 - accuracy: 0.9800\n",
      "Epoch 184/200\n",
      "150/150 [==============================] - 0s 972us/step - loss: 0.0586 - accuracy: 0.9733\n",
      "Epoch 185/200\n",
      "150/150 [==============================] - 0s 932us/step - loss: 0.0558 - accuracy: 0.9800\n",
      "Epoch 186/200\n",
      "150/150 [==============================] - 0s 967us/step - loss: 0.0544 - accuracy: 0.9800\n",
      "Epoch 187/200\n",
      "150/150 [==============================] - 0s 925us/step - loss: 0.0534 - accuracy: 0.9800\n",
      "Epoch 188/200\n",
      "150/150 [==============================] - 0s 949us/step - loss: 0.0563 - accuracy: 0.9800\n",
      "Epoch 189/200\n",
      "150/150 [==============================] - 0s 961us/step - loss: 0.0580 - accuracy: 0.9800\n",
      "Epoch 190/200\n",
      "150/150 [==============================] - 0s 944us/step - loss: 0.0541 - accuracy: 0.9867\n",
      "Epoch 191/200\n",
      "150/150 [==============================] - 0s 911us/step - loss: 0.0565 - accuracy: 0.9733\n",
      "Epoch 192/200\n",
      "150/150 [==============================] - 0s 945us/step - loss: 0.0546 - accuracy: 0.9867\n",
      "Epoch 193/200\n",
      "150/150 [==============================] - 0s 987us/step - loss: 0.0592 - accuracy: 0.9733\n",
      "Epoch 194/200\n",
      "150/150 [==============================] - 0s 920us/step - loss: 0.0543 - accuracy: 0.9733\n",
      "Epoch 195/200\n",
      "150/150 [==============================] - 0s 926us/step - loss: 0.0555 - accuracy: 0.9733\n",
      "Epoch 196/200\n",
      "150/150 [==============================] - 0s 940us/step - loss: 0.0509 - accuracy: 0.9800\n",
      "Epoch 197/200\n",
      "150/150 [==============================] - 0s 1ms/step - loss: 0.0553 - accuracy: 0.9800\n",
      "Epoch 198/200\n",
      "150/150 [==============================] - 0s 936us/step - loss: 0.0528 - accuracy: 0.9800\n",
      "Epoch 199/200\n",
      "150/150 [==============================] - 0s 952us/step - loss: 0.0546 - accuracy: 0.9733\n",
      "Epoch 200/200\n",
      "150/150 [==============================] - 0s 997us/step - loss: 0.0530 - accuracy: 0.9800\n"
     ]
    },
    {
     "data": {
      "text/plain": [
       "<keras.callbacks.History at 0x21b5ca17dc0>"
      ]
     },
     "execution_count": 17,
     "metadata": {},
     "output_type": "execute_result"
    }
   ],
   "source": [
    "# encode class values as integers\n",
    "\n",
    "Y_train_encoded = keras.utils.to_categorical(Y_train)\n",
    "\n",
    "model_4.fit(x= X_train,y= Y_train_encoded, batch_size=1, epochs=Epochs, verbose=1)"
   ]
  },
  {
   "cell_type": "markdown",
   "metadata": {},
   "source": [
    "#### Q. 5. Build a ANN model from scratch to recognize human emotion using Facial emotion recognition dataset (FER2013) (https://github.com/gitshanks/fer2013). For implementation, use Stochastic gradient descent algorithm to learn model with parameters for α = 0.01 and random parameters of the ANN model for the Softmax loss function \n",
    "- (i)Visualize Facial emotion recognition dataset (FER2013. \n",
    "- (ii) Plot comparative loss curve for at least 200 epochs.\n",
    "- (iii)Print confusion matrix, calculate classification metrics such as precision, recall, f1-score and accuracy and ROUC curve\n",
    "- (iv) Repeat part (ii) to (iii) using Adam gradient descent algorithm\n",
    "- (v) Implement above ANN model with Keras Library and verify the above result"
   ]
  },
  {
   "cell_type": "code",
   "execution_count": 18,
   "metadata": {},
   "outputs": [
    {
     "name": "stdout",
     "output_type": "stream",
     "text": [
      "Number of emotions:  [0 2 4 6 3 5 1]\n"
     ]
    },
    {
     "data": {
      "text/html": [
       "<div>\n",
       "<style scoped>\n",
       "    .dataframe tbody tr th:only-of-type {\n",
       "        vertical-align: middle;\n",
       "    }\n",
       "\n",
       "    .dataframe tbody tr th {\n",
       "        vertical-align: top;\n",
       "    }\n",
       "\n",
       "    .dataframe thead th {\n",
       "        text-align: right;\n",
       "    }\n",
       "</style>\n",
       "<table border=\"1\" class=\"dataframe\">\n",
       "  <thead>\n",
       "    <tr style=\"text-align: right;\">\n",
       "      <th></th>\n",
       "      <th>emotion</th>\n",
       "      <th>Usage</th>\n",
       "      <th>pixels</th>\n",
       "    </tr>\n",
       "  </thead>\n",
       "  <tbody>\n",
       "    <tr>\n",
       "      <th>0</th>\n",
       "      <td>0</td>\n",
       "      <td>Training</td>\n",
       "      <td>70 80 82 72 58 58 60 63 54 58 60 48 89 115 121...</td>\n",
       "    </tr>\n",
       "    <tr>\n",
       "      <th>1</th>\n",
       "      <td>0</td>\n",
       "      <td>Training</td>\n",
       "      <td>151 150 147 155 148 133 111 140 170 174 182 15...</td>\n",
       "    </tr>\n",
       "    <tr>\n",
       "      <th>2</th>\n",
       "      <td>2</td>\n",
       "      <td>Training</td>\n",
       "      <td>231 212 156 164 174 138 161 173 182 200 106 38...</td>\n",
       "    </tr>\n",
       "    <tr>\n",
       "      <th>3</th>\n",
       "      <td>4</td>\n",
       "      <td>Training</td>\n",
       "      <td>24 32 36 30 32 23 19 20 30 41 21 22 32 34 21 1...</td>\n",
       "    </tr>\n",
       "    <tr>\n",
       "      <th>4</th>\n",
       "      <td>6</td>\n",
       "      <td>Training</td>\n",
       "      <td>4 0 0 0 0 0 0 0 0 0 0 0 3 15 23 28 48 50 58 84...</td>\n",
       "    </tr>\n",
       "  </tbody>\n",
       "</table>\n",
       "</div>"
      ],
      "text/plain": [
       "   emotion     Usage                                             pixels\n",
       "0        0  Training  70 80 82 72 58 58 60 63 54 58 60 48 89 115 121...\n",
       "1        0  Training  151 150 147 155 148 133 111 140 170 174 182 15...\n",
       "2        2  Training  231 212 156 164 174 138 161 173 182 200 106 38...\n",
       "3        4  Training  24 32 36 30 32 23 19 20 30 41 21 22 32 34 21 1...\n",
       "4        6  Training  4 0 0 0 0 0 0 0 0 0 0 0 3 15 23 28 48 50 58 84..."
      ]
     },
     "execution_count": 18,
     "metadata": {},
     "output_type": "execute_result"
    }
   ],
   "source": [
    "#Reading and viewing data\n",
    "\n",
    "path = \"challenges-in-representation-learning-facial-expression-recognition-challenge/\"\n",
    "data = pd.read_csv(path+'icml_face_data.csv')\n",
    "\n",
    "print(\"Number of emotions: \",data['emotion'].unique())\n",
    "data.head()"
   ]
  },
  {
   "cell_type": "code",
   "execution_count": 19,
   "metadata": {},
   "outputs": [
    {
     "name": "stdout",
     "output_type": "stream",
     "text": [
      "(35887, 48, 48) (35887,)\n"
     ]
    }
   ],
   "source": [
    "#Function to prepare data\n",
    "def prepare_data(data):\n",
    "    \"\"\" Prepare data for modeling \n",
    "        input: data frame with labels und pixel data\n",
    "        output: image and label array \"\"\"\n",
    "    \n",
    "    image_array = np.zeros(shape=(len(data), 48, 48))\n",
    "    image_label = np.array(list(map(int, data['emotion'])))\n",
    "    \n",
    "    for i, row in enumerate(data.index):\n",
    "        image = np.fromstring(data.loc[row, ' pixels'], dtype=int, sep=' ')\n",
    "        image = np.reshape(image, (48, 48))\n",
    "        image_array[i] = image\n",
    "        \n",
    "    return image_array, image_label\n",
    "\n",
    "#Prepare data\n",
    "X_train,Y_train = prepare_data(data)\n",
    "\n",
    "print(np.shape(X_train),np.shape(Y_train))"
   ]
  },
  {
   "cell_type": "code",
   "execution_count": 20,
   "metadata": {},
   "outputs": [
    {
     "data": {
      "text/plain": [
       "<Figure size 432x288 with 0 Axes>"
      ]
     },
     "metadata": {},
     "output_type": "display_data"
    },
    {
     "data": {
      "image/png": "[encoded data removed]",
      "text/plain": [
       "<Figure size 432x288 with 6 Axes>"
      ]
     },
     "metadata": {},
     "output_type": "display_data"
    }
   ],
   "source": [
    "#Visualize Facial emotion recognition dataset\n",
    "\n",
    "plt.figure()\n",
    "fig, ax = plt.subplots()\n",
    "\n",
    "for i in range(6):\n",
    "    plt.subplot(2,3,i+1)\n",
    "    t= np.random.randint(35886)\n",
    "    plt.title(\"Emotion: {}\".format(Y_train[t]))\n",
    "    plt.imshow(X_train[t])\n",
    "\n",
    "plt.setp(plt.gcf().get_axes(), xticks=[], yticks=[]);"
   ]
  },
  {
   "cell_type": "code",
   "execution_count": 21,
   "metadata": {},
   "outputs": [],
   "source": [
    "#Defining the model\n",
    "\n",
    "Model = add_dense_layer(10,input_size =48*48)\n",
    "Model = add_dense_layer(10,Model)\n",
    "Model = add_dense_layer(7,Model)\n",
    "\n",
    "#display_weights(Model)"
   ]
  },
  {
   "cell_type": "code",
   "execution_count": 22,
   "metadata": {},
   "outputs": [
    {
     "data": {
      "application/vnd.jupyter.widget-view+json": {
       "model_id": "df40b1a76f544d409f8672eea0828cbd",
       "version_major": 2,
       "version_minor": 0
      },
      "text/plain": [
       "HBox(children=(HTML(value='Epochs'), FloatProgress(value=0.0, max=2.0), HTML(value='')))"
      ]
     },
     "metadata": {},
     "output_type": "display_data"
    },
    {
     "data": {
      "application/vnd.jupyter.widget-view+json": {
       "model_id": "",
       "version_major": 2,
       "version_minor": 0
      },
      "text/plain": [
       "HBox(children=(HTML(value='Input Images'), FloatProgress(value=0.0, max=35887.0), HTML(value='')))"
      ]
     },
     "metadata": {},
     "output_type": "display_data"
    },
    {
     "data": {
      "image/png": "[encoded data removed]",
      "text/plain": [
       "<Figure size 432x288 with 1 Axes>"
      ]
     },
     "metadata": {
      "needs_background": "light"
     },
     "output_type": "display_data"
    },
    {
     "data": {
      "application/vnd.jupyter.widget-view+json": {
       "model_id": "",
       "version_major": 2,
       "version_minor": 0
      },
      "text/plain": [
       "HBox(children=(HTML(value='Input Images'), FloatProgress(value=0.0, max=35887.0), HTML(value='')))"
      ]
     },
     "metadata": {},
     "output_type": "display_data"
    },
    {
     "data": {
      "image/png": "[encoded data removed]",
      "text/plain": [
       "<Figure size 432x288 with 1 Axes>"
      ]
     },
     "metadata": {
      "needs_background": "light"
     },
     "output_type": "display_data"
    },
    {
     "name": "stdout",
     "output_type": "stream",
     "text": [
      "\n",
      "Loss over Epochs: [0.11935676737958287, 0.11901704777174872]\n"
     ]
    },
    {
     "data": {
      "image/png": "[encoded data removed]",
      "text/plain": [
       "<Figure size 432x288 with 1 Axes>"
      ]
     },
     "metadata": {
      "needs_background": "light"
     },
     "output_type": "display_data"
    }
   ],
   "source": [
    "#Perform Training and plotting comparative loss curve\n",
    "\n",
    "n_classes = 7\n",
    "learning_rate = 0.01\n",
    "Epochs = 2\n",
    "\n",
    "Loss = []\n",
    "for i in tqdm.tqdm(range(Epochs),position   = 0,leave = True,desc = \"Epochs\"):\n",
    "    \n",
    "    record = []\n",
    "    prediction = []\n",
    "    for X,Truth in tqdm.tqdm(zip(X_train,Y_train),position   = 1,leave = False,total = len(Y_train), desc = \"Input Images\"):\n",
    "        \n",
    "        X = X.flatten()/255\n",
    "        \n",
    "        #Obtain Predictions\n",
    "        Outputs = Forward_propogation(Model,X,sigmoid_activation)        \n",
    "        \n",
    "        #Calculate error\n",
    "        temp = [0]*n_classes\n",
    "        temp[Truth] = 1\n",
    "        Error = -2 * (temp - Outputs[-1])* learning_rate\n",
    "        \n",
    "        #Save prediction for plotting\n",
    "        record = record + [np.mean(np.square(temp - Outputs[-1]))]\n",
    "        prediction = prediction + [np.argmax(Outputs[-1])]\n",
    "        \n",
    "        #Backpropogate using error\n",
    "        Model = Back_propogation(Model,Outputs,Error,sigmoid_activation)\n",
    "    \n",
    "    plt.figure()\n",
    "    plt.plot([np.mean(record[i:i+1000]) for i in range(0,len(record)-1000,500)])\n",
    "    plt.title(\"Epoch {}\".format(i+1))\n",
    "    plt.show()\n",
    "    \n",
    "    Loss = Loss + [np.mean(record)]\n",
    "\n",
    "plt.figure()\n",
    "plt.plot(Loss)\n",
    "plt.title(\"Loss over Epochs\")\n",
    "plt.show\n",
    "\n",
    "print(\"Loss over Epochs:\",Loss)\n"
   ]
  },
  {
   "cell_type": "code",
   "execution_count": 23,
   "metadata": {},
   "outputs": [
    {
     "data": {
      "text/html": [
       "<div>\n",
       "<style scoped>\n",
       "    .dataframe tbody tr th:only-of-type {\n",
       "        vertical-align: middle;\n",
       "    }\n",
       "\n",
       "    .dataframe tbody tr th {\n",
       "        vertical-align: top;\n",
       "    }\n",
       "\n",
       "    .dataframe thead th {\n",
       "        text-align: right;\n",
       "    }\n",
       "</style>\n",
       "<table border=\"1\" class=\"dataframe\">\n",
       "  <thead>\n",
       "    <tr style=\"text-align: right;\">\n",
       "      <th>Predicted</th>\n",
       "      <th>3</th>\n",
       "    </tr>\n",
       "    <tr>\n",
       "      <th>Actual</th>\n",
       "      <th></th>\n",
       "    </tr>\n",
       "  </thead>\n",
       "  <tbody>\n",
       "    <tr>\n",
       "      <th>0</th>\n",
       "      <td>4953</td>\n",
       "    </tr>\n",
       "    <tr>\n",
       "      <th>1</th>\n",
       "      <td>547</td>\n",
       "    </tr>\n",
       "    <tr>\n",
       "      <th>2</th>\n",
       "      <td>5121</td>\n",
       "    </tr>\n",
       "    <tr>\n",
       "      <th>3</th>\n",
       "      <td>8989</td>\n",
       "    </tr>\n",
       "    <tr>\n",
       "      <th>4</th>\n",
       "      <td>6077</td>\n",
       "    </tr>\n",
       "    <tr>\n",
       "      <th>5</th>\n",
       "      <td>4002</td>\n",
       "    </tr>\n",
       "    <tr>\n",
       "      <th>6</th>\n",
       "      <td>6198</td>\n",
       "    </tr>\n",
       "  </tbody>\n",
       "</table>\n",
       "</div>"
      ],
      "text/plain": [
       "Predicted     3\n",
       "Actual         \n",
       "0          4953\n",
       "1           547\n",
       "2          5121\n",
       "3          8989\n",
       "4          6077\n",
       "5          4002\n",
       "6          6198"
      ]
     },
     "execution_count": 23,
     "metadata": {},
     "output_type": "execute_result"
    }
   ],
   "source": [
    "#Display confusion Matrix\n",
    "\n",
    "y_actu = pd.Series(Y_train, name='Actual')\n",
    "y_pred = pd.Series(prediction, name='Predicted')\n",
    "df_confusion = pd.crosstab(y_actu, y_pred)\n",
    "df_confusion"
   ]
  },
  {
   "cell_type": "code",
   "execution_count": 24,
   "metadata": {},
   "outputs": [
    {
     "name": "stdout",
     "output_type": "stream",
     "text": [
      "Accuracy is:  0.25048067545350683\n",
      "Precision, recall and f1-score cannot be calculated since this is not binary classification\n"
     ]
    }
   ],
   "source": [
    "print(\"Accuracy is: \",Accuracy(y_actu,y_pred))\n",
    "print(\"Precision, recall and f1-score cannot be calculated since this is not binary classification\")"
   ]
  },
  {
   "cell_type": "code",
   "execution_count": 25,
   "metadata": {},
   "outputs": [],
   "source": [
    "model_5 = keras.models.Sequential()\n",
    "model_5.add(keras.layers.Dense(10, input_dim=48*48, activation='sigmoid'))\n",
    "model_5.add(keras.layers.Dense(10, activation='sigmoid'))\n",
    "model_5.add(keras.layers.Dense(7, activation='softmax'))"
   ]
  },
  {
   "cell_type": "code",
   "execution_count": 26,
   "metadata": {},
   "outputs": [],
   "source": [
    "model_5.compile(loss='categorical_crossentropy', optimizer='adam', metrics=['accuracy'])"
   ]
  },
  {
   "cell_type": "code",
   "execution_count": 28,
   "metadata": {},
   "outputs": [
    {
     "name": "stdout",
     "output_type": "stream",
     "text": [
      "Epoch 1/2\n",
      "35887/35887 [==============================] - 40s 1ms/step - loss: 1.8155 - accuracy: 0.2492\n",
      "Epoch 2/2\n",
      "35887/35887 [==============================] - 40s 1ms/step - loss: 1.8130 - accuracy: 0.2505\n"
     ]
    },
    {
     "data": {
      "text/plain": [
       "<keras.callbacks.History at 0x21b5de485e0>"
      ]
     },
     "execution_count": 28,
     "metadata": {},
     "output_type": "execute_result"
    }
   ],
   "source": [
    "# encode class values as integers\n",
    "\n",
    "Y_train_encoded = keras.utils.to_categorical(Y_train)\n",
    "\n",
    "model_5.fit(x= X_train.reshape(len(X_train),48*48),y= Y_train_encoded, batch_size=1, epochs=Epochs, verbose=1)"
   ]
  }
 ],
 "metadata": {
  "kernelspec": {
   "display_name": "Python 3",
   "language": "python",
   "name": "python3"
  },
  "language_info": {
   "codemirror_mode": {
    "name": "ipython",
    "version": 3
   },
   "file_extension": ".py",
   "mimetype": "text/x-python",
   "name": "python",
   "nbconvert_exporter": "python",
   "pygments_lexer": "ipython3",
   "version": "3.8.5"
  }
 },
 "nbformat": 4,
 "nbformat_minor": 4
}
