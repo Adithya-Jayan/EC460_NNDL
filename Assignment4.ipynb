{
 "cells": [
  {
   "cell_type": "markdown",
   "metadata": {},
   "source": [
    "## Assignment 4:CNN with Applications\n",
    "### Adithya Jayan - 181EC102 | Anvith M - 181EC105"
   ]
  },
  {
   "cell_type": "markdown",
   "metadata": {},
   "source": [
    "##### Q.1.\n",
    "- (i) Write python code for plotting the following activation functions and their derivative for the input x in the range of -20 to 20. \n",
    "    - (a) ReLU \n",
    "    - (b) LekayReLU \n",
    "    - (c) Parametric ReLU \n",
    "    - (d) Exponential ReLU(ELU) \n",
    "    - (e) Scaled Exponential Linear Units (SELU) \n",
    "    - (f) SoftPlus (Smooth ReLU) \n",
    "- (ii) Write python from scratch for 2D Linear convolution between input=np.array([[1,2,3],[4,5,6],[7,8,9]])and filter=np.array([[1,2,1],[0,0,0],[-1,-2,-1]]) \n",
    "    - (b).Write python from scratch for 2D Linear convolution by Toeplitz matrix method between input image(lena.jpg) and kernel = np.array([[1, 2, 1],[2, 4, 2],[1, 2, 1]]))/16 \n",
    "    - (c) Compute number of multiplications and parameters required for 2D Linear Convolution in part (a) and part(b) (d) Apply Max pooling and Average pooling on convoled image in part (b) \n",
    "- (iii) \n",
    "    - (a)Write python from scratch for 2D Spatial Separbale convolution between input image(lena.jpg) and Gausian filter = np.array([1,4,6,4,1],[4,16,24,16,4],[6,24,36,24,6],[4,16,24,16,4],[1,4,6,4,1])/256 \n",
    "    - (b) Compute number of multiplications and parameters required for2D Spatial Separbale convolution "
   ]
  },
  {
   "cell_type": "code",
   "execution_count": null,
   "metadata": {},
   "outputs": [],
   "source": []
  },
  {
   "cell_type": "markdown",
   "metadata": {},
   "source": [
    "    \n",
    "##### Q. 2. Build a CNN(LeNet5) model from scratch to recognize handwritten digit from the optical handwritten digit dataset(Use Sklearn Dataset and split dataset into training dataset (80%) and testing dataset (20%) ). Use a Stochastic gradient descent algorithm to learn model with parameters for α = 0.01 and random parameters of the CNN model for \n",
    "- (a) Softmax loss function \n",
    "- (b) Focal loss function.\n",
    "    - (i) Plot a comparative loss curve for at least 200 epochs. \n",
    "    - (ii) Print confusion matrix, calculate classification metrics such as precision, recall, f1-score and accuracy on test datset and ROC curve for each loss function. \n",
    "    - (iii) Repeat part (i) to (ii) using an Adam gradient descent algorithm \n",
    "    - (iv) Implement above CNN model with Keras/Tensorflow/Pytorch Library and verify the above results. "
   ]
  },
  {
   "cell_type": "code",
   "execution_count": null,
   "metadata": {},
   "outputs": [],
   "source": []
  },
  {
   "cell_type": "markdown",
   "metadata": {},
   "source": [
    "##### Q.3. Build CNN(LeNet5) model from scratch to recognize diabetes-fromPima-Indians-diabetes\u0002database (i.e. https://github.com/duonghuuphuc/keras/tree/master/dataset ). Use Adamgradient descent algorithm to learn model with parameters for α = 0.01 and random parameters of theCNN model for Binary cross entropy loss function. \n",
    "- (i) Visualize input dataset and Plot comparative loss curve for at least 200 epochs. \n",
    "- (ii) Print confusion matrix, calculate classification metrics such as precision, recall, f1-score and accuracy on test datsetand ROC curve for each loss function. \n",
    "- (iii) Implement above CNN model with Keras/Tensorflow/Pytorch Library and verify the above results."
   ]
  },
  {
   "cell_type": "code",
   "execution_count": null,
   "metadata": {},
   "outputs": [],
   "source": []
  },
  {
   "cell_type": "markdown",
   "metadata": {},
   "source": [
    "##### Q. 4. Build a CNNmodel from scratch to recognize human emotion using Facial emotionrecognition dataset (FER2013) (https://github.com/gitshanks/fer2013)(split dataset into training dataset (80%) and testing dataset (20%) ). For implementation, use a Adam gradient descent algorithm to learn model with parameters for α = 0.01 and random parameters of the CNN model forthe Softmax loss function \n",
    "- (i)Visualize Facial emotion recognition dataset (FER2013). \n",
    "- (ii) Plot a comparative loss curve for at least 200 epochs. \n",
    "- (iii)Print confusion matrix, calculate classification metrics such as precision, recall, f1-score and accuracy on test dataset and ROC curve \n",
    "- (iv) Implement above CNN model withKeras/Tensorflow/Pytorch Library and verify the above results."
   ]
  },
  {
   "cell_type": "code",
   "execution_count": null,
   "metadata": {},
   "outputs": [],
   "source": []
  }
 ],
 "metadata": {
  "kernelspec": {
   "display_name": "Python 3",
   "language": "python",
   "name": "python3"
  },
  "language_info": {
   "codemirror_mode": {
    "name": "ipython",
    "version": 3
   },
   "file_extension": ".py",
   "mimetype": "text/x-python",
   "name": "python",
   "nbconvert_exporter": "python",
   "pygments_lexer": "ipython3",
   "version": "3.8.5"
  }
 },
 "nbformat": 4,
 "nbformat_minor": 4
}
